{
 "cells": [
  {
   "cell_type": "code",
   "execution_count": 1,
   "id": "1c1dbb32",
   "metadata": {},
   "outputs": [],
   "source": [
    "import pandas as pd"
   ]
  },
  {
   "cell_type": "code",
   "execution_count": 2,
   "id": "ef5e76e2",
   "metadata": {},
   "outputs": [
    {
     "data": {
      "text/html": [
       "<div>\n",
       "<style scoped>\n",
       "    .dataframe tbody tr th:only-of-type {\n",
       "        vertical-align: middle;\n",
       "    }\n",
       "\n",
       "    .dataframe tbody tr th {\n",
       "        vertical-align: top;\n",
       "    }\n",
       "\n",
       "    .dataframe thead th {\n",
       "        text-align: right;\n",
       "    }\n",
       "</style>\n",
       "<table border=\"1\" class=\"dataframe\">\n",
       "  <thead>\n",
       "    <tr style=\"text-align: right;\">\n",
       "      <th></th>\n",
       "      <th>농지면적순위</th>\n",
       "      <th>2021</th>\n",
       "      <th>2020</th>\n",
       "      <th>2019</th>\n",
       "      <th>2018</th>\n",
       "    </tr>\n",
       "  </thead>\n",
       "  <tbody>\n",
       "    <tr>\n",
       "      <th>서울</th>\n",
       "      <td>4</td>\n",
       "      <td>1116</td>\n",
       "      <td>628</td>\n",
       "      <td>678</td>\n",
       "      <td>712</td>\n",
       "    </tr>\n",
       "    <tr>\n",
       "      <th>부산</th>\n",
       "      <td>3</td>\n",
       "      <td>12259</td>\n",
       "      <td>11075</td>\n",
       "      <td>12700</td>\n",
       "      <td>13597</td>\n",
       "    </tr>\n",
       "    <tr>\n",
       "      <th>대구</th>\n",
       "      <td>2</td>\n",
       "      <td>16699</td>\n",
       "      <td>15695</td>\n",
       "      <td>15148</td>\n",
       "      <td>16052</td>\n",
       "    </tr>\n",
       "    <tr>\n",
       "      <th>인천</th>\n",
       "      <td>1</td>\n",
       "      <td>65119</td>\n",
       "      <td>56013</td>\n",
       "      <td>55443</td>\n",
       "      <td>56024</td>\n",
       "    </tr>\n",
       "  </tbody>\n",
       "</table>\n",
       "</div>"
      ],
      "text/plain": [
       "    농지면적순위   2021   2020   2019   2018\n",
       "서울       4   1116    628    678    712\n",
       "부산       3  12259  11075  12700  13597\n",
       "대구       2  16699  15695  15148  16052\n",
       "인천       1  65119  56013  55443  56024"
      ]
     },
     "execution_count": 2,
     "metadata": {},
     "output_type": "execute_result"
    }
   ],
   "source": [
    "data = {\n",
    "'2021' : [1116, 12259, 16699, 65119],\n",
    "'2020' : [628, 11075, 15695, 56013],\n",
    "'2019' : [678,12700,15148,55443],\n",
    "'2018' : [712, 13597, 16052, 56024],\n",
    "'농지면적순위' : [4,3,2,1]\n",
    "}\n",
    "columns = ['농지면적순위', '2021', '2020', '2019', '2018']\n",
    "index = ['서울','부산','대구','인천']\n",
    "df = pd.DataFrame(data, index=index, columns=columns)\n",
    "df"
   ]
  },
  {
   "cell_type": "code",
   "execution_count": 3,
   "id": "43719990",
   "metadata": {},
   "outputs": [
    {
     "data": {
      "text/plain": [
       "Index(['농지면적순위', '2021', '2020', '2019', '2018'], dtype='object')"
      ]
     },
     "execution_count": 3,
     "metadata": {},
     "output_type": "execute_result"
    }
   ],
   "source": [
    "df.columns"
   ]
  },
  {
   "cell_type": "code",
   "execution_count": 4,
   "id": "e90dc1ce",
   "metadata": {},
   "outputs": [
    {
     "data": {
      "text/plain": [
       "Index(['서울', '부산', '대구', '인천'], dtype='object')"
      ]
     },
     "execution_count": 4,
     "metadata": {},
     "output_type": "execute_result"
    }
   ],
   "source": [
    "df.index"
   ]
  },
  {
   "cell_type": "code",
   "execution_count": 5,
   "id": "196797e1",
   "metadata": {},
   "outputs": [
    {
     "data": {
      "text/plain": [
       "array([[    4,  1116,   628,   678,   712],\n",
       "       [    3, 12259, 11075, 12700, 13597],\n",
       "       [    2, 16699, 15695, 15148, 16052],\n",
       "       [    1, 65119, 56013, 55443, 56024]], dtype=int64)"
      ]
     },
     "execution_count": 5,
     "metadata": {},
     "output_type": "execute_result"
    }
   ],
   "source": [
    "df.values"
   ]
  },
  {
   "cell_type": "code",
   "execution_count": 6,
   "id": "a810668d",
   "metadata": {},
   "outputs": [
    {
     "name": "stdout",
     "output_type": "stream",
     "text": [
      "<class 'pandas.core.frame.DataFrame'>\n",
      "Index: 4 entries, 서울 to 인천\n",
      "Data columns (total 5 columns):\n",
      " #   Column  Non-Null Count  Dtype\n",
      "---  ------  --------------  -----\n",
      " 0   농지면적순위  4 non-null      int64\n",
      " 1   2021    4 non-null      int64\n",
      " 2   2020    4 non-null      int64\n",
      " 3   2019    4 non-null      int64\n",
      " 4   2018    4 non-null      int64\n",
      "dtypes: int64(5)\n",
      "memory usage: 192.0+ bytes\n"
     ]
    }
   ],
   "source": [
    "df.info()"
   ]
  },
  {
   "cell_type": "code",
   "execution_count": 7,
   "id": "5de2ea18",
   "metadata": {},
   "outputs": [],
   "source": [
    "df.index.name = '지역'"
   ]
  },
  {
   "cell_type": "code",
   "execution_count": 8,
   "id": "12a7561a",
   "metadata": {},
   "outputs": [
    {
     "data": {
      "text/html": [
       "<div>\n",
       "<style scoped>\n",
       "    .dataframe tbody tr th:only-of-type {\n",
       "        vertical-align: middle;\n",
       "    }\n",
       "\n",
       "    .dataframe tbody tr th {\n",
       "        vertical-align: top;\n",
       "    }\n",
       "\n",
       "    .dataframe thead th {\n",
       "        text-align: right;\n",
       "    }\n",
       "</style>\n",
       "<table border=\"1\" class=\"dataframe\">\n",
       "  <thead>\n",
       "    <tr style=\"text-align: right;\">\n",
       "      <th></th>\n",
       "      <th>농지면적순위</th>\n",
       "      <th>2021</th>\n",
       "      <th>2020</th>\n",
       "      <th>2019</th>\n",
       "      <th>2018</th>\n",
       "    </tr>\n",
       "    <tr>\n",
       "      <th>지역</th>\n",
       "      <th></th>\n",
       "      <th></th>\n",
       "      <th></th>\n",
       "      <th></th>\n",
       "      <th></th>\n",
       "    </tr>\n",
       "  </thead>\n",
       "  <tbody>\n",
       "    <tr>\n",
       "      <th>서울</th>\n",
       "      <td>4</td>\n",
       "      <td>1116</td>\n",
       "      <td>628</td>\n",
       "      <td>678</td>\n",
       "      <td>712</td>\n",
       "    </tr>\n",
       "    <tr>\n",
       "      <th>부산</th>\n",
       "      <td>3</td>\n",
       "      <td>12259</td>\n",
       "      <td>11075</td>\n",
       "      <td>12700</td>\n",
       "      <td>13597</td>\n",
       "    </tr>\n",
       "    <tr>\n",
       "      <th>대구</th>\n",
       "      <td>2</td>\n",
       "      <td>16699</td>\n",
       "      <td>15695</td>\n",
       "      <td>15148</td>\n",
       "      <td>16052</td>\n",
       "    </tr>\n",
       "    <tr>\n",
       "      <th>인천</th>\n",
       "      <td>1</td>\n",
       "      <td>65119</td>\n",
       "      <td>56013</td>\n",
       "      <td>55443</td>\n",
       "      <td>56024</td>\n",
       "    </tr>\n",
       "  </tbody>\n",
       "</table>\n",
       "</div>"
      ],
      "text/plain": [
       "    농지면적순위   2021   2020   2019   2018\n",
       "지역                                    \n",
       "서울       4   1116    628    678    712\n",
       "부산       3  12259  11075  12700  13597\n",
       "대구       2  16699  15695  15148  16052\n",
       "인천       1  65119  56013  55443  56024"
      ]
     },
     "execution_count": 8,
     "metadata": {},
     "output_type": "execute_result"
    }
   ],
   "source": [
    "df"
   ]
  },
  {
   "cell_type": "code",
   "execution_count": 9,
   "id": "abee09ce",
   "metadata": {},
   "outputs": [],
   "source": [
    "df.columns.name = '특성'"
   ]
  },
  {
   "cell_type": "code",
   "execution_count": 10,
   "id": "dfc0841a",
   "metadata": {},
   "outputs": [
    {
     "name": "stdout",
     "output_type": "stream",
     "text": [
      "<class 'pandas.core.frame.DataFrame'>\n",
      "Index: 4 entries, 서울 to 인천\n",
      "Data columns (total 5 columns):\n",
      " #   Column  Non-Null Count  Dtype\n",
      "---  ------  --------------  -----\n",
      " 0   농지면적순위  4 non-null      int64\n",
      " 1   2021    4 non-null      int64\n",
      " 2   2020    4 non-null      int64\n",
      " 3   2019    4 non-null      int64\n",
      " 4   2018    4 non-null      int64\n",
      "dtypes: int64(5)\n",
      "memory usage: 192.0+ bytes\n"
     ]
    }
   ],
   "source": [
    "df.info()"
   ]
  },
  {
   "cell_type": "code",
   "execution_count": 11,
   "id": "efcc0750",
   "metadata": {},
   "outputs": [],
   "source": [
    "df['2018-2021 변화율'] = ((df['2021'] - df['2018'])/ df['2018']* 100)"
   ]
  },
  {
   "cell_type": "code",
   "execution_count": 12,
   "id": "440d2f63",
   "metadata": {},
   "outputs": [],
   "source": [
    "df = df[['2018', '2019','2020','2021','농지면적순위','2018-2021 변화율']]"
   ]
  },
  {
   "cell_type": "code",
   "execution_count": 13,
   "id": "bb714498",
   "metadata": {},
   "outputs": [
    {
     "data": {
      "text/html": [
       "<div>\n",
       "<style scoped>\n",
       "    .dataframe tbody tr th:only-of-type {\n",
       "        vertical-align: middle;\n",
       "    }\n",
       "\n",
       "    .dataframe tbody tr th {\n",
       "        vertical-align: top;\n",
       "    }\n",
       "\n",
       "    .dataframe thead th {\n",
       "        text-align: right;\n",
       "    }\n",
       "</style>\n",
       "<table border=\"1\" class=\"dataframe\">\n",
       "  <thead>\n",
       "    <tr style=\"text-align: right;\">\n",
       "      <th>특성</th>\n",
       "      <th>2018</th>\n",
       "      <th>2019</th>\n",
       "      <th>2020</th>\n",
       "      <th>2021</th>\n",
       "      <th>농지면적순위</th>\n",
       "      <th>2018-2021 변화율</th>\n",
       "    </tr>\n",
       "    <tr>\n",
       "      <th>지역</th>\n",
       "      <th></th>\n",
       "      <th></th>\n",
       "      <th></th>\n",
       "      <th></th>\n",
       "      <th></th>\n",
       "      <th></th>\n",
       "    </tr>\n",
       "  </thead>\n",
       "  <tbody>\n",
       "    <tr>\n",
       "      <th>서울</th>\n",
       "      <td>712</td>\n",
       "      <td>678</td>\n",
       "      <td>628</td>\n",
       "      <td>1116</td>\n",
       "      <td>4</td>\n",
       "      <td>56.741573</td>\n",
       "    </tr>\n",
       "    <tr>\n",
       "      <th>부산</th>\n",
       "      <td>13597</td>\n",
       "      <td>12700</td>\n",
       "      <td>11075</td>\n",
       "      <td>12259</td>\n",
       "      <td>3</td>\n",
       "      <td>-9.840406</td>\n",
       "    </tr>\n",
       "    <tr>\n",
       "      <th>대구</th>\n",
       "      <td>16052</td>\n",
       "      <td>15148</td>\n",
       "      <td>15695</td>\n",
       "      <td>16699</td>\n",
       "      <td>2</td>\n",
       "      <td>4.030650</td>\n",
       "    </tr>\n",
       "    <tr>\n",
       "      <th>인천</th>\n",
       "      <td>56024</td>\n",
       "      <td>55443</td>\n",
       "      <td>56013</td>\n",
       "      <td>65119</td>\n",
       "      <td>1</td>\n",
       "      <td>16.234114</td>\n",
       "    </tr>\n",
       "  </tbody>\n",
       "</table>\n",
       "</div>"
      ],
      "text/plain": [
       "특성   2018   2019   2020   2021  농지면적순위  2018-2021 변화율\n",
       "지역                                                   \n",
       "서울    712    678    628   1116       4      56.741573\n",
       "부산  13597  12700  11075  12259       3      -9.840406\n",
       "대구  16052  15148  15695  16699       2       4.030650\n",
       "인천  56024  55443  56013  65119       1      16.234114"
      ]
     },
     "execution_count": 13,
     "metadata": {},
     "output_type": "execute_result"
    }
   ],
   "source": [
    "df"
   ]
  },
  {
   "cell_type": "code",
   "execution_count": 14,
   "id": "539a9b5e",
   "metadata": {},
   "outputs": [
    {
     "data": {
      "text/html": [
       "<div>\n",
       "<style scoped>\n",
       "    .dataframe tbody tr th:only-of-type {\n",
       "        vertical-align: middle;\n",
       "    }\n",
       "\n",
       "    .dataframe tbody tr th {\n",
       "        vertical-align: top;\n",
       "    }\n",
       "\n",
       "    .dataframe thead th {\n",
       "        text-align: right;\n",
       "    }\n",
       "</style>\n",
       "<table border=\"1\" class=\"dataframe\">\n",
       "  <thead>\n",
       "    <tr style=\"text-align: right;\">\n",
       "      <th>지역</th>\n",
       "      <th>서울</th>\n",
       "      <th>부산</th>\n",
       "      <th>대구</th>\n",
       "      <th>인천</th>\n",
       "    </tr>\n",
       "    <tr>\n",
       "      <th>특성</th>\n",
       "      <th></th>\n",
       "      <th></th>\n",
       "      <th></th>\n",
       "      <th></th>\n",
       "    </tr>\n",
       "  </thead>\n",
       "  <tbody>\n",
       "    <tr>\n",
       "      <th>2018</th>\n",
       "      <td>712</td>\n",
       "      <td>13597</td>\n",
       "      <td>16052</td>\n",
       "      <td>56024</td>\n",
       "    </tr>\n",
       "    <tr>\n",
       "      <th>2019</th>\n",
       "      <td>678</td>\n",
       "      <td>12700</td>\n",
       "      <td>15148</td>\n",
       "      <td>55443</td>\n",
       "    </tr>\n",
       "    <tr>\n",
       "      <th>2020</th>\n",
       "      <td>628</td>\n",
       "      <td>11075</td>\n",
       "      <td>15695</td>\n",
       "      <td>56013</td>\n",
       "    </tr>\n",
       "    <tr>\n",
       "      <th>2021</th>\n",
       "      <td>1116</td>\n",
       "      <td>12259</td>\n",
       "      <td>16699</td>\n",
       "      <td>65119</td>\n",
       "    </tr>\n",
       "    <tr>\n",
       "      <th>농지면적순위</th>\n",
       "      <td>4</td>\n",
       "      <td>3</td>\n",
       "      <td>2</td>\n",
       "      <td>1</td>\n",
       "    </tr>\n",
       "    <tr>\n",
       "      <th>2018-2021 변화율</th>\n",
       "      <td>56</td>\n",
       "      <td>-9</td>\n",
       "      <td>4</td>\n",
       "      <td>16</td>\n",
       "    </tr>\n",
       "  </tbody>\n",
       "</table>\n",
       "</div>"
      ],
      "text/plain": [
       "지역               서울     부산     대구     인천\n",
       "특성                                      \n",
       "2018            712  13597  16052  56024\n",
       "2019            678  12700  15148  55443\n",
       "2020            628  11075  15695  56013\n",
       "2021           1116  12259  16699  65119\n",
       "농지면적순위            4      3      2      1\n",
       "2018-2021 변화율    56     -9      4     16"
      ]
     },
     "execution_count": 14,
     "metadata": {},
     "output_type": "execute_result"
    }
   ],
   "source": [
    "df['2018-2021 변화율'] = df['2018-2021 변화율'].astype(int)\n",
    "df.T"
   ]
  },
  {
   "cell_type": "code",
   "execution_count": 15,
   "id": "2baca89e",
   "metadata": {},
   "outputs": [
    {
     "data": {
      "text/plain": [
       "712"
      ]
     },
     "execution_count": 15,
     "metadata": {},
     "output_type": "execute_result"
    }
   ],
   "source": [
    "df['2018']['서울']"
   ]
  },
  {
   "cell_type": "code",
   "execution_count": 16,
   "id": "183f6da9",
   "metadata": {},
   "outputs": [],
   "source": [
    "temp = pd.Series(['a','b','c','d','e'])"
   ]
  },
  {
   "cell_type": "code",
   "execution_count": 17,
   "id": "a4f823f4",
   "metadata": {},
   "outputs": [
    {
     "data": {
      "text/plain": [
       "'a'"
      ]
     },
     "execution_count": 17,
     "metadata": {},
     "output_type": "execute_result"
    }
   ],
   "source": [
    "temp[0]"
   ]
  },
  {
   "cell_type": "code",
   "execution_count": 18,
   "id": "7ed9f85d",
   "metadata": {},
   "outputs": [
    {
     "name": "stdout",
     "output_type": "stream",
     "text": [
      "1116\n",
      "1116\n"
     ]
    }
   ],
   "source": [
    "print(df['2021']['서울'])\n",
    "print(df['2021'][0])"
   ]
  },
  {
   "cell_type": "code",
   "execution_count": 19,
   "id": "6a4bb80d",
   "metadata": {},
   "outputs": [
    {
     "data": {
      "text/html": [
       "<div>\n",
       "<style scoped>\n",
       "    .dataframe tbody tr th:only-of-type {\n",
       "        vertical-align: middle;\n",
       "    }\n",
       "\n",
       "    .dataframe tbody tr th {\n",
       "        vertical-align: top;\n",
       "    }\n",
       "\n",
       "    .dataframe thead th {\n",
       "        text-align: right;\n",
       "    }\n",
       "</style>\n",
       "<table border=\"1\" class=\"dataframe\">\n",
       "  <thead>\n",
       "    <tr style=\"text-align: right;\">\n",
       "      <th>특성</th>\n",
       "      <th>2018</th>\n",
       "      <th>2019</th>\n",
       "      <th>2020</th>\n",
       "      <th>2021</th>\n",
       "      <th>농지면적순위</th>\n",
       "      <th>2018-2021 변화율</th>\n",
       "    </tr>\n",
       "    <tr>\n",
       "      <th>지역</th>\n",
       "      <th></th>\n",
       "      <th></th>\n",
       "      <th></th>\n",
       "      <th></th>\n",
       "      <th></th>\n",
       "      <th></th>\n",
       "    </tr>\n",
       "  </thead>\n",
       "  <tbody>\n",
       "    <tr>\n",
       "      <th>서울</th>\n",
       "      <td>712</td>\n",
       "      <td>678</td>\n",
       "      <td>628</td>\n",
       "      <td>1116</td>\n",
       "      <td>4</td>\n",
       "      <td>56</td>\n",
       "    </tr>\n",
       "    <tr>\n",
       "      <th>부산</th>\n",
       "      <td>13597</td>\n",
       "      <td>12700</td>\n",
       "      <td>11075</td>\n",
       "      <td>12259</td>\n",
       "      <td>3</td>\n",
       "      <td>-9</td>\n",
       "    </tr>\n",
       "    <tr>\n",
       "      <th>대구</th>\n",
       "      <td>16052</td>\n",
       "      <td>15148</td>\n",
       "      <td>15695</td>\n",
       "      <td>16699</td>\n",
       "      <td>2</td>\n",
       "      <td>4</td>\n",
       "    </tr>\n",
       "    <tr>\n",
       "      <th>인천</th>\n",
       "      <td>56024</td>\n",
       "      <td>55443</td>\n",
       "      <td>56013</td>\n",
       "      <td>65119</td>\n",
       "      <td>1</td>\n",
       "      <td>16</td>\n",
       "    </tr>\n",
       "  </tbody>\n",
       "</table>\n",
       "</div>"
      ],
      "text/plain": [
       "특성   2018   2019   2020   2021  농지면적순위  2018-2021 변화율\n",
       "지역                                                   \n",
       "서울    712    678    628   1116       4             56\n",
       "부산  13597  12700  11075  12259       3             -9\n",
       "대구  16052  15148  15695  16699       2              4\n",
       "인천  56024  55443  56013  65119       1             16"
      ]
     },
     "execution_count": 19,
     "metadata": {},
     "output_type": "execute_result"
    }
   ],
   "source": [
    "df"
   ]
  },
  {
   "cell_type": "code",
   "execution_count": 20,
   "id": "2b866eb9",
   "metadata": {},
   "outputs": [
    {
     "data": {
      "text/html": [
       "<div>\n",
       "<style scoped>\n",
       "    .dataframe tbody tr th:only-of-type {\n",
       "        vertical-align: middle;\n",
       "    }\n",
       "\n",
       "    .dataframe tbody tr th {\n",
       "        vertical-align: top;\n",
       "    }\n",
       "\n",
       "    .dataframe thead th {\n",
       "        text-align: right;\n",
       "    }\n",
       "</style>\n",
       "<table border=\"1\" class=\"dataframe\">\n",
       "  <thead>\n",
       "    <tr style=\"text-align: right;\">\n",
       "      <th>특성</th>\n",
       "      <th>2018</th>\n",
       "      <th>2019</th>\n",
       "      <th>2020</th>\n",
       "      <th>2021</th>\n",
       "      <th>농지면적순위</th>\n",
       "      <th>2018-2021 변화율</th>\n",
       "    </tr>\n",
       "    <tr>\n",
       "      <th>지역</th>\n",
       "      <th></th>\n",
       "      <th></th>\n",
       "      <th></th>\n",
       "      <th></th>\n",
       "      <th></th>\n",
       "      <th></th>\n",
       "    </tr>\n",
       "  </thead>\n",
       "  <tbody>\n",
       "    <tr>\n",
       "      <th>부산</th>\n",
       "      <td>13597</td>\n",
       "      <td>12700</td>\n",
       "      <td>11075</td>\n",
       "      <td>12259</td>\n",
       "      <td>3</td>\n",
       "      <td>-9</td>\n",
       "    </tr>\n",
       "    <tr>\n",
       "      <th>대구</th>\n",
       "      <td>16052</td>\n",
       "      <td>15148</td>\n",
       "      <td>15695</td>\n",
       "      <td>16699</td>\n",
       "      <td>2</td>\n",
       "      <td>4</td>\n",
       "    </tr>\n",
       "    <tr>\n",
       "      <th>인천</th>\n",
       "      <td>56024</td>\n",
       "      <td>55443</td>\n",
       "      <td>56013</td>\n",
       "      <td>65119</td>\n",
       "      <td>1</td>\n",
       "      <td>16</td>\n",
       "    </tr>\n",
       "    <tr>\n",
       "      <th>서울</th>\n",
       "      <td>712</td>\n",
       "      <td>678</td>\n",
       "      <td>628</td>\n",
       "      <td>1116</td>\n",
       "      <td>4</td>\n",
       "      <td>56</td>\n",
       "    </tr>\n",
       "  </tbody>\n",
       "</table>\n",
       "</div>"
      ],
      "text/plain": [
       "특성   2018   2019   2020   2021  농지면적순위  2018-2021 변화율\n",
       "지역                                                   \n",
       "부산  13597  12700  11075  12259       3             -9\n",
       "대구  16052  15148  15695  16699       2              4\n",
       "인천  56024  55443  56013  65119       1             16\n",
       "서울    712    678    628   1116       4             56"
      ]
     },
     "execution_count": 20,
     "metadata": {},
     "output_type": "execute_result"
    }
   ],
   "source": [
    "df.sort_values(by='2018-2021 변화율')"
   ]
  },
  {
   "cell_type": "code",
   "execution_count": 21,
   "id": "36419334",
   "metadata": {},
   "outputs": [
    {
     "data": {
      "text/plain": [
       "[1, 2]"
      ]
     },
     "execution_count": 21,
     "metadata": {},
     "output_type": "execute_result"
    }
   ],
   "source": [
    "temp_list = [1,2,3,4]\n",
    "temp_list[:2]"
   ]
  },
  {
   "cell_type": "code",
   "execution_count": 22,
   "id": "268d7636",
   "metadata": {},
   "outputs": [
    {
     "data": {
      "text/html": [
       "<div>\n",
       "<style scoped>\n",
       "    .dataframe tbody tr th:only-of-type {\n",
       "        vertical-align: middle;\n",
       "    }\n",
       "\n",
       "    .dataframe tbody tr th {\n",
       "        vertical-align: top;\n",
       "    }\n",
       "\n",
       "    .dataframe thead th {\n",
       "        text-align: right;\n",
       "    }\n",
       "</style>\n",
       "<table border=\"1\" class=\"dataframe\">\n",
       "  <thead>\n",
       "    <tr style=\"text-align: right;\">\n",
       "      <th>특성</th>\n",
       "      <th>2018</th>\n",
       "      <th>2019</th>\n",
       "      <th>2020</th>\n",
       "      <th>2021</th>\n",
       "      <th>농지면적순위</th>\n",
       "      <th>2018-2021 변화율</th>\n",
       "    </tr>\n",
       "    <tr>\n",
       "      <th>지역</th>\n",
       "      <th></th>\n",
       "      <th></th>\n",
       "      <th></th>\n",
       "      <th></th>\n",
       "      <th></th>\n",
       "      <th></th>\n",
       "    </tr>\n",
       "  </thead>\n",
       "  <tbody>\n",
       "    <tr>\n",
       "      <th>부산</th>\n",
       "      <td>13597</td>\n",
       "      <td>12700</td>\n",
       "      <td>11075</td>\n",
       "      <td>12259</td>\n",
       "      <td>3</td>\n",
       "      <td>-9</td>\n",
       "    </tr>\n",
       "  </tbody>\n",
       "</table>\n",
       "</div>"
      ],
      "text/plain": [
       "특성   2018   2019   2020   2021  농지면적순위  2018-2021 변화율\n",
       "지역                                                   \n",
       "부산  13597  12700  11075  12259       3             -9"
      ]
     },
     "execution_count": 22,
     "metadata": {},
     "output_type": "execute_result"
    }
   ],
   "source": [
    "df[1:2]"
   ]
  },
  {
   "cell_type": "code",
   "execution_count": 23,
   "id": "ee1d48bc",
   "metadata": {},
   "outputs": [
    {
     "data": {
      "text/html": [
       "<div>\n",
       "<style scoped>\n",
       "    .dataframe tbody tr th:only-of-type {\n",
       "        vertical-align: middle;\n",
       "    }\n",
       "\n",
       "    .dataframe tbody tr th {\n",
       "        vertical-align: top;\n",
       "    }\n",
       "\n",
       "    .dataframe thead th {\n",
       "        text-align: right;\n",
       "    }\n",
       "</style>\n",
       "<table border=\"1\" class=\"dataframe\">\n",
       "  <thead>\n",
       "    <tr style=\"text-align: right;\">\n",
       "      <th>특성</th>\n",
       "      <th>2018</th>\n",
       "      <th>2019</th>\n",
       "      <th>2020</th>\n",
       "      <th>2021</th>\n",
       "      <th>농지면적순위</th>\n",
       "      <th>2018-2021 변화율</th>\n",
       "    </tr>\n",
       "    <tr>\n",
       "      <th>지역</th>\n",
       "      <th></th>\n",
       "      <th></th>\n",
       "      <th></th>\n",
       "      <th></th>\n",
       "      <th></th>\n",
       "      <th></th>\n",
       "    </tr>\n",
       "  </thead>\n",
       "  <tbody>\n",
       "    <tr>\n",
       "      <th>서울</th>\n",
       "      <td>712</td>\n",
       "      <td>678</td>\n",
       "      <td>628</td>\n",
       "      <td>1116</td>\n",
       "      <td>4</td>\n",
       "      <td>56</td>\n",
       "    </tr>\n",
       "    <tr>\n",
       "      <th>부산</th>\n",
       "      <td>13597</td>\n",
       "      <td>12700</td>\n",
       "      <td>11075</td>\n",
       "      <td>12259</td>\n",
       "      <td>3</td>\n",
       "      <td>-9</td>\n",
       "    </tr>\n",
       "  </tbody>\n",
       "</table>\n",
       "</div>"
      ],
      "text/plain": [
       "특성   2018   2019   2020   2021  농지면적순위  2018-2021 변화율\n",
       "지역                                                   \n",
       "서울    712    678    628   1116       4             56\n",
       "부산  13597  12700  11075  12259       3             -9"
      ]
     },
     "execution_count": 23,
     "metadata": {},
     "output_type": "execute_result"
    }
   ],
   "source": [
    "df['서울':'부산']"
   ]
  },
  {
   "cell_type": "code",
   "execution_count": 24,
   "id": "d82c7d66",
   "metadata": {},
   "outputs": [
    {
     "data": {
      "text/html": [
       "<div>\n",
       "<style scoped>\n",
       "    .dataframe tbody tr th:only-of-type {\n",
       "        vertical-align: middle;\n",
       "    }\n",
       "\n",
       "    .dataframe tbody tr th {\n",
       "        vertical-align: top;\n",
       "    }\n",
       "\n",
       "    .dataframe thead th {\n",
       "        text-align: right;\n",
       "    }\n",
       "</style>\n",
       "<table border=\"1\" class=\"dataframe\">\n",
       "  <thead>\n",
       "    <tr style=\"text-align: right;\">\n",
       "      <th>특성</th>\n",
       "      <th>2018</th>\n",
       "      <th>2019</th>\n",
       "      <th>2020</th>\n",
       "      <th>2021</th>\n",
       "      <th>농지면적순위</th>\n",
       "      <th>2018-2021 변화율</th>\n",
       "    </tr>\n",
       "    <tr>\n",
       "      <th>지역</th>\n",
       "      <th></th>\n",
       "      <th></th>\n",
       "      <th></th>\n",
       "      <th></th>\n",
       "      <th></th>\n",
       "      <th></th>\n",
       "    </tr>\n",
       "  </thead>\n",
       "  <tbody>\n",
       "    <tr>\n",
       "      <th>부산</th>\n",
       "      <td>13597</td>\n",
       "      <td>12700</td>\n",
       "      <td>11075</td>\n",
       "      <td>12259</td>\n",
       "      <td>3</td>\n",
       "      <td>-9</td>\n",
       "    </tr>\n",
       "    <tr>\n",
       "      <th>대구</th>\n",
       "      <td>16052</td>\n",
       "      <td>15148</td>\n",
       "      <td>15695</td>\n",
       "      <td>16699</td>\n",
       "      <td>2</td>\n",
       "      <td>4</td>\n",
       "    </tr>\n",
       "  </tbody>\n",
       "</table>\n",
       "</div>"
      ],
      "text/plain": [
       "특성   2018   2019   2020   2021  농지면적순위  2018-2021 변화율\n",
       "지역                                                   \n",
       "부산  13597  12700  11075  12259       3             -9\n",
       "대구  16052  15148  15695  16699       2              4"
      ]
     },
     "execution_count": 24,
     "metadata": {},
     "output_type": "execute_result"
    }
   ],
   "source": [
    "# loc, iloc\n",
    "df.loc[['부산', '대구']]"
   ]
  },
  {
   "cell_type": "code",
   "execution_count": 25,
   "id": "498b8057",
   "metadata": {},
   "outputs": [
    {
     "data": {
      "text/plain": [
       "712"
      ]
     },
     "execution_count": 25,
     "metadata": {},
     "output_type": "execute_result"
    }
   ],
   "source": [
    "df.iloc[0,0]"
   ]
  },
  {
   "cell_type": "code",
   "execution_count": 26,
   "id": "a34db826",
   "metadata": {},
   "outputs": [
    {
     "data": {
      "text/plain": [
       "712"
      ]
     },
     "execution_count": 26,
     "metadata": {},
     "output_type": "execute_result"
    }
   ],
   "source": [
    "df['2018']['서울']"
   ]
  },
  {
   "cell_type": "code",
   "execution_count": 27,
   "id": "5bef7a60",
   "metadata": {},
   "outputs": [
    {
     "data": {
      "text/plain": [
       "712"
      ]
     },
     "execution_count": 27,
     "metadata": {},
     "output_type": "execute_result"
    }
   ],
   "source": [
    "df.iloc[0][0]"
   ]
  },
  {
   "cell_type": "code",
   "execution_count": 28,
   "id": "2da92c6c",
   "metadata": {},
   "outputs": [],
   "source": [
    "df['2018-2021 변화율'] = df['2018-2021 변화율'].astype(float)"
   ]
  },
  {
   "cell_type": "code",
   "execution_count": 29,
   "id": "b2000ce8",
   "metadata": {},
   "outputs": [
    {
     "data": {
      "text/plain": [
       "712.0"
      ]
     },
     "execution_count": 29,
     "metadata": {},
     "output_type": "execute_result"
    }
   ],
   "source": [
    "df.iloc[0][0]"
   ]
  },
  {
   "cell_type": "code",
   "execution_count": 30,
   "id": "b733f8d0",
   "metadata": {},
   "outputs": [
    {
     "data": {
      "text/plain": [
       "712"
      ]
     },
     "execution_count": 30,
     "metadata": {},
     "output_type": "execute_result"
    }
   ],
   "source": [
    "df.iloc[0,0]"
   ]
  },
  {
   "cell_type": "code",
   "execution_count": 31,
   "id": "feafb8ba",
   "metadata": {},
   "outputs": [],
   "source": [
    "index = ['철수','영희','길동','슬기']\n",
    "columns = ['국어','영어','수학','과학']\n",
    "data = {\n",
    "    '국어' : [80,90,70,50],\n",
    "    '영어' : [90,50,60,100],\n",
    "    '수학' : [70,100,50,70],\n",
    "    '과학' : [30,50,80,80]\n",
    "}\n",
    "df_p1 = pd.DataFrame(data, index=index, columns=columns)"
   ]
  },
  {
   "cell_type": "code",
   "execution_count": 32,
   "id": "e40069d5",
   "metadata": {},
   "outputs": [
    {
     "data": {
      "text/html": [
       "<div>\n",
       "<style scoped>\n",
       "    .dataframe tbody tr th:only-of-type {\n",
       "        vertical-align: middle;\n",
       "    }\n",
       "\n",
       "    .dataframe tbody tr th {\n",
       "        vertical-align: top;\n",
       "    }\n",
       "\n",
       "    .dataframe thead th {\n",
       "        text-align: right;\n",
       "    }\n",
       "</style>\n",
       "<table border=\"1\" class=\"dataframe\">\n",
       "  <thead>\n",
       "    <tr style=\"text-align: right;\">\n",
       "      <th></th>\n",
       "      <th>국어</th>\n",
       "      <th>영어</th>\n",
       "      <th>수학</th>\n",
       "      <th>과학</th>\n",
       "    </tr>\n",
       "  </thead>\n",
       "  <tbody>\n",
       "    <tr>\n",
       "      <th>철수</th>\n",
       "      <td>80</td>\n",
       "      <td>90</td>\n",
       "      <td>70</td>\n",
       "      <td>30</td>\n",
       "    </tr>\n",
       "    <tr>\n",
       "      <th>영희</th>\n",
       "      <td>90</td>\n",
       "      <td>50</td>\n",
       "      <td>100</td>\n",
       "      <td>50</td>\n",
       "    </tr>\n",
       "    <tr>\n",
       "      <th>길동</th>\n",
       "      <td>70</td>\n",
       "      <td>60</td>\n",
       "      <td>50</td>\n",
       "      <td>80</td>\n",
       "    </tr>\n",
       "    <tr>\n",
       "      <th>슬기</th>\n",
       "      <td>50</td>\n",
       "      <td>100</td>\n",
       "      <td>70</td>\n",
       "      <td>80</td>\n",
       "    </tr>\n",
       "  </tbody>\n",
       "</table>\n",
       "</div>"
      ],
      "text/plain": [
       "    국어   영어   수학  과학\n",
       "철수  80   90   70  30\n",
       "영희  90   50  100  50\n",
       "길동  70   60   50  80\n",
       "슬기  50  100   70  80"
      ]
     },
     "execution_count": 32,
     "metadata": {},
     "output_type": "execute_result"
    }
   ],
   "source": [
    "df_p1"
   ]
  },
  {
   "cell_type": "code",
   "execution_count": 33,
   "id": "a60fc8cb",
   "metadata": {},
   "outputs": [],
   "source": [
    "df_p1['평균'] = df_p1.mean(axis=1)"
   ]
  },
  {
   "cell_type": "code",
   "execution_count": 34,
   "id": "198d30c0",
   "metadata": {},
   "outputs": [],
   "source": [
    "df_p1.loc['평균'] = df_p1.mean()"
   ]
  },
  {
   "cell_type": "code",
   "execution_count": 35,
   "id": "e643a24c",
   "metadata": {},
   "outputs": [
    {
     "data": {
      "text/html": [
       "<div>\n",
       "<style scoped>\n",
       "    .dataframe tbody tr th:only-of-type {\n",
       "        vertical-align: middle;\n",
       "    }\n",
       "\n",
       "    .dataframe tbody tr th {\n",
       "        vertical-align: top;\n",
       "    }\n",
       "\n",
       "    .dataframe thead th {\n",
       "        text-align: right;\n",
       "    }\n",
       "</style>\n",
       "<table border=\"1\" class=\"dataframe\">\n",
       "  <thead>\n",
       "    <tr style=\"text-align: right;\">\n",
       "      <th></th>\n",
       "      <th>국어</th>\n",
       "      <th>영어</th>\n",
       "      <th>수학</th>\n",
       "      <th>과학</th>\n",
       "      <th>평균</th>\n",
       "    </tr>\n",
       "  </thead>\n",
       "  <tbody>\n",
       "    <tr>\n",
       "      <th>철수</th>\n",
       "      <td>80.0</td>\n",
       "      <td>90.0</td>\n",
       "      <td>70.0</td>\n",
       "      <td>30.0</td>\n",
       "      <td>67.5</td>\n",
       "    </tr>\n",
       "    <tr>\n",
       "      <th>영희</th>\n",
       "      <td>90.0</td>\n",
       "      <td>50.0</td>\n",
       "      <td>100.0</td>\n",
       "      <td>50.0</td>\n",
       "      <td>72.5</td>\n",
       "    </tr>\n",
       "    <tr>\n",
       "      <th>길동</th>\n",
       "      <td>70.0</td>\n",
       "      <td>60.0</td>\n",
       "      <td>50.0</td>\n",
       "      <td>80.0</td>\n",
       "      <td>65.0</td>\n",
       "    </tr>\n",
       "    <tr>\n",
       "      <th>슬기</th>\n",
       "      <td>50.0</td>\n",
       "      <td>100.0</td>\n",
       "      <td>70.0</td>\n",
       "      <td>80.0</td>\n",
       "      <td>75.0</td>\n",
       "    </tr>\n",
       "    <tr>\n",
       "      <th>평균</th>\n",
       "      <td>72.5</td>\n",
       "      <td>75.0</td>\n",
       "      <td>72.5</td>\n",
       "      <td>60.0</td>\n",
       "      <td>70.0</td>\n",
       "    </tr>\n",
       "  </tbody>\n",
       "</table>\n",
       "</div>"
      ],
      "text/plain": [
       "      국어     영어     수학    과학    평균\n",
       "철수  80.0   90.0   70.0  30.0  67.5\n",
       "영희  90.0   50.0  100.0  50.0  72.5\n",
       "길동  70.0   60.0   50.0  80.0  65.0\n",
       "슬기  50.0  100.0   70.0  80.0  75.0\n",
       "평균  72.5   75.0   72.5  60.0  70.0"
      ]
     },
     "execution_count": 35,
     "metadata": {},
     "output_type": "execute_result"
    }
   ],
   "source": [
    "df_p1"
   ]
  },
  {
   "cell_type": "code",
   "execution_count": 36,
   "id": "3247028a",
   "metadata": {},
   "outputs": [
    {
     "data": {
      "text/plain": [
       "철수    67.5\n",
       "영희    72.5\n",
       "길동    65.0\n",
       "슬기    75.0\n",
       "평균    70.0\n",
       "dtype: float64"
      ]
     },
     "execution_count": 36,
     "metadata": {},
     "output_type": "execute_result"
    }
   ],
   "source": [
    "(df_p1['국어'] + df_p1['영어'] + df_p1['수학'] + df_p1['과학']) / 4"
   ]
  },
  {
   "cell_type": "code",
   "execution_count": 37,
   "id": "e217e6a5",
   "metadata": {},
   "outputs": [],
   "source": [
    "df_p1['학생평균'] = (df_p1['국어'] + df_p1['영어'] + df_p1['수학'] + df_p1['과학']) / 4"
   ]
  },
  {
   "cell_type": "code",
   "execution_count": 38,
   "id": "3520035b",
   "metadata": {},
   "outputs": [
    {
     "data": {
      "text/html": [
       "<div>\n",
       "<style scoped>\n",
       "    .dataframe tbody tr th:only-of-type {\n",
       "        vertical-align: middle;\n",
       "    }\n",
       "\n",
       "    .dataframe tbody tr th {\n",
       "        vertical-align: top;\n",
       "    }\n",
       "\n",
       "    .dataframe thead th {\n",
       "        text-align: right;\n",
       "    }\n",
       "</style>\n",
       "<table border=\"1\" class=\"dataframe\">\n",
       "  <thead>\n",
       "    <tr style=\"text-align: right;\">\n",
       "      <th></th>\n",
       "      <th>국어</th>\n",
       "      <th>영어</th>\n",
       "      <th>수학</th>\n",
       "      <th>과학</th>\n",
       "      <th>평균</th>\n",
       "      <th>학생평균</th>\n",
       "    </tr>\n",
       "  </thead>\n",
       "  <tbody>\n",
       "    <tr>\n",
       "      <th>철수</th>\n",
       "      <td>80.0</td>\n",
       "      <td>90.0</td>\n",
       "      <td>70.0</td>\n",
       "      <td>30.0</td>\n",
       "      <td>67.5</td>\n",
       "      <td>67.5</td>\n",
       "    </tr>\n",
       "    <tr>\n",
       "      <th>영희</th>\n",
       "      <td>90.0</td>\n",
       "      <td>50.0</td>\n",
       "      <td>100.0</td>\n",
       "      <td>50.0</td>\n",
       "      <td>72.5</td>\n",
       "      <td>72.5</td>\n",
       "    </tr>\n",
       "    <tr>\n",
       "      <th>길동</th>\n",
       "      <td>70.0</td>\n",
       "      <td>60.0</td>\n",
       "      <td>50.0</td>\n",
       "      <td>80.0</td>\n",
       "      <td>65.0</td>\n",
       "      <td>65.0</td>\n",
       "    </tr>\n",
       "    <tr>\n",
       "      <th>슬기</th>\n",
       "      <td>50.0</td>\n",
       "      <td>100.0</td>\n",
       "      <td>70.0</td>\n",
       "      <td>80.0</td>\n",
       "      <td>75.0</td>\n",
       "      <td>75.0</td>\n",
       "    </tr>\n",
       "    <tr>\n",
       "      <th>평균</th>\n",
       "      <td>72.5</td>\n",
       "      <td>75.0</td>\n",
       "      <td>72.5</td>\n",
       "      <td>60.0</td>\n",
       "      <td>70.0</td>\n",
       "      <td>70.0</td>\n",
       "    </tr>\n",
       "  </tbody>\n",
       "</table>\n",
       "</div>"
      ],
      "text/plain": [
       "      국어     영어     수학    과학    평균  학생평균\n",
       "철수  80.0   90.0   70.0  30.0  67.5  67.5\n",
       "영희  90.0   50.0  100.0  50.0  72.5  72.5\n",
       "길동  70.0   60.0   50.0  80.0  65.0  65.0\n",
       "슬기  50.0  100.0   70.0  80.0  75.0  75.0\n",
       "평균  72.5   75.0   72.5  60.0  70.0  70.0"
      ]
     },
     "execution_count": 38,
     "metadata": {},
     "output_type": "execute_result"
    }
   ],
   "source": [
    "df_p1"
   ]
  },
  {
   "cell_type": "code",
   "execution_count": 39,
   "id": "a7e4fa89",
   "metadata": {},
   "outputs": [],
   "source": [
    "df_p1.loc['과목평균'] = (df_p1.loc['철수'] + df_p1.loc['영희'] + df_p1.loc['길동'] + df_p1.loc['슬기']) / 4"
   ]
  },
  {
   "cell_type": "code",
   "execution_count": 40,
   "id": "7b6f51d3",
   "metadata": {},
   "outputs": [
    {
     "data": {
      "text/html": [
       "<div>\n",
       "<style scoped>\n",
       "    .dataframe tbody tr th:only-of-type {\n",
       "        vertical-align: middle;\n",
       "    }\n",
       "\n",
       "    .dataframe tbody tr th {\n",
       "        vertical-align: top;\n",
       "    }\n",
       "\n",
       "    .dataframe thead th {\n",
       "        text-align: right;\n",
       "    }\n",
       "</style>\n",
       "<table border=\"1\" class=\"dataframe\">\n",
       "  <thead>\n",
       "    <tr style=\"text-align: right;\">\n",
       "      <th></th>\n",
       "      <th>국어</th>\n",
       "      <th>영어</th>\n",
       "      <th>수학</th>\n",
       "      <th>과학</th>\n",
       "      <th>평균</th>\n",
       "      <th>학생평균</th>\n",
       "    </tr>\n",
       "  </thead>\n",
       "  <tbody>\n",
       "    <tr>\n",
       "      <th>철수</th>\n",
       "      <td>80.0</td>\n",
       "      <td>90.0</td>\n",
       "      <td>70.0</td>\n",
       "      <td>30.0</td>\n",
       "      <td>67.5</td>\n",
       "      <td>67.5</td>\n",
       "    </tr>\n",
       "    <tr>\n",
       "      <th>영희</th>\n",
       "      <td>90.0</td>\n",
       "      <td>50.0</td>\n",
       "      <td>100.0</td>\n",
       "      <td>50.0</td>\n",
       "      <td>72.5</td>\n",
       "      <td>72.5</td>\n",
       "    </tr>\n",
       "    <tr>\n",
       "      <th>길동</th>\n",
       "      <td>70.0</td>\n",
       "      <td>60.0</td>\n",
       "      <td>50.0</td>\n",
       "      <td>80.0</td>\n",
       "      <td>65.0</td>\n",
       "      <td>65.0</td>\n",
       "    </tr>\n",
       "    <tr>\n",
       "      <th>슬기</th>\n",
       "      <td>50.0</td>\n",
       "      <td>100.0</td>\n",
       "      <td>70.0</td>\n",
       "      <td>80.0</td>\n",
       "      <td>75.0</td>\n",
       "      <td>75.0</td>\n",
       "    </tr>\n",
       "    <tr>\n",
       "      <th>평균</th>\n",
       "      <td>72.5</td>\n",
       "      <td>75.0</td>\n",
       "      <td>72.5</td>\n",
       "      <td>60.0</td>\n",
       "      <td>70.0</td>\n",
       "      <td>70.0</td>\n",
       "    </tr>\n",
       "    <tr>\n",
       "      <th>과목평균</th>\n",
       "      <td>72.5</td>\n",
       "      <td>75.0</td>\n",
       "      <td>72.5</td>\n",
       "      <td>60.0</td>\n",
       "      <td>70.0</td>\n",
       "      <td>70.0</td>\n",
       "    </tr>\n",
       "  </tbody>\n",
       "</table>\n",
       "</div>"
      ],
      "text/plain": [
       "        국어     영어     수학    과학    평균  학생평균\n",
       "철수    80.0   90.0   70.0  30.0  67.5  67.5\n",
       "영희    90.0   50.0  100.0  50.0  72.5  72.5\n",
       "길동    70.0   60.0   50.0  80.0  65.0  65.0\n",
       "슬기    50.0  100.0   70.0  80.0  75.0  75.0\n",
       "평균    72.5   75.0   72.5  60.0  70.0  70.0\n",
       "과목평균  72.5   75.0   72.5  60.0  70.0  70.0"
      ]
     },
     "execution_count": 40,
     "metadata": {},
     "output_type": "execute_result"
    }
   ],
   "source": [
    "df_p1"
   ]
  }
 ],
 "metadata": {
  "kernelspec": {
   "display_name": "Python 3 (ipykernel)",
   "language": "python",
   "name": "python3"
  },
  "language_info": {
   "codemirror_mode": {
    "name": "ipython",
    "version": 3
   },
   "file_extension": ".py",
   "mimetype": "text/x-python",
   "name": "python",
   "nbconvert_exporter": "python",
   "pygments_lexer": "ipython3",
   "version": "3.9.12"
  }
 },
 "nbformat": 4,
 "nbformat_minor": 5
}

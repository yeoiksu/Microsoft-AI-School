{
 "cells": [
  {
   "cell_type": "code",
   "execution_count": 1,
   "id": "dd94eaaa",
   "metadata": {},
   "outputs": [],
   "source": [
    "# !pip install koreanize-matplotlib\n",
    "import koreanize_matplotlib\n",
    "import warnings\n",
    "warnings.filterwarnings('ignore')"
   ]
  },
  {
   "cell_type": "markdown",
   "id": "a335a51d",
   "metadata": {},
   "source": [
    "# 분포\n",
    "## 카테고리분포"
   ]
  },
  {
   "cell_type": "markdown",
   "id": "d29aee14",
   "metadata": {},
   "source": [
    "베르누이 동전 0,1인 분포\n",
    "카테고리 확률분포는 주사위 0,1만을 가지는 변수가 아닌 변수들에 대한 확률 분포\n",
    "\n",
    "x = {1,2,3,4,5,6}\n",
    "x = 1 -> {1,0,0,0,0,0}\n",
    "x = 2 -> {0,1,0,0,0,0}\n",
    "x = 3 -> {0,0,1,0,0,0}\n",
    "x = 4 -> {0,0,0,1,0,0}\n",
    "x = 5 -> {0,0,0,0,1,0}\n",
    "x = 6 -> {0,0,0,0,0,1}\n",
    "\n",
    "$$ \\Sigma{x_k} = 1$$\n",
    "카테고리 분포의 모수는 \n",
    "$$μ = ({μ_1}, ⋅ ⋅ ⋅, {\\mu_k}) $$\n",
    "$$0<=\\mu<=1$$\n",
    "$$\\Sigma{\\mu_k} = 1$$\n",
    "\n",
    "카테고리 확률 분포\n",
    "$$Cat({x_1}, {x_2}, ⋅ ⋅ ⋅, {x_k}, {\\mu_1}, ⋅ ⋅ ⋅, {\\mu_k})$$\n",
    "$$Cat(x:\\mu)$$\n",
    "\n",
    "$$ Cat(x:\\mu) = {\\mu_1}\\quad if\\quad x = (1,0,0,⋅ ⋅ ⋅,0) \\quad\n",
    "{\\mu_2}\\quad if\\quad x = (0,1,0,⋅ ⋅ ⋅,0) ⋅ ⋅ ⋅$$\n",
    "\n",
    "$$Cat(x:\\mu) = {\\mu_1^{x_1}}{\\mu_2^{x_3}}⋅⋅⋅{\\mu_k^{x_k}} = \\prod_{k=1}^K \\mu_k^{x_k}$$\n",
    "\n",
    "카테고리 분포의 기댓값\n",
    "$$E[{x_k}] = \\mu_k$$\n",
    "카테고리 분포의 분산\n",
    "$$Var[{x_k}] = \\mu_k(1-\\mu_k)$$"
   ]
  },
  {
   "cell_type": "code",
   "execution_count": 2,
   "id": "7dbe7a50",
   "metadata": {},
   "outputs": [],
   "source": [
    "import scipy as sp\n",
    "import scipy.stats\n",
    "mu = [0.1,0.1,0.1,0.1,0.3,0.3]\n",
    "rv = scipy.stats.multinomial(1, mu)"
   ]
  },
  {
   "cell_type": "code",
   "execution_count": 3,
   "id": "afcee5b2",
   "metadata": {},
   "outputs": [
    {
     "data": {
      "text/plain": [
       "array([1, 2, 3, 4, 5, 6])"
      ]
     },
     "execution_count": 3,
     "metadata": {},
     "output_type": "execute_result"
    }
   ],
   "source": [
    "import numpy as np\n",
    "import pandas as pd\n",
    "xx = np.arange(1, 7)\n",
    "xx"
   ]
  },
  {
   "cell_type": "code",
   "execution_count": 4,
   "id": "4590117a",
   "metadata": {},
   "outputs": [
    {
     "data": {
      "text/html": [
       "<div>\n",
       "<style scoped>\n",
       "    .dataframe tbody tr th:only-of-type {\n",
       "        vertical-align: middle;\n",
       "    }\n",
       "\n",
       "    .dataframe tbody tr th {\n",
       "        vertical-align: top;\n",
       "    }\n",
       "\n",
       "    .dataframe thead th {\n",
       "        text-align: right;\n",
       "    }\n",
       "</style>\n",
       "<table border=\"1\" class=\"dataframe\">\n",
       "  <thead>\n",
       "    <tr style=\"text-align: right;\">\n",
       "      <th></th>\n",
       "      <th>1</th>\n",
       "      <th>2</th>\n",
       "      <th>3</th>\n",
       "      <th>4</th>\n",
       "      <th>5</th>\n",
       "      <th>6</th>\n",
       "    </tr>\n",
       "  </thead>\n",
       "  <tbody>\n",
       "    <tr>\n",
       "      <th>0</th>\n",
       "      <td>1</td>\n",
       "      <td>0</td>\n",
       "      <td>0</td>\n",
       "      <td>0</td>\n",
       "      <td>0</td>\n",
       "      <td>0</td>\n",
       "    </tr>\n",
       "    <tr>\n",
       "      <th>1</th>\n",
       "      <td>0</td>\n",
       "      <td>1</td>\n",
       "      <td>0</td>\n",
       "      <td>0</td>\n",
       "      <td>0</td>\n",
       "      <td>0</td>\n",
       "    </tr>\n",
       "    <tr>\n",
       "      <th>2</th>\n",
       "      <td>0</td>\n",
       "      <td>0</td>\n",
       "      <td>1</td>\n",
       "      <td>0</td>\n",
       "      <td>0</td>\n",
       "      <td>0</td>\n",
       "    </tr>\n",
       "    <tr>\n",
       "      <th>3</th>\n",
       "      <td>0</td>\n",
       "      <td>0</td>\n",
       "      <td>0</td>\n",
       "      <td>1</td>\n",
       "      <td>0</td>\n",
       "      <td>0</td>\n",
       "    </tr>\n",
       "    <tr>\n",
       "      <th>4</th>\n",
       "      <td>0</td>\n",
       "      <td>0</td>\n",
       "      <td>0</td>\n",
       "      <td>0</td>\n",
       "      <td>1</td>\n",
       "      <td>0</td>\n",
       "    </tr>\n",
       "    <tr>\n",
       "      <th>5</th>\n",
       "      <td>0</td>\n",
       "      <td>0</td>\n",
       "      <td>0</td>\n",
       "      <td>0</td>\n",
       "      <td>0</td>\n",
       "      <td>1</td>\n",
       "    </tr>\n",
       "  </tbody>\n",
       "</table>\n",
       "</div>"
      ],
      "text/plain": [
       "   1  2  3  4  5  6\n",
       "0  1  0  0  0  0  0\n",
       "1  0  1  0  0  0  0\n",
       "2  0  0  1  0  0  0\n",
       "3  0  0  0  1  0  0\n",
       "4  0  0  0  0  1  0\n",
       "5  0  0  0  0  0  1"
      ]
     },
     "execution_count": 4,
     "metadata": {},
     "output_type": "execute_result"
    }
   ],
   "source": [
    "xx_ohe = pd.get_dummies(xx)\n",
    "xx_ohe"
   ]
  },
  {
   "cell_type": "code",
   "execution_count": 5,
   "id": "67331bc3",
   "metadata": {},
   "outputs": [
    {
     "data": {
      "image/png": "[encoded data removed]",
      "text/plain": [
       "<Figure size 432x288 with 1 Axes>"
      ]
     },
     "metadata": {
      "needs_background": "light"
     },
     "output_type": "display_data"
    }
   ],
   "source": [
    "import matplotlib.pyplot as plt\n",
    "plt.bar(xx, rv.pmf(xx_ohe.values))\n",
    "plt.title('카테고리 분포 확률 질량 함수')\n",
    "plt.show()"
   ]
  },
  {
   "cell_type": "code",
   "execution_count": 6,
   "id": "36328cdd",
   "metadata": {},
   "outputs": [],
   "source": [
    "np.random.seed(0)\n",
    "X = rv.rvs(100)"
   ]
  },
  {
   "cell_type": "code",
   "execution_count": 7,
   "id": "16c67279",
   "metadata": {},
   "outputs": [
    {
     "data": {
      "image/png": "[encoded data removed]",
      "text/plain": [
       "<Figure size 432x288 with 1 Axes>"
      ]
     },
     "metadata": {
      "needs_background": "light"
     },
     "output_type": "display_data"
    }
   ],
   "source": [
    "y = X.sum(axis=0) / float(len(X))\n",
    "plt.bar(np.arange(1,7), y)\n",
    "plt.title('카테고리 분포 시뮬레이션 결과')\n",
    "plt.grid()\n",
    "plt.show()"
   ]
  },
  {
   "cell_type": "code",
   "execution_count": 8,
   "id": "5aed3841",
   "metadata": {},
   "outputs": [],
   "source": [
    "df = pd.DataFrame({'이론': rv.pmf(xx_ohe.values), '시뮬레이션':y}, index= np.arange(1,7)).stack()"
   ]
  },
  {
   "cell_type": "code",
   "execution_count": 9,
   "id": "20d2df4d",
   "metadata": {},
   "outputs": [
    {
     "data": {
      "text/html": [
       "<div>\n",
       "<style scoped>\n",
       "    .dataframe tbody tr th:only-of-type {\n",
       "        vertical-align: middle;\n",
       "    }\n",
       "\n",
       "    .dataframe tbody tr th {\n",
       "        vertical-align: top;\n",
       "    }\n",
       "\n",
       "    .dataframe thead th {\n",
       "        text-align: right;\n",
       "    }\n",
       "</style>\n",
       "<table border=\"1\" class=\"dataframe\">\n",
       "  <thead>\n",
       "    <tr style=\"text-align: right;\">\n",
       "      <th></th>\n",
       "      <th>표본</th>\n",
       "      <th>유형</th>\n",
       "      <th>비율</th>\n",
       "    </tr>\n",
       "  </thead>\n",
       "  <tbody>\n",
       "    <tr>\n",
       "      <th>0</th>\n",
       "      <td>1</td>\n",
       "      <td>이론</td>\n",
       "      <td>0.10</td>\n",
       "    </tr>\n",
       "    <tr>\n",
       "      <th>1</th>\n",
       "      <td>1</td>\n",
       "      <td>시뮬레이션</td>\n",
       "      <td>0.08</td>\n",
       "    </tr>\n",
       "    <tr>\n",
       "      <th>2</th>\n",
       "      <td>2</td>\n",
       "      <td>이론</td>\n",
       "      <td>0.10</td>\n",
       "    </tr>\n",
       "    <tr>\n",
       "      <th>3</th>\n",
       "      <td>2</td>\n",
       "      <td>시뮬레이션</td>\n",
       "      <td>0.11</td>\n",
       "    </tr>\n",
       "    <tr>\n",
       "      <th>4</th>\n",
       "      <td>3</td>\n",
       "      <td>이론</td>\n",
       "      <td>0.10</td>\n",
       "    </tr>\n",
       "    <tr>\n",
       "      <th>5</th>\n",
       "      <td>3</td>\n",
       "      <td>시뮬레이션</td>\n",
       "      <td>0.11</td>\n",
       "    </tr>\n",
       "    <tr>\n",
       "      <th>6</th>\n",
       "      <td>4</td>\n",
       "      <td>이론</td>\n",
       "      <td>0.10</td>\n",
       "    </tr>\n",
       "    <tr>\n",
       "      <th>7</th>\n",
       "      <td>4</td>\n",
       "      <td>시뮬레이션</td>\n",
       "      <td>0.11</td>\n",
       "    </tr>\n",
       "    <tr>\n",
       "      <th>8</th>\n",
       "      <td>5</td>\n",
       "      <td>이론</td>\n",
       "      <td>0.30</td>\n",
       "    </tr>\n",
       "    <tr>\n",
       "      <th>9</th>\n",
       "      <td>5</td>\n",
       "      <td>시뮬레이션</td>\n",
       "      <td>0.23</td>\n",
       "    </tr>\n",
       "    <tr>\n",
       "      <th>10</th>\n",
       "      <td>6</td>\n",
       "      <td>이론</td>\n",
       "      <td>0.30</td>\n",
       "    </tr>\n",
       "    <tr>\n",
       "      <th>11</th>\n",
       "      <td>6</td>\n",
       "      <td>시뮬레이션</td>\n",
       "      <td>0.36</td>\n",
       "    </tr>\n",
       "  </tbody>\n",
       "</table>\n",
       "</div>"
      ],
      "text/plain": [
       "    표본     유형    비율\n",
       "0    1     이론  0.10\n",
       "1    1  시뮬레이션  0.08\n",
       "2    2     이론  0.10\n",
       "3    2  시뮬레이션  0.11\n",
       "4    3     이론  0.10\n",
       "5    3  시뮬레이션  0.11\n",
       "6    4     이론  0.10\n",
       "7    4  시뮬레이션  0.11\n",
       "8    5     이론  0.30\n",
       "9    5  시뮬레이션  0.23\n",
       "10   6     이론  0.30\n",
       "11   6  시뮬레이션  0.36"
      ]
     },
     "execution_count": 9,
     "metadata": {},
     "output_type": "execute_result"
    }
   ],
   "source": [
    "df = df.reset_index()\n",
    "df.columns = ['표본','유형','비율']\n",
    "df.pivot('표본','유형','비율')\n",
    "df"
   ]
  },
  {
   "cell_type": "code",
   "execution_count": 10,
   "id": "5d61a3bd",
   "metadata": {},
   "outputs": [
    {
     "data": {
      "image/png": "[encoded data removed]",
      "text/plain": [
       "<Figure size 432x288 with 1 Axes>"
      ]
     },
     "metadata": {
      "needs_background": "light"
     },
     "output_type": "display_data"
    }
   ],
   "source": [
    "import seaborn as sns\n",
    "sns.barplot(x='표본', y='비율',hue='유형', data=df)\n",
    "plt.title('카테고리 분포 시뮬레이션 결과')\n",
    "plt.grid()\n",
    "plt.show()"
   ]
  },
  {
   "cell_type": "markdown",
   "id": "ef7c9627",
   "metadata": {},
   "source": [
    "#### 실습\n",
    "μ = (0.2, 0.2, 0.15, 0.05, 0.2, 0.1, 0.1)   \n",
    "표본 10개, 1000개 비교"
   ]
  },
  {
   "cell_type": "code",
   "execution_count": 11,
   "id": "4bab7c55",
   "metadata": {},
   "outputs": [
    {
     "data": {
      "image/png": "[encoded data removed]",
      "text/plain": [
       "<Figure size 432x288 with 1 Axes>"
      ]
     },
     "metadata": {
      "needs_background": "light"
     },
     "output_type": "display_data"
    }
   ],
   "source": [
    "mu = [0.2, 0.2, 0.15, 0.05, 0.2, 0.1, 0.1]\n",
    "rv = scipy.stats.multinomial(1, mu)\n",
    "\n",
    "xx = np.arange(1, 8)\n",
    "xx_ohe = pd.get_dummies(xx)\n",
    "np.random.seed(0)\n",
    "X = rv.rvs(1000)\n",
    "\n",
    "y = X.sum(axis=0) / float(len(X))\n",
    "\n",
    "df = pd.DataFrame({'이론':rv.pmf(xx_ohe.values), '시뮬레이션': y},index=np.arange(1,8)).stack()\n",
    "df = df.reset_index()\n",
    "df.columns = ['표본','유형','비율']\n",
    "df.pivot('표본','유형','비율')\n",
    "\n",
    "sns.barplot(x='표본', y='비율', hue='유형', data=df)\n",
    "plt.grid()\n",
    "plt.show()"
   ]
  },
  {
   "cell_type": "markdown",
   "id": "8e91f5fb",
   "metadata": {},
   "source": [
    "## 다주 분류 문제"
   ]
  },
  {
   "cell_type": "code",
   "execution_count": 12,
   "id": "814b2d14",
   "metadata": {},
   "outputs": [
    {
     "data": {
      "image/png": "[encoded data removed]",
      "text/plain": [
       "<Figure size 432x288 with 2 Axes>"
      ]
     },
     "metadata": {
      "needs_background": "light"
     },
     "output_type": "display_data"
    }
   ],
   "source": [
    "from sklearn.datasets import load_iris\n",
    "\n",
    "iris = load_iris()\n",
    "df = pd.DataFrame(iris.data, columns=iris.feature_names)\n",
    "df['품종'] = pd.Series(iris.target, dtype='category')\n",
    "\n",
    "df1 = df[df['petal length (cm)']> 1.5]\n",
    "df2 = df[df['petal length (cm)']<= 1.5]\n",
    "\n",
    "fig, ax = plt.subplots(1,2)\n",
    "sns.countplot(x='품종', data=df1, ax=ax[0]).set_title('꽃잎 폭 1.5cm 초과')\n",
    "sns.countplot(x='품종', data=df2, ax=ax[1]).set_title('꽃잎 폭 1.5cm 이하')\n",
    "plt.tight_layout()\n",
    "plt.show()"
   ]
  },
  {
   "cell_type": "markdown",
   "id": "48c2ef1b",
   "metadata": {},
   "source": [
    "## 다항분포\n",
    "베르누이를 여러번 실험 -> 이항 분포   \n",
    "카테고리 확률 변수가 여러개 -> 다항분포   \n",
    "K개인 카테고리 확률변수의 표본을 N개 있을 때 각각의 카테고리k가 ${x_k}$번 나올 확률 분포\n",
    "\n",
    "- 다항 분포의 확률 질량 함수\n",
    "$$ Mu(x;N,μ) = \\binom N x \\prod_{k=1}^K{\\mu_k}^{x_k}$$\n",
    "\n",
    "- 기대값\n",
    "$$E[{x_k}]=N_{\\mu_k}$$\n",
    "\n",
    "- 분산\n",
    "$$Var[{x_k}] = {N_{μ_k}}(1-{\\mu_k})$$"
   ]
  },
  {
   "cell_type": "code",
   "execution_count": 13,
   "id": "27d54c13",
   "metadata": {},
   "outputs": [
    {
     "data": {
      "text/plain": [
       "array([[ 3,  4,  3,  3,  8,  9],\n",
       "       [ 3,  3,  5,  6,  6,  7],\n",
       "       [ 4,  3,  3,  5,  5, 10],\n",
       "       [ 1,  0,  5,  5, 12,  7],\n",
       "       [ 7,  4,  2,  3,  5,  9]])"
      ]
     },
     "execution_count": 13,
     "metadata": {},
     "output_type": "execute_result"
    }
   ],
   "source": [
    "N = 30\n",
    "mu = [0.1, 0.1, 0.1, 0.1, 0.3, 0.3]\n",
    "rv = scipy.stats.multinomial(N, mu)\n",
    "np.random.seed(0)\n",
    "X = rv.rvs(100)\n",
    "X[:5]"
   ]
  },
  {
   "cell_type": "code",
   "execution_count": 14,
   "id": "d7b8b58b",
   "metadata": {},
   "outputs": [
    {
     "data": {
      "image/png": "[encoded data removed]",
      "text/plain": [
       "<Figure size 432x288 with 1 Axes>"
      ]
     },
     "metadata": {
      "needs_background": "light"
     },
     "output_type": "display_data"
    }
   ],
   "source": [
    "df = pd.DataFrame(X).stack().reset_index()\n",
    "df.columns = ['N','클래스','표본']\n",
    "\n",
    "sns.violinplot(x='클래스',y='표본', data=df, inner = 'quartile')\n",
    "sns.swarmplot(x='클래스',y='표본', data=df, color=\".3\")\n",
    "plt.title('다항분포 시뮬')\n",
    "plt.show()"
   ]
  },
  {
   "cell_type": "code",
   "execution_count": 15,
   "id": "27b22fde",
   "metadata": {},
   "outputs": [
    {
     "data": {
      "image/png": "[encoded data removed]",
      "text/plain": [
       "<Figure size 432x288 with 1 Axes>"
      ]
     },
     "metadata": {
      "needs_background": "light"
     },
     "output_type": "display_data"
    }
   ],
   "source": [
    "plt.boxplot(X)\n",
    "plt.title('다항분포 시뮬')\n",
    "plt.grid()\n",
    "plt.show()"
   ]
  },
  {
   "cell_type": "markdown",
   "id": "7d503044",
   "metadata": {},
   "source": [
    "## 베타 분포\n",
    "데이터의 분포를 표현하는 분포가 아닌 모수값 추정 시 신뢰도를 표현하는데 사용   \n",
    "모수 a,b   \n",
    "표본 공간 0~1 실수\n",
    "확률 밀도함수\n",
    "$$Beta(x;a,b)$$"
   ]
  },
  {
   "cell_type": "code",
   "execution_count": 16,
   "id": "51598f14",
   "metadata": {},
   "outputs": [
    {
     "data": {
      "image/png": "[encoded data removed]",
      "text/plain": [
       "<Figure size 432x288 with 4 Axes>"
      ]
     },
     "metadata": {
      "needs_background": "light"
     },
     "output_type": "display_data"
    }
   ],
   "source": [
    "xx = np.linspace(0,1, 1000)\n",
    "plt.subplot(221)\n",
    "plt.fill_between(xx, scipy.stats.beta(1,1).pdf(xx))\n",
    "plt.ylim(0,6)\n",
    "plt.title('(A) a = 1, b= 1')\n",
    "\n",
    "plt.subplot(222)\n",
    "plt.fill_between(xx, scipy.stats.beta(4,2).pdf(xx))\n",
    "plt.ylim(0,6)\n",
    "plt.title('(B) a = 4, b= 2')\n",
    "\n",
    "plt.subplot(223)\n",
    "plt.fill_between(xx, scipy.stats.beta(8,4).pdf(xx))\n",
    "plt.ylim(0,6)\n",
    "plt.title('(C) a = 8, b= 4')\n",
    "\n",
    "plt.subplot(224)\n",
    "plt.fill_between(xx, scipy.stats.beta(30,12).pdf(xx))\n",
    "plt.ylim(0,6)\n",
    "plt.title('(D) a = 30, b= 12')\n",
    "plt.tight_layout()\n",
    "plt.show()"
   ]
  },
  {
   "cell_type": "markdown",
   "id": "3ca8598f",
   "metadata": {},
   "source": [
    "- 기댓값\n",
    "$$E[x] = \\frac{a}{a+b}$$\n",
    "\n",
    "- 최빈값\n",
    "$$mode = \\frac{a-1}{a+b-2}$$\n",
    "\n",
    "- 분산\n",
    "$$Var[x] = \\frac{ab}{{(a+b)}^2(a+b+1)}$$"
   ]
  },
  {
   "cell_type": "markdown",
   "id": "fe1637f4",
   "metadata": {},
   "source": [
    "## 감마분포\n",
    "베타분포와 달리 0 ~ 무한의 표본을 사용\n",
    "\n",
    "$$Gam(x;a,b)$$"
   ]
  },
  {
   "cell_type": "code",
   "execution_count": 17,
   "id": "6984a93a",
   "metadata": {},
   "outputs": [
    {
     "data": {
      "image/png": "[encoded data removed]",
      "text/plain": [
       "<Figure size 432x288 with 4 Axes>"
      ]
     },
     "metadata": {
      "needs_background": "light"
     },
     "output_type": "display_data"
    }
   ],
   "source": [
    "xx = np.linspace(0,16,100)\n",
    "plt.subplot(221)\n",
    "plt.fill_between(xx, scipy.stats.gamma(8).pdf(xx))\n",
    "plt.ylim(0,0.4)\n",
    "plt.grid()\n",
    "plt.title(\"(A) a=9, b=1, 최빈값=7\")\n",
    "\n",
    "plt.subplot(222)\n",
    "plt.fill_between(xx, scipy.stats.gamma(6).pdf(xx))\n",
    "plt.ylim(0,0.4)\n",
    "plt.grid()\n",
    "plt.title(\"(B) a=6, b=1, 최빈값=5\")\n",
    "\n",
    "plt.subplot(223)\n",
    "plt.fill_between(xx, scipy.stats.gamma(3).pdf(xx))\n",
    "plt.ylim(0,0.4)\n",
    "plt.grid()\n",
    "plt.title(\"(C) a=3, b=1, 최빈값=2\")\n",
    "\n",
    "plt.subplot(224)\n",
    "plt.fill_between(xx, scipy.stats.gamma(2).pdf(xx))\n",
    "plt.ylim(0,0.4)\n",
    "plt.title(\"(D) a=2, b=1, 최빈값=1\")\n",
    "plt.tight_layout()\n",
    "plt.grid()\n",
    "plt.show()"
   ]
  },
  {
   "cell_type": "markdown",
   "id": "b5a7019c",
   "metadata": {},
   "source": [
    "- 기대값\n",
    "$$E[X]=\\frac{a}{b}$$\n",
    "- 최빈값\n",
    "$$mode=\\frac{a-1}{b}$$\n",
    "- 분산\n",
    "$$Var[X]=\\frac{a}{b^2}$$"
   ]
  },
  {
   "cell_type": "markdown",
   "id": "c3b35450",
   "metadata": {},
   "source": [
    "## 디리클레 분포\n",
    "베타분포의 확장\n",
    "베타분포는 0 ~ 1을가지는 단일 확률변수에 대한 분포   \n",
    "디리클레분포는 0 ~ 1을가지는 다변수 확률 변수   \n",
    "모수 추정시 베이지안 모형에 사용   \n",
    "밀도 함수\n",
    "$$Dir(x;a)$$\n",
    "조건\n",
    "$$0<={x_i}<=1, \\Sigma_{i=1}^K{x_i}=1$$\n",
    "\n",
    "베타분포는 K=2인 디리클레 분포"
   ]
  }
 ],
 "metadata": {
  "kernelspec": {
   "display_name": "Python 3 (ipykernel)",
   "language": "python",
   "name": "python3"
  },
  "language_info": {
   "codemirror_mode": {
    "name": "ipython",
    "version": 3
   },
   "file_extension": ".py",
   "mimetype": "text/x-python",
   "name": "python",
   "nbconvert_exporter": "python",
   "pygments_lexer": "ipython3",
   "version": "3.9.12"
  }
 },
 "nbformat": 4,
 "nbformat_minor": 5
}

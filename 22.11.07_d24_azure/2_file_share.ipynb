{
 "cells": [
  {
   "cell_type": "markdown",
   "id": "98de27b3",
   "metadata": {},
   "source": [
    "## 2. Python scrpit를 사용하여 파일 공유에 파일 생성 & 업로드 & 불러오기"
   ]
  },
  {
   "cell_type": "code",
   "execution_count": null,
   "id": "9af87bb6",
   "metadata": {},
   "outputs": [],
   "source": [
    "from azure.storage.file import FileService\n",
    "\n",
    "# Azure 포탈 >> 스토리지 >> 액세스키 >> 스토리지 계정이름 \n",
    "file_service = FileService(account_name= 'xxxxxxxxxxxxxxx',\n",
    "                           account_key = 'xxxxxxxxxxxxxxx')"
   ]
  },
  {
   "cell_type": "markdown",
   "id": "4229d300",
   "metadata": {},
   "source": [
    "### 파일 생성"
   ]
  },
  {
   "cell_type": "code",
   "execution_count": 3,
   "id": "3cdd32fc",
   "metadata": {},
   "outputs": [
    {
     "data": {
      "text/plain": [
       "True"
      ]
     },
     "execution_count": 3,
     "metadata": {},
     "output_type": "execute_result"
    }
   ],
   "source": [
    "file_service.create_share('myshare')  # 스토리지 >> 파일 공유 >> 'myshare' 공유폴더"
   ]
  },
  {
   "cell_type": "code",
   "execution_count": 4,
   "id": "2f319484",
   "metadata": {},
   "outputs": [
    {
     "data": {
      "text/plain": [
       "True"
      ]
     },
     "execution_count": 4,
     "metadata": {},
     "output_type": "execute_result"
    }
   ],
   "source": [
    "file_service.create_directory('myshare', 'sampledir')  # myshare 폴더안에 sampledir 생성"
   ]
  },
  {
   "cell_type": "markdown",
   "id": "2a83e8a3",
   "metadata": {},
   "source": [
    "### 폴더 안에 이미지 업로드"
   ]
  },
  {
   "cell_type": "code",
   "execution_count": 5,
   "id": "612ee85e",
   "metadata": {},
   "outputs": [],
   "source": [
    "from azure.storage.file import ContentSettings\n",
    "\n",
    "# dog image를 myfile이라는 파일로 myshare에 업데이트\n",
    "file_service.create_file_from_path('myshare',  # 상위폴더\n",
    "                                   None, \n",
    "                                   'myfile',   # 생성폴더\n",
    "                                   'dog_image.jpg',  # 업로드할 이미지\n",
    "                                   content_settings = ContentSettings(content_type= 'image/jpg') # 타입\n",
    "                                  ) # 해당경로에 있는 파일을 선택하겠다"
   ]
  },
  {
   "cell_type": "markdown",
   "id": "eeb7f90a",
   "metadata": {},
   "source": [
    "### 파일목록 확인"
   ]
  },
  {
   "cell_type": "code",
   "execution_count": 7,
   "id": "0db1fd33",
   "metadata": {},
   "outputs": [
    {
     "name": "stdout",
     "output_type": "stream",
     "text": [
      "myfile\n",
      "sampledir\n"
     ]
    }
   ],
   "source": [
    "generator = file_service.list_directories_and_files('myshare')\n",
    "for file_or_dir in generator:\n",
    "    print(file_or_dir.name)"
   ]
  },
  {
   "cell_type": "markdown",
   "id": "d5b7db8d",
   "metadata": {},
   "source": [
    "### 파일 불러오기"
   ]
  },
  {
   "cell_type": "code",
   "execution_count": 8,
   "id": "818a6020",
   "metadata": {},
   "outputs": [
    {
     "data": {
      "text/plain": [
       "<azure.storage.file.models.File at 0x2a2b6cc82e0>"
      ]
     },
     "execution_count": 8,
     "metadata": {},
     "output_type": "execute_result"
    }
   ],
   "source": [
    "file_service.get_file_to_path('myshare', None, 'myfile', 'out-dog_image.jpg')"
   ]
  },
  {
   "cell_type": "markdown",
   "id": "7c474df9",
   "metadata": {},
   "source": [
    "### message(데이터 처리 관련) 다루기"
   ]
  },
  {
   "cell_type": "code",
   "execution_count": null,
   "id": "c8ee1ffc",
   "metadata": {},
   "outputs": [],
   "source": []
  }
 ],
 "metadata": {
  "kernelspec": {
   "display_name": "Python 3 (ipykernel)",
   "language": "python",
   "name": "python3"
  },
  "language_info": {
   "codemirror_mode": {
    "name": "ipython",
    "version": 3
   },
   "file_extension": ".py",
   "mimetype": "text/x-python",
   "name": "python",
   "nbconvert_exporter": "python",
   "pygments_lexer": "ipython3",
   "version": "3.9.12"
  }
 },
 "nbformat": 4,
 "nbformat_minor": 5
}

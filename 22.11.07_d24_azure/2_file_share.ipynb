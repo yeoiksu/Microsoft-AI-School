{
 "cells": [
  {
   "cell_type": "markdown",
   "id": "98de27b3",
   "metadata": {},
   "source": [
    "## 2. File Share\n",
    "- 파일 생성 & 업로드 & 불러오기"
   ]
  },
  {
   "cell_type": "code",
   "execution_count": 33,
   "id": "24a57445",
   "metadata": {
    "scrolled": true
   },
   "outputs": [],
   "source": [
    "# !pip install azure-storage-file"
   ]
  },
  {
   "cell_type": "markdown",
   "id": "a177160a",
   "metadata": {},
   "source": [
    "### File share 연결 코드"
   ]
  },
  {
   "cell_type": "code",
   "execution_count": 2,
   "id": "9af87bb6",
   "metadata": {},
   "outputs": [],
   "source": [
    "from azure.storage.file import FileService\n",
    "ACCOUNT_NAME = 'XXXXXXXXXXXX'\n",
    "ACCOUNT_KEY = 'XXXXXXXXXXXX'\n",
    "\n",
    "# Azure 포탈 >> 스토리지 >> 액세스키 >> 스토리지 계정이름 \n",
    "file_service = FileService(account_name= ACCOUNT_NAME,\n",
    "                           account_key = ACCOUNT_KEY)"
   ]
  },
  {
   "cell_type": "markdown",
   "id": "4229d300",
   "metadata": {},
   "source": [
    "### 파일 생성"
   ]
  },
  {
   "cell_type": "code",
   "execution_count": 3,
   "id": "3cdd32fc",
   "metadata": {},
   "outputs": [
    {
     "data": {
      "text/plain": [
       "True"
      ]
     },
     "execution_count": 3,
     "metadata": {},
     "output_type": "execute_result"
    }
   ],
   "source": [
    "file_service.create_share('myshare')  # 스토리지 >> 파일 공유 >> 'myshare' 공유폴더"
   ]
  },
  {
   "cell_type": "markdown",
   "id": "7acac171",
   "metadata": {},
   "source": [
    "#### myshare안에 sampledir 생성"
   ]
  },
  {
   "cell_type": "code",
   "execution_count": 4,
   "id": "2f319484",
   "metadata": {},
   "outputs": [
    {
     "data": {
      "text/plain": [
       "True"
      ]
     },
     "execution_count": 4,
     "metadata": {},
     "output_type": "execute_result"
    }
   ],
   "source": [
    "file_service.create_directory('myshare', 'sampledir') # myshare 폴더안에 sampledir 생성 "
   ]
  },
  {
   "cell_type": "markdown",
   "id": "2a83e8a3",
   "metadata": {},
   "source": [
    "### 폴더 안에 이미지 업로드"
   ]
  },
  {
   "cell_type": "code",
   "execution_count": 5,
   "id": "612ee85e",
   "metadata": {},
   "outputs": [],
   "source": [
    "from azure.storage.file import ContentSettings\n",
    "\n",
    "# dog image를 myfile이라는 파일로 myshare에 업데이트\n",
    "file_service.create_file_from_path('myshare',  # 상위폴더\n",
    "                                   None, \n",
    "                                   'myfile',   # 생성폴더\n",
    "                                   'dog_image.jpg',  # 업로드할 이미지\n",
    "                                   content_settings = ContentSettings(content_type= 'image/jpg') # 타입\n",
    "                                  ) # 해당경로에 있는 파일을 선택하겠다"
   ]
  },
  {
   "cell_type": "markdown",
   "id": "eeb7f90a",
   "metadata": {},
   "source": [
    "### 파일목록 확인"
   ]
  },
  {
   "cell_type": "code",
   "execution_count": 6,
   "id": "0db1fd33",
   "metadata": {},
   "outputs": [
    {
     "name": "stdout",
     "output_type": "stream",
     "text": [
      "myfile\n",
      "sampledir\n"
     ]
    }
   ],
   "source": [
    "generator = file_service.list_directories_and_files('myshare')\n",
    "for file_or_dir in generator:\n",
    "    print(file_or_dir.name)"
   ]
  },
  {
   "cell_type": "markdown",
   "id": "d5b7db8d",
   "metadata": {},
   "source": [
    "### 파일 불러오기"
   ]
  },
  {
   "cell_type": "code",
   "execution_count": 7,
   "id": "818a6020",
   "metadata": {},
   "outputs": [
    {
     "data": {
      "text/plain": [
       "<azure.storage.file.models.File at 0x1e303518490>"
      ]
     },
     "execution_count": 7,
     "metadata": {},
     "output_type": "execute_result"
    }
   ],
   "source": [
    "file_service.get_file_to_path('myshare', None, 'myfile', 'out-dog_image.jpg')"
   ]
  },
  {
   "cell_type": "markdown",
   "id": "7c474df9",
   "metadata": {},
   "source": [
    "### 자동으로 snapshot 찍기 (SANP)\n",
    "- 매일 밤마다 자동으로 snapshot 생성하기"
   ]
  },
  {
   "cell_type": "code",
   "execution_count": 17,
   "id": "c8ee1ffc",
   "metadata": {},
   "outputs": [],
   "source": [
    "metadata = {'foo': 'bar'}\n",
    "snapshot = file_service.snapshot_share('myshare', metadata= metadata) #새로운 스탭샷 생성"
   ]
  },
  {
   "cell_type": "markdown",
   "id": "7ea01596",
   "metadata": {},
   "source": [
    "### 전체 Snapshot의 목록을 가져온다. \n"
   ]
  },
  {
   "cell_type": "code",
   "execution_count": 22,
   "id": "09adbf81",
   "metadata": {},
   "outputs": [
    {
     "name": "stdout",
     "output_type": "stream",
     "text": [
      "SNAPSHOT NAME\n",
      "SNAPSHOT NAME\n",
      "SNAPSHOT NAME\n"
     ]
    }
   ],
   "source": [
    "shares = list(file_service.list_shares(include_snapshots=True))\n",
    "\n",
    "for s in shares:\n",
    "#     print(s.snapshot)\n",
    "    print('SNAPSHOT NAME')"
   ]
  },
  {
   "cell_type": "markdown",
   "id": "193f498d",
   "metadata": {},
   "source": [
    "### Snapshot의 파일과 디렉토리 목록을 가져온다. "
   ]
  },
  {
   "cell_type": "code",
   "execution_count": 25,
   "id": "09ebb6ad",
   "metadata": {},
   "outputs": [],
   "source": [
    "SNAPSHOT_NAME = 'XXXXXXXX'\n",
    "\n",
    "directories_and_files = list(\n",
    "    file_service.list_directories_and_files('myshare', snapshot= SNAPSHOT_NAME))"
   ]
  },
  {
   "cell_type": "code",
   "execution_count": 26,
   "id": "30f6b872",
   "metadata": {},
   "outputs": [
    {
     "name": "stdout",
     "output_type": "stream",
     "text": [
      "myfile\n",
      "sampledir\n"
     ]
    }
   ],
   "source": [
    "directories_and_files\n",
    "for file_or_dir in generator:\n",
    "    print(file_or_dir.name)"
   ]
  },
  {
   "cell_type": "markdown",
   "id": "dd037fcd",
   "metadata": {},
   "source": [
    "### Snapshot 삭제"
   ]
  },
  {
   "cell_type": "code",
   "execution_count": null,
   "id": "9ea80b3f",
   "metadata": {},
   "outputs": [],
   "source": [
    "file_service.delete_share('myshare', snapshot= SNAPSHOT_NAME)"
   ]
  },
  {
   "cell_type": "markdown",
   "id": "d7838c0b",
   "metadata": {},
   "source": [
    "### File share 삭제\n",
    "- 단 snapshot이 다 삭제되었을 경우에만 File share 삭제 가능\n",
    "- snapshot이 있을 시, 오류메세지 "
   ]
  },
  {
   "cell_type": "markdown",
   "id": "bcaf0297",
   "metadata": {},
   "source": [
    "### 공유 폴더내의 파일의 삭제"
   ]
  },
  {
   "cell_type": "code",
   "execution_count": 32,
   "id": "8021bce9",
   "metadata": {},
   "outputs": [],
   "source": [
    "file_service.delete_file('myshare', None, 'myfile')"
   ]
  },
  {
   "cell_type": "markdown",
   "id": "3b37bdb5",
   "metadata": {},
   "source": [
    "### 공유 폴더의 삭제 "
   ]
  },
  {
   "cell_type": "code",
   "execution_count": 31,
   "id": "8c2b174a",
   "metadata": {},
   "outputs": [
    {
     "data": {
      "text/plain": [
       "True"
      ]
     },
     "execution_count": 31,
     "metadata": {},
     "output_type": "execute_result"
    }
   ],
   "source": [
    "file_service.delete_share('myshare')"
   ]
  }
 ],
 "metadata": {
  "kernelspec": {
   "display_name": "Python 3 (ipykernel)",
   "language": "python",
   "name": "python3"
  },
  "language_info": {
   "codemirror_mode": {
    "name": "ipython",
    "version": 3
   },
   "file_extension": ".py",
   "mimetype": "text/x-python",
   "name": "python",
   "nbconvert_exporter": "python",
   "pygments_lexer": "ipython3",
   "version": "3.9.12"
  }
 },
 "nbformat": 4,
 "nbformat_minor": 5
}

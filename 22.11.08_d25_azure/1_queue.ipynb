{
 "cells": [
  {
   "cell_type": "markdown",
   "id": "24d09a63",
   "metadata": {},
   "source": [
    "## 1. Queue"
   ]
  },
  {
   "cell_type": "code",
   "execution_count": 1,
   "id": "c1337372",
   "metadata": {
    "scrolled": true
   },
   "outputs": [
    {
     "name": "stdout",
     "output_type": "stream",
     "text": [
      "Requirement already satisfied: azure-storage-queue==2.1.0 in c:\\users\\user\\anaconda3\\lib\\site-packages (2.1.0)\n",
      "Requirement already satisfied: azure-storage-common~=2.1 in c:\\users\\user\\anaconda3\\lib\\site-packages (from azure-storage-queue==2.1.0) (2.1.0)\n",
      "Requirement already satisfied: azure-common>=1.1.5 in c:\\users\\user\\anaconda3\\lib\\site-packages (from azure-storage-queue==2.1.0) (1.1.28)\n",
      "Requirement already satisfied: requests in c:\\users\\user\\anaconda3\\lib\\site-packages (from azure-storage-common~=2.1->azure-storage-queue==2.1.0) (2.27.1)\n",
      "Requirement already satisfied: cryptography in c:\\users\\user\\anaconda3\\lib\\site-packages (from azure-storage-common~=2.1->azure-storage-queue==2.1.0) (3.4.8)\n",
      "Requirement already satisfied: python-dateutil in c:\\users\\user\\anaconda3\\lib\\site-packages (from azure-storage-common~=2.1->azure-storage-queue==2.1.0) (2.8.2)\n",
      "Requirement already satisfied: cffi>=1.12 in c:\\users\\user\\anaconda3\\lib\\site-packages (from cryptography->azure-storage-common~=2.1->azure-storage-queue==2.1.0) (1.15.0)\n",
      "Requirement already satisfied: pycparser in c:\\users\\user\\anaconda3\\lib\\site-packages (from cffi>=1.12->cryptography->azure-storage-common~=2.1->azure-storage-queue==2.1.0) (2.21)\n",
      "Requirement already satisfied: six>=1.5 in c:\\users\\user\\anaconda3\\lib\\site-packages (from python-dateutil->azure-storage-common~=2.1->azure-storage-queue==2.1.0) (1.16.0)\n",
      "Requirement already satisfied: charset-normalizer~=2.0.0 in c:\\users\\user\\anaconda3\\lib\\site-packages (from requests->azure-storage-common~=2.1->azure-storage-queue==2.1.0) (2.0.4)\n",
      "Requirement already satisfied: urllib3<1.27,>=1.21.1 in c:\\users\\user\\anaconda3\\lib\\site-packages (from requests->azure-storage-common~=2.1->azure-storage-queue==2.1.0) (1.26.9)\n",
      "Requirement already satisfied: certifi>=2017.4.17 in c:\\users\\user\\anaconda3\\lib\\site-packages (from requests->azure-storage-common~=2.1->azure-storage-queue==2.1.0) (2021.10.8)\n",
      "Requirement already satisfied: idna<4,>=2.5 in c:\\users\\user\\anaconda3\\lib\\site-packages (from requests->azure-storage-common~=2.1->azure-storage-queue==2.1.0) (3.3)\n"
     ]
    }
   ],
   "source": [
    "!pip install azure-storage-queue==2.1.0"
   ]
  },
  {
   "cell_type": "code",
   "execution_count": 2,
   "id": "07805f9c",
   "metadata": {},
   "outputs": [],
   "source": [
    "from azure.storage.queue import QueueService, QueueMessageFormat\n",
    "import os, uuid"
   ]
  },
  {
   "cell_type": "markdown",
   "id": "724130f4",
   "metadata": {},
   "source": [
    "### Queue serivce 연결 & 생성"
   ]
  },
  {
   "cell_type": "code",
   "execution_count": 3,
   "id": "37543bd0",
   "metadata": {},
   "outputs": [],
   "source": [
    "CONNECTION_STRING = 'XXXXXXXXXXXXXXX'"
   ]
  },
  {
   "cell_type": "code",
   "execution_count": 4,
   "id": "b86afe34",
   "metadata": {},
   "outputs": [
    {
     "name": "stdout",
     "output_type": "stream",
     "text": [
      "Creating queue:queue-30d4dc0a-62ef-40b1-ad21-5cb2391b7c67\n"
     ]
    },
    {
     "data": {
      "text/plain": [
       "True"
      ]
     },
     "execution_count": 4,
     "metadata": {},
     "output_type": "execute_result"
    }
   ],
   "source": [
    "QUEUE_NAME= 'queue-' + str(uuid.uuid4())  # 난수 생성\n",
    "print('Creating queue: ' + QUEUE_NAME)\n",
    "\n",
    "queue_service = QueueService(connection_string= CONNECTION_STRING)  # 연결\n",
    "queue_service.create_queue(QUEUE_NAME)  # 생성"
   ]
  },
  {
   "cell_type": "markdown",
   "id": "4e6f42f9",
   "metadata": {},
   "source": [
    "### Message encoding\n",
    "- 인터넷에 meassage 보낼 때 encoding한 형태로 보내야함"
   ]
  },
  {
   "cell_type": "code",
   "execution_count": 5,
   "id": "33b18dfd",
   "metadata": {},
   "outputs": [
    {
     "name": "stdout",
     "output_type": "stream",
     "text": [
      "Adding message: Hello, World\n",
      "b'SGVsbG8sIFdvcmxk'\n"
     ]
    },
    {
     "data": {
      "text/plain": [
       "<azure.storage.queue.models.QueueMessage at 0x1591a447430>"
      ]
     },
     "execution_count": 5,
     "metadata": {},
     "output_type": "execute_result"
    }
   ],
   "source": [
    "## Setup Base64 encoding & decoding functions\n",
    "queue_service.encode_function = QueueMessageFormat.binary_base64encode\n",
    "queue_service.decode_function = QueueMessageFormat.binary_base64decode\n",
    "\n",
    "import base64 \n",
    "message = 'Hello, World' # Message to send \n",
    "\n",
    "print('Adding message: ' + message)\n",
    "\n",
    "message = base64.b64encode(message.encode('utf-8'))  # eecoding !!!\n",
    "print(message) # encoding 되면 binary data\n",
    "\n",
    "queue_service.put_message(QUEUE_NAME, message)  # put_message !!!"
   ]
  },
  {
   "cell_type": "markdown",
   "id": "892c3029",
   "metadata": {},
   "source": [
    "### Message decoding"
   ]
  },
  {
   "cell_type": "code",
   "execution_count": 6,
   "id": "130a1ccb",
   "metadata": {},
   "outputs": [
    {
     "name": "stdout",
     "output_type": "stream",
     "text": [
      "Peeked Messages:  Hello, World\n"
     ]
    }
   ],
   "source": [
    "messages = queue_service.peek_messages(queue_name= QUEUE_NAME)\n",
    "\n",
    "for peeked_message in messages:\n",
    "    MESSAGE = base64.b64decode(peeked_message.content)  # decoding !!!\n",
    "    print('Peeked Messages: ', MESSAGE.decode('utf-8'))"
   ]
  },
  {
   "cell_type": "code",
   "execution_count": 10,
   "id": "7295d2c0",
   "metadata": {},
   "outputs": [],
   "source": [
    "messages = queue_service.get_messages(QUEUE_NAME)  # get_messages !!!\n",
    "\n",
    "for msg in messages:\n",
    "    message = base64.b64decode(msg.content)\n",
    "    print('Message: ' + message.decode('utf-8'))"
   ]
  },
  {
   "cell_type": "markdown",
   "id": "362db0e1",
   "metadata": {},
   "source": [
    "### Queue 삭제"
   ]
  },
  {
   "cell_type": "code",
   "execution_count": 11,
   "id": "4a79e6db",
   "metadata": {},
   "outputs": [
    {
     "name": "stdout",
     "output_type": "stream",
     "text": [
      "Deleting Queue... queue-30d4dc0a-62ef-40b1-ad21-5cb2391b7c67\n",
      "Queue deleted\n"
     ]
    }
   ],
   "source": [
    "print('Deleting Queue...', QUEUE_NAME)\n",
    "queue_service.delete_queue(queue_name= QUEUE_NAME)\n",
    "print('Queue deleted')"
   ]
  },
  {
   "cell_type": "code",
   "execution_count": null,
   "id": "f626db59",
   "metadata": {},
   "outputs": [],
   "source": []
  }
 ],
 "metadata": {
  "kernelspec": {
   "display_name": "Python 3 (ipykernel)",
   "language": "python",
   "name": "python3"
  },
  "language_info": {
   "codemirror_mode": {
    "name": "ipython",
    "version": 3
   },
   "file_extension": ".py",
   "mimetype": "text/x-python",
   "name": "python",
   "nbconvert_exporter": "python",
   "pygments_lexer": "ipython3",
   "version": "3.9.12"
  }
 },
 "nbformat": 4,
 "nbformat_minor": 5
}

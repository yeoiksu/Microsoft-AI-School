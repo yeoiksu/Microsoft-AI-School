{
 "cells": [
  {
   "cell_type": "markdown",
   "id": "f61495c5",
   "metadata": {},
   "source": [
    "## 3. Azure SQL Database\n",
    "<br>\n",
    "\n",
    "[공식 문서](https://learn.microsoft.com/en-us/azure/mysql/single-server/connect-python) 확인할 것"
   ]
  },
  {
   "cell_type": "code",
   "execution_count": 1,
   "id": "7ec67bd8",
   "metadata": {},
   "outputs": [],
   "source": [
    "import pymysql"
   ]
  },
  {
   "cell_type": "code",
   "execution_count": 9,
   "id": "e22140f6",
   "metadata": {},
   "outputs": [],
   "source": [
    "# 접속하기 위한 정보 입력\n",
    "host_name = 'xxxxxxxxxxxxxx' # Azure SQL의 서버 이름\n",
    "user_name = 'xxxxxxxxxxxxxx' # Azure SQL의 서버 관리자 로그인 이름\n",
    "password  = 'xxxxxxxxxxxxxx' # 패스워드\n",
    "database_name = 'xxxxxxxxxx' # Workbench의 database이름"
   ]
  },
  {
   "cell_type": "markdown",
   "id": "045f720b",
   "metadata": {},
   "source": [
    "#### Database 연결하기"
   ]
  },
  {
   "cell_type": "code",
   "execution_count": 14,
   "id": "20e3af10",
   "metadata": {},
   "outputs": [],
   "source": [
    "# 먼저 Azure SQL >> 네트워킹 >> 방화벽을 추가하여 Jupyter notebook에서 접근할 수 있게 해줌\n",
    "db = pymysql.connect(\n",
    "    host    = host_name,\n",
    "    port    = 3306,        # 지정안하면 default 3306\n",
    "    user    = user_name,\n",
    "    passwd  = password,\n",
    "    db      = database_name,\n",
    "    charset = 'utf8',\n",
    "    ssl={\"fake_flag_to_enable_tls\":True}\n",
    ")"
   ]
  },
  {
   "cell_type": "code",
   "execution_count": 15,
   "id": "32405c1b",
   "metadata": {},
   "outputs": [],
   "source": [
    "import pandas as pd"
   ]
  },
  {
   "cell_type": "code",
   "execution_count": 17,
   "id": "1d1c6a62",
   "metadata": {
    "scrolled": false
   },
   "outputs": [
    {
     "name": "stderr",
     "output_type": "stream",
     "text": [
      "C:\\Users\\user\\anaconda3\\lib\\site-packages\\pandas\\io\\sql.py:761: UserWarning: pandas only support SQLAlchemy connectable(engine/connection) ordatabase string URI or sqlite3 DBAPI2 connectionother DBAPI2 objects are not tested, please consider using SQLAlchemy\n",
      "  warnings.warn(\n"
     ]
    },
    {
     "data": {
      "text/html": [
       "<div>\n",
       "<style scoped>\n",
       "    .dataframe tbody tr th:only-of-type {\n",
       "        vertical-align: middle;\n",
       "    }\n",
       "\n",
       "    .dataframe tbody tr th {\n",
       "        vertical-align: top;\n",
       "    }\n",
       "\n",
       "    .dataframe thead th {\n",
       "        text-align: right;\n",
       "    }\n",
       "</style>\n",
       "<table border=\"1\" class=\"dataframe\">\n",
       "  <thead>\n",
       "    <tr style=\"text-align: right;\">\n",
       "      <th></th>\n",
       "      <th>employeeNumber</th>\n",
       "      <th>lastName</th>\n",
       "      <th>firstName</th>\n",
       "      <th>extension</th>\n",
       "      <th>email</th>\n",
       "      <th>officeCode</th>\n",
       "      <th>reportsTo</th>\n",
       "      <th>jobTitle</th>\n",
       "    </tr>\n",
       "  </thead>\n",
       "  <tbody>\n",
       "    <tr>\n",
       "      <th>0</th>\n",
       "      <td>1002</td>\n",
       "      <td>Murphy</td>\n",
       "      <td>Diane</td>\n",
       "      <td>x5800</td>\n",
       "      <td>dmurphy@classicmodelcars.com</td>\n",
       "      <td>1</td>\n",
       "      <td>NaN</td>\n",
       "      <td>President</td>\n",
       "    </tr>\n",
       "    <tr>\n",
       "      <th>1</th>\n",
       "      <td>1056</td>\n",
       "      <td>Patterson</td>\n",
       "      <td>Mary</td>\n",
       "      <td>x4611</td>\n",
       "      <td>mpatterso@classicmodelcars.com</td>\n",
       "      <td>1</td>\n",
       "      <td>1002.0</td>\n",
       "      <td>VP Sales</td>\n",
       "    </tr>\n",
       "    <tr>\n",
       "      <th>2</th>\n",
       "      <td>1076</td>\n",
       "      <td>Firrelli</td>\n",
       "      <td>Jeff</td>\n",
       "      <td>x9273</td>\n",
       "      <td>jfirrelli@classicmodelcars.com</td>\n",
       "      <td>1</td>\n",
       "      <td>1002.0</td>\n",
       "      <td>VP Marketing</td>\n",
       "    </tr>\n",
       "    <tr>\n",
       "      <th>3</th>\n",
       "      <td>1088</td>\n",
       "      <td>Patterson</td>\n",
       "      <td>William</td>\n",
       "      <td>x4871</td>\n",
       "      <td>wpatterson@classicmodelcars.com</td>\n",
       "      <td>6</td>\n",
       "      <td>1056.0</td>\n",
       "      <td>Sales Manager (APAC)</td>\n",
       "    </tr>\n",
       "    <tr>\n",
       "      <th>4</th>\n",
       "      <td>1102</td>\n",
       "      <td>Bondur</td>\n",
       "      <td>Gerard</td>\n",
       "      <td>x5408</td>\n",
       "      <td>gbondur@classicmodelcars.com</td>\n",
       "      <td>4</td>\n",
       "      <td>1056.0</td>\n",
       "      <td>Sale Manager (EMEA)</td>\n",
       "    </tr>\n",
       "  </tbody>\n",
       "</table>\n",
       "</div>"
      ],
      "text/plain": [
       "   employeeNumber   lastName firstName extension  \\\n",
       "0            1002     Murphy     Diane     x5800   \n",
       "1            1056  Patterson      Mary     x4611   \n",
       "2            1076   Firrelli      Jeff     x9273   \n",
       "3            1088  Patterson   William     x4871   \n",
       "4            1102     Bondur    Gerard     x5408   \n",
       "\n",
       "                             email officeCode  reportsTo              jobTitle  \n",
       "0     dmurphy@classicmodelcars.com          1        NaN             President  \n",
       "1   mpatterso@classicmodelcars.com          1     1002.0              VP Sales  \n",
       "2   jfirrelli@classicmodelcars.com          1     1002.0          VP Marketing  \n",
       "3  wpatterson@classicmodelcars.com          6     1056.0  Sales Manager (APAC)  \n",
       "4     gbondur@classicmodelcars.com          4     1056.0   Sale Manager (EMEA)  "
      ]
     },
     "execution_count": 17,
     "metadata": {},
     "output_type": "execute_result"
    }
   ],
   "source": [
    "# 읽어오기\n",
    "SQL_QUERY = 'SELECT * FROM employees'\n",
    "\n",
    "df = pd.read_sql(SQL_QUERY, db)\n",
    "df.head()"
   ]
  },
  {
   "cell_type": "markdown",
   "id": "589d0152",
   "metadata": {},
   "source": [
    "#### CREATE table"
   ]
  },
  {
   "cell_type": "code",
   "execution_count": 24,
   "id": "3546e8b0",
   "metadata": {},
   "outputs": [],
   "source": [
    "SQL_QUERY = '''\n",
    "CREATE TABLE tempTable(\n",
    "  id TINYINT NOT NULL AUTO_INCREMENT,\n",
    "  user_name varchar(10) NOT NULL,\n",
    "  phone varchar(30) NULL,\n",
    "  PRIMARY KEY(id)\n",
    ")\n",
    "'''\n",
    "\n",
    "cursor = db.cursor()\n",
    "cursor.execute(SQL_QUERY)\n",
    "cursor.close()"
   ]
  },
  {
   "cell_type": "markdown",
   "id": "fd43511a",
   "metadata": {},
   "source": [
    "#### INSERT data on table"
   ]
  },
  {
   "cell_type": "code",
   "execution_count": 26,
   "id": "acbb59c8",
   "metadata": {},
   "outputs": [],
   "source": [
    "SQL_QUERY = \"INSERT INTO tempTable(user_name,phone) VALUES('oh my girl','010-0000-0000')\"\n",
    "\n",
    "cursor = db.cursor()\n",
    "cursor.execute(SQL_QUERY)\n",
    "cursor.close()"
   ]
  },
  {
   "cell_type": "markdown",
   "id": "c7d6a309",
   "metadata": {},
   "source": [
    "#### SELECT data on table"
   ]
  },
  {
   "cell_type": "code",
   "execution_count": 27,
   "id": "d45014db",
   "metadata": {},
   "outputs": [
    {
     "name": "stderr",
     "output_type": "stream",
     "text": [
      "C:\\Users\\user\\anaconda3\\lib\\site-packages\\pandas\\io\\sql.py:761: UserWarning: pandas only support SQLAlchemy connectable(engine/connection) ordatabase string URI or sqlite3 DBAPI2 connectionother DBAPI2 objects are not tested, please consider using SQLAlchemy\n",
      "  warnings.warn(\n"
     ]
    },
    {
     "data": {
      "text/html": [
       "<div>\n",
       "<style scoped>\n",
       "    .dataframe tbody tr th:only-of-type {\n",
       "        vertical-align: middle;\n",
       "    }\n",
       "\n",
       "    .dataframe tbody tr th {\n",
       "        vertical-align: top;\n",
       "    }\n",
       "\n",
       "    .dataframe thead th {\n",
       "        text-align: right;\n",
       "    }\n",
       "</style>\n",
       "<table border=\"1\" class=\"dataframe\">\n",
       "  <thead>\n",
       "    <tr style=\"text-align: right;\">\n",
       "      <th></th>\n",
       "      <th>id</th>\n",
       "      <th>user_name</th>\n",
       "      <th>phone</th>\n",
       "    </tr>\n",
       "  </thead>\n",
       "  <tbody>\n",
       "    <tr>\n",
       "      <th>0</th>\n",
       "      <td>1</td>\n",
       "      <td>oh my girl</td>\n",
       "      <td>010-0000-0000</td>\n",
       "    </tr>\n",
       "  </tbody>\n",
       "</table>\n",
       "</div>"
      ],
      "text/plain": [
       "   id   user_name          phone\n",
       "0   1  oh my girl  010-0000-0000"
      ]
     },
     "execution_count": 27,
     "metadata": {},
     "output_type": "execute_result"
    }
   ],
   "source": [
    "SQL_QUERY = 'SELECT * FROM tempTable'\n",
    "df = pd.read_sql(SQL_QUERY, db)\n",
    "df.head()"
   ]
  },
  {
   "cell_type": "code",
   "execution_count": null,
   "id": "aa051780",
   "metadata": {},
   "outputs": [],
   "source": []
  }
 ],
 "metadata": {
  "kernelspec": {
   "display_name": "Python 3 (ipykernel)",
   "language": "python",
   "name": "python3"
  },
  "language_info": {
   "codemirror_mode": {
    "name": "ipython",
    "version": 3
   },
   "file_extension": ".py",
   "mimetype": "text/x-python",
   "name": "python",
   "nbconvert_exporter": "python",
   "pygments_lexer": "ipython3",
   "version": "3.9.12"
  }
 },
 "nbformat": 4,
 "nbformat_minor": 5
}

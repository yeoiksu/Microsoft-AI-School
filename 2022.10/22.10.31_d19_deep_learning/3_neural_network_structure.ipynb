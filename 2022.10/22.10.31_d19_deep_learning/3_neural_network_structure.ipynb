{
 "cells": [
  {
   "cell_type": "markdown",
   "id": "ca17a0f8",
   "metadata": {},
   "source": [
    "## 논리회로 (NOT, AND, NAND, OR, NOR)"
   ]
  },
  {
   "cell_type": "code",
   "execution_count": 1,
   "id": "f2e40f74",
   "metadata": {},
   "outputs": [],
   "source": [
    "import numpy as np\n",
    "import matplotlib.pyplot as plt"
   ]
  },
  {
   "cell_type": "markdown",
   "id": "14899052",
   "metadata": {},
   "source": [
    "### 1. AND 게이터"
   ]
  },
  {
   "cell_type": "code",
   "execution_count": 2,
   "id": "9bb70047",
   "metadata": {},
   "outputs": [],
   "source": [
    "def AND(a, b):\n",
    "    input = np.array([a,b])\n",
    "    \n",
    "    # 가중치 설정\n",
    "    weights = np.array([0.4, 0.4]) \n",
    "    bias = -0.6\n",
    "    \n",
    "    # 출력값\n",
    "    value = np.sum(input * weights) + bias\n",
    "    \n",
    "    # 반환값\n",
    "    if value <= 0 :\n",
    "        return 0\n",
    "    else:\n",
    "        return 1"
   ]
  },
  {
   "cell_type": "code",
   "execution_count": 3,
   "id": "6953d2a0",
   "metadata": {},
   "outputs": [
    {
     "name": "stdout",
     "output_type": "stream",
     "text": [
      "0\n",
      "0\n",
      "0\n",
      "1\n"
     ]
    }
   ],
   "source": [
    "print(AND(0, 0))\n",
    "print(AND(0, 1))\n",
    "print(AND(1, 0))\n",
    "print(AND(1, 1))"
   ]
  },
  {
   "cell_type": "code",
   "execution_count": 4,
   "id": "5fe39a3f",
   "metadata": {},
   "outputs": [
    {
     "data": {
      "image/png": "[encoded data removed]",
      "text/plain": [
       "<Figure size 432x288 with 1 Axes>"
      ]
     },
     "metadata": {
      "needs_background": "light"
     },
     "output_type": "display_data"
    }
   ],
   "source": [
    "x1 = np.arange(-2,2,0.01)\n",
    "x2 = np.arange(-2,2,0.01)\n",
    "bias = -0.6\n",
    "\n",
    "y = ( -0.4*x1 - bias) / 0.4\n",
    "\n",
    "plt.plot(x1, y, 'r--')\n",
    "plt.scatter(0,0, color= 'orange', marker='o', s=150)\n",
    "plt.scatter(0,1, color= 'orange', marker='o', s=150)\n",
    "plt.scatter(1,0, color= 'orange', marker='o', s=150)\n",
    "plt.scatter(1,1, color= 'blue',   marker='^', s=150)\n",
    "plt.xlim(-0.5, 1.5)\n",
    "plt.ylim(-0.5, 1.5)\n",
    "plt.grid()"
   ]
  },
  {
   "cell_type": "markdown",
   "id": "b702404f",
   "metadata": {},
   "source": [
    "### 2. OR 게이터"
   ]
  },
  {
   "cell_type": "code",
   "execution_count": 5,
   "id": "69eee087",
   "metadata": {},
   "outputs": [],
   "source": [
    "def OR(a, b):\n",
    "    input = np.array([a,b])\n",
    "    \n",
    "    # 가중치 설정\n",
    "    weights = np.array([0.4, 0.4]) \n",
    "    bias = -0.3\n",
    "    \n",
    "    # 출력값\n",
    "    value = np.sum(input * weights) + bias\n",
    "    \n",
    "    # 반환값\n",
    "    if value <= 0 :\n",
    "        return 0\n",
    "    else:\n",
    "        return 1"
   ]
  },
  {
   "cell_type": "code",
   "execution_count": 6,
   "id": "78194877",
   "metadata": {},
   "outputs": [
    {
     "name": "stdout",
     "output_type": "stream",
     "text": [
      "0\n",
      "1\n",
      "1\n",
      "1\n"
     ]
    }
   ],
   "source": [
    "print(OR(0, 0))\n",
    "print(OR(0, 1))\n",
    "print(OR(1, 0))\n",
    "print(OR(1, 1))"
   ]
  },
  {
   "cell_type": "code",
   "execution_count": 7,
   "id": "78ae483f",
   "metadata": {},
   "outputs": [
    {
     "data": {
      "image/png": "[encoded data removed]",
      "text/plain": [
       "<Figure size 432x288 with 1 Axes>"
      ]
     },
     "metadata": {
      "needs_background": "light"
     },
     "output_type": "display_data"
    }
   ],
   "source": [
    "x1 = np.arange(-2,2,0.01)\n",
    "x2 = np.arange(-2,2,0.01)\n",
    "bias = -0.3\n",
    "\n",
    "y = ( -0.4*x1 - bias) / 0.4\n",
    "\n",
    "plt.plot(x1, y, 'r--')\n",
    "plt.scatter(0,0, color= 'orange', marker='o', s=150)\n",
    "plt.scatter(0,1, color= 'blue', marker='^', s=150)\n",
    "plt.scatter(1,0, color= 'blue', marker='^', s=150)\n",
    "plt.scatter(1,1, color= 'blue', marker='^', s=150)\n",
    "plt.xlim(-0.5, 1.5)\n",
    "plt.ylim(-0.5, 1.5)\n",
    "plt.grid()"
   ]
  },
  {
   "cell_type": "markdown",
   "id": "79ffa8e2",
   "metadata": {},
   "source": [
    "### 3. NAND 게이트"
   ]
  },
  {
   "cell_type": "code",
   "execution_count": 8,
   "id": "3a0655e4",
   "metadata": {},
   "outputs": [],
   "source": [
    "def NAND(a, b):\n",
    "  input = np.array([a,b])\n",
    "\n",
    "  #가중치 설정\n",
    "  weights = np.array([-0.6,-0.6])\n",
    "  bias = 0.7\n",
    "\n",
    "  #출력값\n",
    "  value = np.sum(input * weights) + bias\n",
    "\n",
    "  #반환값\n",
    "  if value <= 0:\n",
    "    return 0\n",
    "  else:\n",
    "    return 1"
   ]
  },
  {
   "cell_type": "code",
   "execution_count": 9,
   "id": "bbd2fff1",
   "metadata": {
    "scrolled": true
   },
   "outputs": [
    {
     "name": "stdout",
     "output_type": "stream",
     "text": [
      "1\n",
      "1\n",
      "1\n",
      "0\n"
     ]
    }
   ],
   "source": [
    "print(NAND(0, 0))\n",
    "print(NAND(0, 1))\n",
    "print(NAND(1, 0))\n",
    "print(NAND(1, 1))"
   ]
  },
  {
   "cell_type": "markdown",
   "id": "8d1bd566",
   "metadata": {},
   "source": [
    "### 4. XOR 게이트"
   ]
  },
  {
   "cell_type": "code",
   "execution_count": 10,
   "id": "e62a0673",
   "metadata": {},
   "outputs": [],
   "source": [
    "def XOR(x1, x2):\n",
    "    s1 = NAND(x1, x2)\n",
    "    s2 = OR(x1, x2)\n",
    "    y  = AND(s1, s2)\n",
    "    \n",
    "    return y"
   ]
  },
  {
   "cell_type": "code",
   "execution_count": 11,
   "id": "be58019b",
   "metadata": {},
   "outputs": [
    {
     "name": "stdout",
     "output_type": "stream",
     "text": [
      "0\n",
      "1\n",
      "1\n",
      "0\n"
     ]
    }
   ],
   "source": [
    "print(XOR(0, 0))\n",
    "print(XOR(0, 1))\n",
    "print(XOR(1, 0))\n",
    "print(XOR(1, 1))"
   ]
  },
  {
   "cell_type": "markdown",
   "id": "5903ed11",
   "metadata": {},
   "source": [
    "### 5. Activation function (활성화 함수)"
   ]
  },
  {
   "cell_type": "markdown",
   "id": "f76a145b",
   "metadata": {},
   "source": [
    "#### 5.1. Step function (계단 함수)"
   ]
  },
  {
   "cell_type": "code",
   "execution_count": 12,
   "id": "d6a234fd",
   "metadata": {},
   "outputs": [],
   "source": [
    "def step_function(x):\n",
    "    if x > 0:\n",
    "        return 1\n",
    "    else:\n",
    "        return 0"
   ]
  },
  {
   "cell_type": "code",
   "execution_count": 13,
   "id": "1996b72e",
   "metadata": {},
   "outputs": [
    {
     "name": "stdout",
     "output_type": "stream",
     "text": [
      "0\n",
      "1\n"
     ]
    }
   ],
   "source": [
    "print(step_function(-3))\n",
    "print(step_function(5))"
   ]
  },
  {
   "cell_type": "code",
   "execution_count": 14,
   "id": "c9f85ecd",
   "metadata": {},
   "outputs": [],
   "source": [
    "def step_function_for_numpy(x):\n",
    "    y = x > 0\n",
    "    value = y.astype(np.int)\n",
    "    \n",
    "    return value"
   ]
  },
  {
   "cell_type": "markdown",
   "id": "eccd1b2a",
   "metadata": {},
   "source": [
    "#### 5.2. Sigmoid function (시그모이드 함수)"
   ]
  },
  {
   "cell_type": "code",
   "execution_count": 15,
   "id": "fad7d4dd",
   "metadata": {},
   "outputs": [
    {
     "name": "stdout",
     "output_type": "stream",
     "text": [
      "0.9525741268224334\n",
      "0.04742587317756678\n"
     ]
    }
   ],
   "source": [
    "def sigmoid(x):\n",
    "    value = 1 / (1 + np.exp(-x))\n",
    "    return value\n",
    "\n",
    "print(sigmoid(3))\n",
    "print(sigmoid(-3))"
   ]
  },
  {
   "cell_type": "code",
   "execution_count": 16,
   "id": "49c676e1",
   "metadata": {},
   "outputs": [
    {
     "name": "stderr",
     "output_type": "stream",
     "text": [
      "C:\\Users\\user\\AppData\\Local\\Temp\\ipykernel_11288\\1420373141.py:3: DeprecationWarning: `np.int` is a deprecated alias for the builtin `int`. To silence this warning, use `int` by itself. Doing this will not modify any behavior and is safe. When replacing `np.int`, you may wish to use e.g. `np.int64` or `np.int32` to specify the precision. If you wish to review your current use, check the release note link for additional information.\n",
      "Deprecated in NumPy 1.20; for more details and guidance: https://numpy.org/devdocs/release/1.20.0-notes.html#deprecations\n",
      "  value = y.astype(np.int)\n"
     ]
    },
    {
     "data": {
      "text/plain": [
       "[<matplotlib.lines.Line2D at 0x2b6d277fdc0>]"
      ]
     },
     "execution_count": 16,
     "metadata": {},
     "output_type": "execute_result"
    },
    {
     "data": {
      "image/png": "[encoded data removed]",
      "text/plain": [
       "<Figure size 432x288 with 1 Axes>"
      ]
     },
     "metadata": {
      "needs_background": "light"
     },
     "output_type": "display_data"
    }
   ],
   "source": [
    "plt.grid()\n",
    "x  = np.arange(-5, 5, 0.01)\n",
    "y1 = sigmoid(x)\n",
    "y2 = step_function_for_numpy(x)\n",
    "\n",
    "plt.plot(x, y1, 'r-')\n",
    "plt.plot(x, y2, 'b--')"
   ]
  },
  {
   "cell_type": "markdown",
   "id": "6758211d",
   "metadata": {},
   "source": [
    "#### 5.3. ReLu "
   ]
  },
  {
   "cell_type": "code",
   "execution_count": 17,
   "id": "3b004861",
   "metadata": {},
   "outputs": [],
   "source": [
    "def ReLu(x):\n",
    "    if x > 0 :\n",
    "        return x\n",
    "    else:\n",
    "        return 0"
   ]
  },
  {
   "cell_type": "markdown",
   "id": "dc6352fa",
   "metadata": {},
   "source": [
    "#### 5.4. Identity function (항등 함수)"
   ]
  },
  {
   "cell_type": "code",
   "execution_count": 18,
   "id": "4c5d3705",
   "metadata": {},
   "outputs": [],
   "source": [
    "def identify_function(x):\n",
    "    return x"
   ]
  },
  {
   "cell_type": "markdown",
   "id": "8a1e5960",
   "metadata": {},
   "source": [
    "#### 5.5. Softmax function\n",
    "- 다중 클래스 분류에 사용"
   ]
  },
  {
   "cell_type": "code",
   "execution_count": 19,
   "id": "c6603656",
   "metadata": {},
   "outputs": [],
   "source": [
    "def Softmax(a):\n",
    "    exp_a = np.exp(a)\n",
    "    sum_exp_a = np.sum(exp_a)\n",
    "    y = exp_a / sum_exp_a\n",
    "    \n",
    "    return y "
   ]
  },
  {
   "cell_type": "code",
   "execution_count": 20,
   "id": "f02f0ef1",
   "metadata": {},
   "outputs": [
    {
     "name": "stdout",
     "output_type": "stream",
     "text": [
      "[0.0587969  0.05320164 0.8748821  0.01311936]\n"
     ]
    }
   ],
   "source": [
    "a = np.array([0.3, 0.2, 3.0, -1.2])\n",
    "print(Softmax(a))"
   ]
  }
 ],
 "metadata": {
  "kernelspec": {
   "display_name": "Python 3 (ipykernel)",
   "language": "python",
   "name": "python3"
  },
  "language_info": {
   "codemirror_mode": {
    "name": "ipython",
    "version": 3
   },
   "file_extension": ".py",
   "mimetype": "text/x-python",
   "name": "python",
   "nbconvert_exporter": "python",
   "pygments_lexer": "ipython3",
   "version": "3.9.12"
  }
 },
 "nbformat": 4,
 "nbformat_minor": 5
}

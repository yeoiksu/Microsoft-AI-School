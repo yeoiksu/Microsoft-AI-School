{
 "cells": [
  {
   "cell_type": "code",
   "execution_count": 1,
   "id": "ebd71374",
   "metadata": {},
   "outputs": [],
   "source": [
    "import numpy as np\n",
    "import matplotlib.pyplot as plt\n",
    "\n",
    "plt.style.use(['seaborn-whitegrid'])"
   ]
  },
  {
   "cell_type": "markdown",
   "id": "82de71d4",
   "metadata": {},
   "source": [
    "## 1. 스칼라 (0차원 텐서)"
   ]
  },
  {
   "cell_type": "code",
   "execution_count": 2,
   "id": "eb3fd791",
   "metadata": {},
   "outputs": [
    {
     "name": "stdout",
     "output_type": "stream",
     "text": [
      "3\n",
      "()\n",
      "0\n"
     ]
    }
   ],
   "source": [
    "x = np.array(3)\n",
    "print(x)\n",
    "print(x.shape)\n",
    "print(np.ndim(x))"
   ]
  },
  {
   "cell_type": "markdown",
   "id": "60573d6b",
   "metadata": {},
   "source": [
    "## 2. 행렬 (2차원 텐서)"
   ]
  },
  {
   "cell_type": "code",
   "execution_count": 3,
   "id": "31cb4a18",
   "metadata": {},
   "outputs": [
    {
     "name": "stdout",
     "output_type": "stream",
     "text": [
      "[ 6  8 10 12]\n",
      "(4,)\n",
      "1\n"
     ]
    }
   ],
   "source": [
    "a = np.array([1,2,3,4])\n",
    "b = np.array([5,6,7,8])\n",
    "\n",
    "c = a + b\n",
    "print(c)\n",
    "print(c.shape)\n",
    "print(np.ndim(c))"
   ]
  },
  {
   "cell_type": "code",
   "execution_count": 4,
   "id": "381bcc5d",
   "metadata": {},
   "outputs": [
    {
     "name": "stdout",
     "output_type": "stream",
     "text": [
      "[ 5 12 21 32]\n",
      "(4,)\n",
      "1\n"
     ]
    }
   ],
   "source": [
    "c = a * b\n",
    "print(c)\n",
    "print(c.shape)\n",
    "print(np.ndim(c))"
   ]
  },
  {
   "cell_type": "code",
   "execution_count": 5,
   "id": "d08763b8",
   "metadata": {},
   "outputs": [
    {
     "name": "stdout",
     "output_type": "stream",
     "text": [
      "[10 20 30]\n"
     ]
    }
   ],
   "source": [
    "# 스칼라와 벡터의 곱\n",
    "a = np.array(10)\n",
    "b = np.array([1,2,3])\n",
    "c = a * b\n",
    "\n",
    "print(c)"
   ]
  },
  {
   "cell_type": "markdown",
   "id": "a015f705",
   "metadata": {},
   "source": [
    "### 전치 행렬: 행과 열을 바꾼 배열의 형태 ( 행렬.T )"
   ]
  },
  {
   "cell_type": "code",
   "execution_count": 6,
   "id": "8ab529b6",
   "metadata": {},
   "outputs": [
    {
     "name": "stdout",
     "output_type": "stream",
     "text": [
      "A\n",
      " [[1 2 3]\n",
      " [4 5 6]]\n",
      "A.shape\n",
      " (2, 3)\n",
      "--------------------\n"
     ]
    }
   ],
   "source": [
    "A = np.array([[1,2,3],[4,5,6]])\n",
    "print('A\\n', A)\n",
    "print('A.shape\\n', A.shape)\n",
    "print('-'*20)"
   ]
  },
  {
   "cell_type": "code",
   "execution_count": 7,
   "id": "9865d74a",
   "metadata": {},
   "outputs": [
    {
     "name": "stdout",
     "output_type": "stream",
     "text": [
      "A\n",
      " [[1 4]\n",
      " [2 5]\n",
      " [3 6]]\n",
      "A.shape\n",
      " (3, 2)\n",
      "--------------------\n"
     ]
    }
   ],
   "source": [
    "A = A.T\n",
    "print('A\\n', A)\n",
    "print('A.shape\\n', A.shape)\n",
    "print('-'*20)"
   ]
  },
  {
   "cell_type": "markdown",
   "id": "83656cf0",
   "metadata": {},
   "source": [
    "## 3. 텐서 (3차원)"
   ]
  },
  {
   "cell_type": "markdown",
   "id": "16ebff51",
   "metadata": {},
   "source": [
    "- 보통 이미지를 나타낼 때 사용\n",
    "- 4차원 텐서 = 동영상"
   ]
  },
  {
   "cell_type": "code",
   "execution_count": 8,
   "id": "df87549f",
   "metadata": {},
   "outputs": [],
   "source": [
    "from keras.datasets import mnist\n",
    "\n",
    "# mnist data\n",
    "(train_images, train_labels), (test_images, test_labels) = mnist.load_data()"
   ]
  },
  {
   "cell_type": "code",
   "execution_count": 9,
   "id": "44aac944",
   "metadata": {},
   "outputs": [
    {
     "name": "stdout",
     "output_type": "stream",
     "text": [
      "3\n"
     ]
    }
   ],
   "source": [
    "print(train_images.ndim)"
   ]
  },
  {
   "cell_type": "code",
   "execution_count": 10,
   "id": "4f195a97",
   "metadata": {},
   "outputs": [
    {
     "name": "stdout",
     "output_type": "stream",
     "text": [
      "(60000, 28, 28)\n"
     ]
    }
   ],
   "source": [
    "print(train_images.shape)"
   ]
  },
  {
   "cell_type": "code",
   "execution_count": 11,
   "id": "49a98ecb",
   "metadata": {},
   "outputs": [
    {
     "name": "stdout",
     "output_type": "stream",
     "text": [
      "uint8\n"
     ]
    }
   ],
   "source": [
    "print(train_images.dtype)"
   ]
  },
  {
   "cell_type": "code",
   "execution_count": 12,
   "id": "cad05d0a",
   "metadata": {},
   "outputs": [
    {
     "data": {
      "text/plain": [
       "5"
      ]
     },
     "execution_count": 12,
     "metadata": {},
     "output_type": "execute_result"
    },
    {
     "data": {
      "image/png": "[encoded data removed]",
      "text/plain": [
       "<Figure size 432x288 with 1 Axes>"
      ]
     },
     "metadata": {},
     "output_type": "display_data"
    }
   ],
   "source": [
    "temp_image = train_images[0]\n",
    "\n",
    "# 0번째 index 출력\n",
    "plt.imshow(temp_image, cmap='gray')\n",
    "\n",
    "# 결과\n",
    "train_labels[0]"
   ]
  },
  {
   "cell_type": "markdown",
   "id": "832609d6",
   "metadata": {},
   "source": [
    "#### 번외편 (joblib을 사용한 model 저장)"
   ]
  },
  {
   "cell_type": "code",
   "execution_count": 13,
   "id": "b5be523d",
   "metadata": {
    "scrolled": true
   },
   "outputs": [
    {
     "data": {
      "text/plain": [
       "['./knn_model.pkl']"
      ]
     },
     "execution_count": 13,
     "metadata": {},
     "output_type": "execute_result"
    }
   ],
   "source": [
    "from sklearn import datasets\n",
    "from sklearn.neighbors import KNeighborsClassifier\n",
    "import joblib\n",
    "\n",
    "dataset = datasets.load_iris()\n",
    "\n",
    "X, y = dataset['data'], dataset['target']\n",
    "model = KNeighborsClassifier(n_neighbors=3)\n",
    "model.fit(X,y)\n",
    "\n",
    "joblib.dump(model, './knn_model.pkl')\n"
   ]
  },
  {
   "cell_type": "code",
   "execution_count": 14,
   "id": "e7aa683b",
   "metadata": {},
   "outputs": [
    {
     "name": "stdout",
     "output_type": "stream",
     "text": [
      "정확도: 96.00\n"
     ]
    }
   ],
   "source": [
    "loaded_model = joblib.load('./knn_model.pkl')\n",
    "\n",
    "score = loaded_model.score(X, y)\n",
    "print('정확도: {:.2f}'.format(score*100) )"
   ]
  }
 ],
 "metadata": {
  "kernelspec": {
   "display_name": "Python 3 (ipykernel)",
   "language": "python",
   "name": "python3"
  },
  "language_info": {
   "codemirror_mode": {
    "name": "ipython",
    "version": 3
   },
   "file_extension": ".py",
   "mimetype": "text/x-python",
   "name": "python",
   "nbconvert_exporter": "python",
   "pygments_lexer": "ipython3",
   "version": "3.9.12"
  }
 },
 "nbformat": 4,
 "nbformat_minor": 5
}

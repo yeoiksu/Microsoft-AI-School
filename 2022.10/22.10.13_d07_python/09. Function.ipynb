{
 "cells": [
  {
   "cell_type": "code",
   "execution_count": 1,
   "id": "ad313448",
   "metadata": {},
   "outputs": [
    {
     "name": "stdout",
     "output_type": "stream",
     "text": [
      "My name is IU\n"
     ]
    }
   ],
   "source": [
    "def ReturnName():\n",
    "    print('My name is IU')\n",
    "    \n",
    "ReturnName()"
   ]
  },
  {
   "cell_type": "code",
   "execution_count": 2,
   "id": "1e83f526",
   "metadata": {},
   "outputs": [
    {
     "name": "stdout",
     "output_type": "stream",
     "text": [
      "My name is Red Velvet\n"
     ]
    }
   ],
   "source": [
    "def ReturnName2(name):\n",
    "    print('My name is {}'.format(name))\n",
    "ReturnName2('Red Velvet') "
   ]
  },
  {
   "cell_type": "code",
   "execution_count": 3,
   "id": "844ea394",
   "metadata": {},
   "outputs": [],
   "source": [
    "def calc(a,b):\n",
    "    return a*b"
   ]
  },
  {
   "cell_type": "code",
   "execution_count": 4,
   "id": "402036b1",
   "metadata": {},
   "outputs": [
    {
     "data": {
      "text/plain": [
       "200"
      ]
     },
     "execution_count": 4,
     "metadata": {},
     "output_type": "execute_result"
    }
   ],
   "source": [
    "calc(10,20)"
   ]
  },
  {
   "cell_type": "code",
   "execution_count": 5,
   "id": "51fb23a4",
   "metadata": {},
   "outputs": [
    {
     "data": {
      "text/plain": [
       "1547039011888"
      ]
     },
     "execution_count": 5,
     "metadata": {},
     "output_type": "execute_result"
    }
   ],
   "source": [
    "id(calc)"
   ]
  },
  {
   "cell_type": "code",
   "execution_count": null,
   "id": "3b14cafc",
   "metadata": {},
   "outputs": [],
   "source": []
  }
 ],
 "metadata": {
  "kernelspec": {
   "display_name": "Python 3 (ipykernel)",
   "language": "python",
   "name": "python3"
  },
  "language_info": {
   "codemirror_mode": {
    "name": "ipython",
    "version": 3
   },
   "file_extension": ".py",
   "mimetype": "text/x-python",
   "name": "python",
   "nbconvert_exporter": "python",
   "pygments_lexer": "ipython3",
   "version": "3.9.12"
  }
 },
 "nbformat": 4,
 "nbformat_minor": 5
}

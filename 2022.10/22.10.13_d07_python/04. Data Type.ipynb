{
 "cells": [
  {
   "cell_type": "markdown",
   "id": "076f858a",
   "metadata": {},
   "source": [
    "## 1. List"
   ]
  },
  {
   "cell_type": "code",
   "execution_count": 1,
   "id": "b3a1faa3",
   "metadata": {},
   "outputs": [
    {
     "name": "stdout",
     "output_type": "stream",
     "text": [
      "[1, 2, 3, 4, 5]\n",
      "1\n",
      "5\n"
     ]
    }
   ],
   "source": [
    "a_list = [1,2,3,4,5]\n",
    "\n",
    "print(a_list)\n",
    "print(a_list[0])\n",
    "print(a_list[-1])"
   ]
  },
  {
   "cell_type": "code",
   "execution_count": 2,
   "id": "c038ad79",
   "metadata": {},
   "outputs": [
    {
     "name": "stdout",
     "output_type": "stream",
     "text": [
      "3\n",
      "[1, 2]\n",
      "[3, 4, 5]\n"
     ]
    }
   ],
   "source": [
    "# Slicing\n",
    "print(a_list[2])\n",
    "print(a_list[:2])\n",
    "print(a_list[2:])"
   ]
  },
  {
   "cell_type": "code",
   "execution_count": 3,
   "id": "064b4ea4",
   "metadata": {},
   "outputs": [
    {
     "name": "stdout",
     "output_type": "stream",
     "text": [
      "[1, 2, 3, 4, 5]\n"
     ]
    }
   ],
   "source": [
    "print(a_list[:])"
   ]
  },
  {
   "cell_type": "code",
   "execution_count": 4,
   "id": "061919f3",
   "metadata": {},
   "outputs": [
    {
     "name": "stdout",
     "output_type": "stream",
     "text": [
      "[2]\n",
      "[2, 4]\n"
     ]
    }
   ],
   "source": [
    "# 1부터 2까지 가져오고 증가값 2\n",
    "print(a_list[1:2:2])\n",
    "\n",
    "# 1부터 끝까지해서 증가값 2\n",
    "print(a_list[1::2])"
   ]
  },
  {
   "cell_type": "code",
   "execution_count": 5,
   "id": "ed5df8a6",
   "metadata": {},
   "outputs": [
    {
     "name": "stdout",
     "output_type": "stream",
     "text": [
      "[10, 2, 3, 4, 5] [10, 2, 3, 4, 5]\n"
     ]
    }
   ],
   "source": [
    "b = a_list\n",
    "b[0] = 10\n",
    "print(b, a_list)"
   ]
  },
  {
   "cell_type": "code",
   "execution_count": 6,
   "id": "6941729f",
   "metadata": {},
   "outputs": [
    {
     "name": "stdout",
     "output_type": "stream",
     "text": [
      "[100, 2, 3, 4, 5] [10, 2, 3, 4, 5]\n"
     ]
    }
   ],
   "source": [
    "b = a_list[:]\n",
    "b[0] = 100\n",
    "print(b, a_list)"
   ]
  },
  {
   "cell_type": "code",
   "execution_count": 7,
   "id": "ef598c87",
   "metadata": {},
   "outputs": [
    {
     "name": "stdout",
     "output_type": "stream",
     "text": [
      "[1, 2, 3]\n"
     ]
    }
   ],
   "source": [
    "b_list = []\n",
    "b_list.append(1)\n",
    "b_list.append(2)\n",
    "b_list.append(3)\n",
    "print(b_list)"
   ]
  },
  {
   "cell_type": "code",
   "execution_count": 8,
   "id": "11d835cc",
   "metadata": {},
   "outputs": [
    {
     "name": "stdout",
     "output_type": "stream",
     "text": [
      "[1, 2, 3, 2]\n",
      "[1, 2, 100, 3, 2]\n"
     ]
    }
   ],
   "source": [
    "# 가운데 찔러 넣을때는 insert문을 사용\n",
    "# insert(index, value)\n",
    "b_list.insert(100,2)\n",
    "print(b_list)\n",
    "\n",
    "b_list.insert(2,100)\n",
    "print(b_list)"
   ]
  },
  {
   "cell_type": "markdown",
   "id": "5cac3a5d",
   "metadata": {},
   "source": [
    "## 2. tuple\n",
    "### 제일 빠르고 가벼움"
   ]
  },
  {
   "cell_type": "code",
   "execution_count": 9,
   "id": "535bb989",
   "metadata": {},
   "outputs": [
    {
     "name": "stdout",
     "output_type": "stream",
     "text": [
      "(1, 2, 3, 4, 5)\n"
     ]
    }
   ],
   "source": [
    "a_tuple = (1,2,3,4,5)\n",
    "print(a_tuple)"
   ]
  },
  {
   "cell_type": "code",
   "execution_count": 10,
   "id": "cac95342",
   "metadata": {},
   "outputs": [
    {
     "ename": "TypeError",
     "evalue": "'tuple' object does not support item assignment",
     "output_type": "error",
     "traceback": [
      "\u001b[1;31m---------------------------------------------------------------------------\u001b[0m",
      "\u001b[1;31mTypeError\u001b[0m                                 Traceback (most recent call last)",
      "Input \u001b[1;32mIn [10]\u001b[0m, in \u001b[0;36m<cell line: 1>\u001b[1;34m()\u001b[0m\n\u001b[1;32m----> 1\u001b[0m a_tuple[\u001b[38;5;241m0\u001b[39m] \u001b[38;5;241m=\u001b[39m \u001b[38;5;241m10\u001b[39m\n",
      "\u001b[1;31mTypeError\u001b[0m: 'tuple' object does not support item assignment"
     ]
    }
   ],
   "source": [
    "# a_tuple[0] = 10"
   ]
  },
  {
   "cell_type": "code",
   "execution_count": 11,
   "id": "c57fbeb3",
   "metadata": {},
   "outputs": [
    {
     "name": "stdout",
     "output_type": "stream",
     "text": [
      "200 100\n"
     ]
    }
   ],
   "source": [
    "a = 100\n",
    "b = 200\n",
    "c = b\n",
    "b = a\n",
    "a = c\n",
    "\n",
    "print(a,b)"
   ]
  },
  {
   "cell_type": "code",
   "execution_count": 12,
   "id": "9dcdcedf",
   "metadata": {},
   "outputs": [
    {
     "name": "stdout",
     "output_type": "stream",
     "text": [
      "200 100\n"
     ]
    }
   ],
   "source": [
    "a = 100\n",
    "b = 200\n",
    "# tuple 형태로 작동하는 것임 (a,b) = (b,a)\n",
    "a,b = b,a\n",
    "print(a,b)"
   ]
  },
  {
   "cell_type": "markdown",
   "id": "4ecc26db",
   "metadata": {},
   "source": [
    "## 3. Dict {key : value}"
   ]
  },
  {
   "cell_type": "code",
   "execution_count": 13,
   "id": "b3f81ea5",
   "metadata": {},
   "outputs": [
    {
     "name": "stdout",
     "output_type": "stream",
     "text": [
      "{1: 'a', 'b': [1, 2, 3], 'c': 3}\n",
      "a\n",
      "[1, 2, 3]\n",
      "3\n"
     ]
    }
   ],
   "source": [
    "a_dic = {1:'a', 'b': [1,2,3], 'c': 3}\n",
    "print(a_dic)\n",
    "\n",
    "print(a_dic[1])\n",
    "print(a_dic['b'])\n",
    "print(a_dic['c'])"
   ]
  },
  {
   "cell_type": "code",
   "execution_count": 14,
   "id": "5f5f3dc8",
   "metadata": {
    "scrolled": true
   },
   "outputs": [
    {
     "name": "stdout",
     "output_type": "stream",
     "text": [
      "{1: 'a', 'b': [1, 2, 3], 'c': 3, 'd': 'Microsoft AI School'}\n"
     ]
    }
   ],
   "source": [
    "a_dic['d'] = 'Microsoft AI School'\n",
    "print(a_dic)"
   ]
  },
  {
   "cell_type": "markdown",
   "id": "6f339cf6",
   "metadata": {},
   "source": [
    "## 4. Set"
   ]
  },
  {
   "cell_type": "code",
   "execution_count": 15,
   "id": "d239512c",
   "metadata": {},
   "outputs": [
    {
     "name": "stdout",
     "output_type": "stream",
     "text": [
      "{1, 2, 3}\n",
      "<class 'set'>\n"
     ]
    }
   ],
   "source": [
    "a_set = {1,2,3}\n",
    "print(a_set)\n",
    "print(type(a_set))"
   ]
  },
  {
   "cell_type": "code",
   "execution_count": 16,
   "id": "ca6493a2",
   "metadata": {},
   "outputs": [],
   "source": [
    "b_set = {3,4,5}"
   ]
  },
  {
   "cell_type": "markdown",
   "id": "71573652",
   "metadata": {},
   "source": [
    "### 합집합"
   ]
  },
  {
   "cell_type": "code",
   "execution_count": 17,
   "id": "b450d3ea",
   "metadata": {
    "scrolled": true
   },
   "outputs": [
    {
     "name": "stdout",
     "output_type": "stream",
     "text": [
      "{1, 2, 3, 4, 5}\n",
      "{1, 2, 3, 4, 5}\n"
     ]
    }
   ],
   "source": [
    "print(a_set.union(b_set))\n",
    "print(a_set | b_set)"
   ]
  },
  {
   "cell_type": "markdown",
   "id": "a88ab1ee",
   "metadata": {},
   "source": [
    "### 교집합"
   ]
  },
  {
   "cell_type": "code",
   "execution_count": 18,
   "id": "adaae54d",
   "metadata": {
    "scrolled": true
   },
   "outputs": [
    {
     "name": "stdout",
     "output_type": "stream",
     "text": [
      "{3}\n",
      "{3}\n"
     ]
    }
   ],
   "source": [
    "print(a_set.intersection(b_set))\n",
    "print(a_set & b_set)"
   ]
  },
  {
   "cell_type": "markdown",
   "id": "d2439204",
   "metadata": {},
   "source": [
    "### 차집합"
   ]
  },
  {
   "cell_type": "code",
   "execution_count": 19,
   "id": "dd50da81",
   "metadata": {},
   "outputs": [
    {
     "data": {
      "text/plain": [
       "{1, 2}"
      ]
     },
     "execution_count": 19,
     "metadata": {},
     "output_type": "execute_result"
    }
   ],
   "source": [
    "a_set - b_set"
   ]
  },
  {
   "cell_type": "code",
   "execution_count": 20,
   "id": "446e3bb4",
   "metadata": {},
   "outputs": [
    {
     "name": "stdout",
     "output_type": "stream",
     "text": [
      "<class 'set'>\n"
     ]
    }
   ],
   "source": [
    "# 부록\n",
    "\n",
    "a = set((1,2,3))\n",
    "print(type(a))"
   ]
  },
  {
   "cell_type": "code",
   "execution_count": 21,
   "id": "f77df568",
   "metadata": {},
   "outputs": [
    {
     "name": "stdout",
     "output_type": "stream",
     "text": [
      "<class 'list'>\n"
     ]
    }
   ],
   "source": [
    "b = list(a)\n",
    "print(type(b))"
   ]
  },
  {
   "cell_type": "code",
   "execution_count": 22,
   "id": "eb9027d4",
   "metadata": {},
   "outputs": [
    {
     "name": "stdout",
     "output_type": "stream",
     "text": [
      "<class 'tuple'>\n"
     ]
    }
   ],
   "source": [
    "c = tuple(b)\n",
    "print(type(c))"
   ]
  }
 ],
 "metadata": {
  "kernelspec": {
   "display_name": "Python 3 (ipykernel)",
   "language": "python",
   "name": "python3"
  },
  "language_info": {
   "codemirror_mode": {
    "name": "ipython",
    "version": 3
   },
   "file_extension": ".py",
   "mimetype": "text/x-python",
   "name": "python",
   "nbconvert_exporter": "python",
   "pygments_lexer": "ipython3",
   "version": "3.9.12"
  }
 },
 "nbformat": 4,
 "nbformat_minor": 5
}

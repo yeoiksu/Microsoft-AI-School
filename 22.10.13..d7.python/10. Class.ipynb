{
 "cells": [
  {
   "cell_type": "markdown",
   "id": "08aff2d3",
   "metadata": {},
   "source": [
    "## 1. 빈클래스"
   ]
  },
  {
   "cell_type": "code",
   "execution_count": 1,
   "id": "1a6eaf6e",
   "metadata": {},
   "outputs": [],
   "source": [
    "class MyClass:\n",
    "    pass"
   ]
  },
  {
   "cell_type": "code",
   "execution_count": 2,
   "id": "19e623b8",
   "metadata": {},
   "outputs": [
    {
     "data": {
      "text/plain": [
       "__main__.MyClass"
      ]
     },
     "execution_count": 2,
     "metadata": {},
     "output_type": "execute_result"
    }
   ],
   "source": [
    "MyClass"
   ]
  },
  {
   "cell_type": "code",
   "execution_count": 3,
   "id": "e7f25f01",
   "metadata": {},
   "outputs": [
    {
     "data": {
      "text/plain": [
       "type"
      ]
     },
     "execution_count": 3,
     "metadata": {},
     "output_type": "execute_result"
    }
   ],
   "source": [
    "type(MyClass)"
   ]
  },
  {
   "cell_type": "code",
   "execution_count": 4,
   "id": "2fa8888b",
   "metadata": {},
   "outputs": [],
   "source": [
    "class Person:\n",
    "    Name = 'Default Name'    #Perperty\n",
    "    \n",
    "    def PrintName(self):\n",
    "        print('My name is {0}'.format(self.Name))"
   ]
  },
  {
   "cell_type": "code",
   "execution_count": 5,
   "id": "f049a12a",
   "metadata": {},
   "outputs": [
    {
     "name": "stdout",
     "output_type": "stream",
     "text": [
      "My name is 손흥민\n"
     ]
    }
   ],
   "source": [
    "son = Person()\n",
    "son.Name = '손흥민'\n",
    "son.PrintName()"
   ]
  },
  {
   "cell_type": "code",
   "execution_count": 6,
   "id": "ada7b1c6",
   "metadata": {},
   "outputs": [],
   "source": [
    "p1 = Person()\n",
    "p2 = Person()"
   ]
  },
  {
   "cell_type": "code",
   "execution_count": 7,
   "id": "4d2f85b5",
   "metadata": {},
   "outputs": [],
   "source": [
    "p1.Name = '박보검'\n",
    "p2.Name = '민아'"
   ]
  },
  {
   "cell_type": "code",
   "execution_count": 8,
   "id": "46363695",
   "metadata": {
    "scrolled": true
   },
   "outputs": [
    {
     "name": "stdout",
     "output_type": "stream",
     "text": [
      "My name is 박보검\n",
      "My name is 민아\n"
     ]
    }
   ],
   "source": [
    "p1.PrintName()\n",
    "p2.PrintName()"
   ]
  },
  {
   "cell_type": "markdown",
   "id": "5b4827ea",
   "metadata": {},
   "source": [
    "## 2. Instance\n",
    "### person에 주어도 p1에 영향이 간다"
   ]
  },
  {
   "cell_type": "code",
   "execution_count": 9,
   "id": "753847b5",
   "metadata": {},
   "outputs": [],
   "source": [
    "Person.title = 'New title'"
   ]
  },
  {
   "cell_type": "code",
   "execution_count": 10,
   "id": "27d9f017",
   "metadata": {},
   "outputs": [
    {
     "data": {
      "text/plain": [
       "'New title'"
      ]
     },
     "execution_count": 10,
     "metadata": {},
     "output_type": "execute_result"
    }
   ],
   "source": [
    "p1.title"
   ]
  },
  {
   "cell_type": "code",
   "execution_count": 11,
   "id": "3a535680",
   "metadata": {},
   "outputs": [],
   "source": [
    "p1.age = 20"
   ]
  },
  {
   "cell_type": "code",
   "execution_count": 12,
   "id": "e79d88fb",
   "metadata": {},
   "outputs": [
    {
     "data": {
      "text/plain": [
       "20"
      ]
     },
     "execution_count": 12,
     "metadata": {},
     "output_type": "execute_result"
    }
   ],
   "source": [
    "p1.age"
   ]
  },
  {
   "cell_type": "markdown",
   "id": "677d6d5d",
   "metadata": {},
   "source": [
    "### instance에 추가한것은 instance에만 영향을 주므로 person.age는 오류가 뜬다"
   ]
  },
  {
   "cell_type": "code",
   "execution_count": 13,
   "id": "04585f20",
   "metadata": {},
   "outputs": [],
   "source": [
    "# Person.age"
   ]
  },
  {
   "cell_type": "markdown",
   "id": "4a44b765",
   "metadata": {},
   "source": [
    "### 다른 instance에도 영향 안간다"
   ]
  },
  {
   "cell_type": "code",
   "execution_count": 14,
   "id": "89994b94",
   "metadata": {},
   "outputs": [],
   "source": [
    "# p2.age"
   ]
  },
  {
   "cell_type": "markdown",
   "id": "e81676ed",
   "metadata": {},
   "source": [
    "## 3. 클래스의 상속"
   ]
  },
  {
   "cell_type": "code",
   "execution_count": 15,
   "id": "058453a4",
   "metadata": {},
   "outputs": [],
   "source": [
    "class Person:\n",
    "    pass"
   ]
  },
  {
   "cell_type": "code",
   "execution_count": 16,
   "id": "33172a7f",
   "metadata": {},
   "outputs": [],
   "source": [
    "class Bird:\n",
    "    pass"
   ]
  },
  {
   "cell_type": "code",
   "execution_count": 17,
   "id": "cf8a1e0b",
   "metadata": {},
   "outputs": [],
   "source": [
    "# Student는 Person한테 상속받음\n",
    "class Student(Person):\n",
    "    pass"
   ]
  },
  {
   "cell_type": "code",
   "execution_count": 18,
   "id": "1aaaf388",
   "metadata": {},
   "outputs": [],
   "source": [
    "p = Person()\n",
    "s = Student()"
   ]
  },
  {
   "cell_type": "markdown",
   "id": "688787e4",
   "metadata": {},
   "source": [
    "### Q. p가 person으로부타 받은 스턴스가 맞습니까?"
   ]
  },
  {
   "cell_type": "code",
   "execution_count": 19,
   "id": "5e10e5d3",
   "metadata": {
    "scrolled": true
   },
   "outputs": [
    {
     "data": {
      "text/plain": [
       "True"
      ]
     },
     "execution_count": 19,
     "metadata": {},
     "output_type": "execute_result"
    }
   ],
   "source": [
    "isinstance(p, Person)"
   ]
  },
  {
   "cell_type": "markdown",
   "id": "540353e3",
   "metadata": {},
   "source": [
    "### Q. s가 person으로부타 받은 스턴스가 맞습니까?\n",
    "### s는 상속받았기 때문에 instance가 맞다"
   ]
  },
  {
   "cell_type": "code",
   "execution_count": 20,
   "id": "774a844a",
   "metadata": {},
   "outputs": [
    {
     "data": {
      "text/plain": [
       "True"
      ]
     },
     "execution_count": 20,
     "metadata": {},
     "output_type": "execute_result"
    }
   ],
   "source": [
    "isinstance(s, Person)"
   ]
  },
  {
   "cell_type": "markdown",
   "id": "207218b7",
   "metadata": {},
   "source": [
    "### Q. object와도 관계가 있니?"
   ]
  },
  {
   "cell_type": "code",
   "execution_count": 21,
   "id": "7386441b",
   "metadata": {},
   "outputs": [
    {
     "data": {
      "text/plain": [
       "True"
      ]
     },
     "execution_count": 21,
     "metadata": {},
     "output_type": "execute_result"
    }
   ],
   "source": [
    "isinstance(s, object)"
   ]
  },
  {
   "cell_type": "markdown",
   "id": "4d3f5d34",
   "metadata": {},
   "source": [
    "### Q. Person은 Bird 와 관계가 있니?"
   ]
  },
  {
   "cell_type": "code",
   "execution_count": 22,
   "id": "01b441ef",
   "metadata": {},
   "outputs": [
    {
     "data": {
      "text/plain": [
       "False"
      ]
     },
     "execution_count": 22,
     "metadata": {},
     "output_type": "execute_result"
    }
   ],
   "source": [
    "isinstance(p, Bird)"
   ]
  },
  {
   "cell_type": "markdown",
   "id": "e6173a86",
   "metadata": {},
   "source": [
    "## 4. 생성자, 소멸자"
   ]
  },
  {
   "cell_type": "code",
   "execution_count": 23,
   "id": "001f1c27",
   "metadata": {},
   "outputs": [],
   "source": [
    "class MyClass:\n",
    "    #생성자\n",
    "    def __init__(self, value):\n",
    "        self.value = value        \n",
    "        print('Class is created! Value = {}'.format(value))   \n",
    "        \n",
    "    #소멸자\n",
    "    def __del__(self):\n",
    "        print('Class is deleted!!')"
   ]
  },
  {
   "cell_type": "code",
   "execution_count": 24,
   "id": "40d83298",
   "metadata": {},
   "outputs": [
    {
     "name": "stdout",
     "output_type": "stream",
     "text": [
      "Class is created! Value = 10\n"
     ]
    }
   ],
   "source": [
    "a = MyClass(10)"
   ]
  },
  {
   "cell_type": "code",
   "execution_count": 25,
   "id": "ad96839f",
   "metadata": {},
   "outputs": [
    {
     "name": "stdout",
     "output_type": "stream",
     "text": [
      "Class is deleted!!\n"
     ]
    }
   ],
   "source": [
    "del a"
   ]
  },
  {
   "cell_type": "markdown",
   "id": "2d56cad6",
   "metadata": {},
   "source": [
    "## 5. 정적 메소드"
   ]
  },
  {
   "cell_type": "code",
   "execution_count": 26,
   "id": "c466236b",
   "metadata": {},
   "outputs": [],
   "source": [
    "class CounterManager:\n",
    "    insCount = 0\n",
    "    \n",
    "    def __init__(self):\n",
    "        CounterManager.insCount += 1\n",
    "    \n",
    "    def printInstanceCount():\n",
    "        print('Instance Count: ', CounterManager.insCount)"
   ]
  },
  {
   "cell_type": "code",
   "execution_count": 27,
   "id": "593a4bc7",
   "metadata": {},
   "outputs": [],
   "source": [
    "a, b ,c = CounterManager(), CounterManager(), CounterManager()"
   ]
  },
  {
   "cell_type": "code",
   "execution_count": 28,
   "id": "5bca7145",
   "metadata": {},
   "outputs": [
    {
     "name": "stdout",
     "output_type": "stream",
     "text": [
      "Instance Count:  3\n"
     ]
    }
   ],
   "source": [
    "CounterManager.printInstanceCount()"
   ]
  },
  {
   "cell_type": "markdown",
   "id": "b7fed4f8",
   "metadata": {},
   "source": [
    "## 6. 상속의 확장"
   ]
  },
  {
   "cell_type": "code",
   "execution_count": 29,
   "id": "85c393c5",
   "metadata": {},
   "outputs": [],
   "source": [
    "class Person:\n",
    "    def __init__(self, name, phone ):\n",
    "        self.Name  = name\n",
    "        self.Phone = phone\n",
    "        \n",
    "    def PrintInfo(self):\n",
    "        print('Info(Name: {0}, Phone: {1})'.format(self.Name, self.Phone))\n",
    "        \n",
    "    def PrintPersonData(self):\n",
    "        print('Person(Name: {0}, Phone: {1})'.format(self.Name, self.Phone))"
   ]
  },
  {
   "cell_type": "code",
   "execution_count": 30,
   "id": "c205617a",
   "metadata": {},
   "outputs": [],
   "source": [
    "class Student(Person):\n",
    "    def __init__(self, name, phone, subject, studentID):\n",
    "        self.Name      = name\n",
    "        self.Phone     = phone\n",
    "        self.Subject   = subject\n",
    "        self.StudentID = studentID\n",
    "        \n",
    "    def PrintStudentID(self):\n",
    "        print(self.StudentID)"
   ]
  },
  {
   "cell_type": "code",
   "execution_count": 31,
   "id": "023b7f0f",
   "metadata": {},
   "outputs": [],
   "source": [
    "p = Person('IU', '010-0000-0000')\n",
    "s = Student('MinA', '010-1111-1111', 'Computer Science', '123456789')"
   ]
  },
  {
   "cell_type": "code",
   "execution_count": 32,
   "id": "d7e932af",
   "metadata": {},
   "outputs": [
    {
     "data": {
      "text/plain": [
       "{'Name': 'IU', 'Phone': '010-0000-0000'}"
      ]
     },
     "execution_count": 32,
     "metadata": {},
     "output_type": "execute_result"
    }
   ],
   "source": [
    "# p의 속성 확인\n",
    "p.__dict__"
   ]
  },
  {
   "cell_type": "code",
   "execution_count": 33,
   "id": "8025e0f6",
   "metadata": {},
   "outputs": [
    {
     "data": {
      "text/plain": [
       "{'Name': 'MinA',\n",
       " 'Phone': '010-1111-1111',\n",
       " 'Subject': 'Computer Science',\n",
       " 'StudentID': '123456789'}"
      ]
     },
     "execution_count": 33,
     "metadata": {},
     "output_type": "execute_result"
    }
   ],
   "source": [
    "# s의 속성 확인\n",
    "s.__dict__"
   ]
  },
  {
   "cell_type": "code",
   "execution_count": 34,
   "id": "483fec75",
   "metadata": {},
   "outputs": [
    {
     "name": "stdout",
     "output_type": "stream",
     "text": [
      "Info(Name: IU, Phone: 010-0000-0000)\n"
     ]
    }
   ],
   "source": [
    "p.PrintInfo()"
   ]
  },
  {
   "cell_type": "code",
   "execution_count": 35,
   "id": "dd30cf08",
   "metadata": {},
   "outputs": [
    {
     "name": "stdout",
     "output_type": "stream",
     "text": [
      "Info(Name: MinA, Phone: 010-1111-1111)\n"
     ]
    }
   ],
   "source": [
    "s.PrintInfo()"
   ]
  },
  {
   "cell_type": "code",
   "execution_count": 36,
   "id": "24d332a5",
   "metadata": {},
   "outputs": [
    {
     "name": "stdout",
     "output_type": "stream",
     "text": [
      "123456789\n"
     ]
    }
   ],
   "source": [
    "s.PrintStudentID()"
   ]
  },
  {
   "cell_type": "markdown",
   "id": "62c4b327",
   "metadata": {},
   "source": [
    "## 7. 상속 관계의 확인\n",
    "### Q. stuent는 person에게 상속 받았나?"
   ]
  },
  {
   "cell_type": "code",
   "execution_count": 37,
   "id": "b0565ee6",
   "metadata": {},
   "outputs": [
    {
     "data": {
      "text/plain": [
       "True"
      ]
     },
     "execution_count": 37,
     "metadata": {},
     "output_type": "execute_result"
    }
   ],
   "source": [
    "issubclass(Student, Person)"
   ]
  },
  {
   "cell_type": "markdown",
   "id": "ec5e857f",
   "metadata": {},
   "source": [
    "### Q. person는 stuent에게 상속 받았나?"
   ]
  },
  {
   "cell_type": "code",
   "execution_count": 38,
   "id": "2bed837b",
   "metadata": {},
   "outputs": [
    {
     "data": {
      "text/plain": [
       "False"
      ]
     },
     "execution_count": 38,
     "metadata": {},
     "output_type": "execute_result"
    }
   ],
   "source": [
    "issubclass(Person,Student)"
   ]
  },
  {
   "cell_type": "markdown",
   "id": "fc2f17dd",
   "metadata": {},
   "source": [
    "## 8. 상속 관계의 확인\n",
    "### (복잡해지고 족보가 꼬일 수 있으므로 자주 사용하지 않음)"
   ]
  },
  {
   "cell_type": "code",
   "execution_count": 39,
   "id": "3d8b7718",
   "metadata": {},
   "outputs": [],
   "source": [
    "class Tiger:\n",
    "    def Jump(self):\n",
    "        print('Tiger Jump !!')"
   ]
  },
  {
   "cell_type": "code",
   "execution_count": 40,
   "id": "9ef54f1d",
   "metadata": {},
   "outputs": [],
   "source": [
    "class Lion:\n",
    "    def Bite(self):\n",
    "        print('Lion Bite !!')"
   ]
  },
  {
   "cell_type": "code",
   "execution_count": 41,
   "id": "addb0728",
   "metadata": {},
   "outputs": [],
   "source": [
    "class Liger(Tiger, Lion):\n",
    "    def Play(self):\n",
    "        print('Liger Play !!')"
   ]
  },
  {
   "cell_type": "code",
   "execution_count": 42,
   "id": "98b1edaa",
   "metadata": {},
   "outputs": [],
   "source": [
    "l = Liger()"
   ]
  },
  {
   "cell_type": "code",
   "execution_count": 43,
   "id": "68667754",
   "metadata": {},
   "outputs": [
    {
     "name": "stdout",
     "output_type": "stream",
     "text": [
      "Liger Play !!\n"
     ]
    }
   ],
   "source": [
    "l.Play()"
   ]
  },
  {
   "cell_type": "code",
   "execution_count": 44,
   "id": "df034c91",
   "metadata": {},
   "outputs": [
    {
     "name": "stdout",
     "output_type": "stream",
     "text": [
      "Tiger Jump !!\n"
     ]
    }
   ],
   "source": [
    "l.Jump()"
   ]
  },
  {
   "cell_type": "code",
   "execution_count": 45,
   "id": "39efe67e",
   "metadata": {},
   "outputs": [
    {
     "name": "stdout",
     "output_type": "stream",
     "text": [
      "Lion Bite !!\n"
     ]
    }
   ],
   "source": [
    "l.Bite()"
   ]
  }
 ],
 "metadata": {
  "kernelspec": {
   "display_name": "Python 3 (ipykernel)",
   "language": "python",
   "name": "python3"
  },
  "language_info": {
   "codemirror_mode": {
    "name": "ipython",
    "version": 3
   },
   "file_extension": ".py",
   "mimetype": "text/x-python",
   "name": "python",
   "nbconvert_exporter": "python",
   "pygments_lexer": "ipython3",
   "version": "3.9.12"
  }
 },
 "nbformat": 4,
 "nbformat_minor": 5
}

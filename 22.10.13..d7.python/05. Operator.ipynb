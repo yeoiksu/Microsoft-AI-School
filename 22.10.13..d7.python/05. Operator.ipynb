{
 "cells": [
  {
   "cell_type": "code",
   "execution_count": 1,
   "id": "41623db9",
   "metadata": {},
   "outputs": [
    {
     "name": "stdout",
     "output_type": "stream",
     "text": [
      "30\n",
      "-10\n",
      "200\n",
      "0.5\n"
     ]
    }
   ],
   "source": [
    "print(10+20)\n",
    "print(10-20)\n",
    "print(10*20)\n",
    "print(10/20)"
   ]
  },
  {
   "cell_type": "code",
   "execution_count": 2,
   "id": "d63a6496",
   "metadata": {},
   "outputs": [
    {
     "name": "stdout",
     "output_type": "stream",
     "text": [
      "100\n",
      "10000\n",
      "100\n"
     ]
    }
   ],
   "source": [
    "print(10**2)\n",
    "print(10**4)\n",
    "print(pow(10,2))"
   ]
  },
  {
   "cell_type": "code",
   "execution_count": 3,
   "id": "c1c9a4e1",
   "metadata": {},
   "outputs": [
    {
     "name": "stdout",
     "output_type": "stream",
     "text": [
      "6\n",
      "4\n"
     ]
    }
   ],
   "source": [
    "# 몫을 나타냄\n",
    "print(40//6)\n",
    "\n",
    "# 나머지를 나타냄\n",
    "print(40%6)"
   ]
  },
  {
   "cell_type": "code",
   "execution_count": 4,
   "id": "ef8de17c",
   "metadata": {},
   "outputs": [
    {
     "name": "stdout",
     "output_type": "stream",
     "text": [
      "0\n",
      "1\n",
      "1\n",
      "1\n",
      "False\n",
      "True\n",
      "True\n",
      "True\n"
     ]
    }
   ],
   "source": [
    "print(0 or 0)\n",
    "print(0 or 1)\n",
    "print(1 or 0)\n",
    "print(1 or 1)\n",
    "\n",
    "print(False or False)\n",
    "print(False or True)\n",
    "print(True or False)\n",
    "print(True or True)"
   ]
  },
  {
   "cell_type": "code",
   "execution_count": 5,
   "id": "924fce40",
   "metadata": {},
   "outputs": [
    {
     "name": "stdout",
     "output_type": "stream",
     "text": [
      "0\n",
      "0\n",
      "0\n",
      "1\n",
      "False\n",
      "False\n",
      "False\n",
      "True\n"
     ]
    }
   ],
   "source": [
    "print(0 and 0)\n",
    "print(0 and 1)\n",
    "print(1 and 0)\n",
    "print(1 and 1)\n",
    "\n",
    "print(False and False)\n",
    "print(False and True)\n",
    "print(True and False)\n",
    "print(True and True)"
   ]
  },
  {
   "cell_type": "code",
   "execution_count": 6,
   "id": "1fc8708e",
   "metadata": {},
   "outputs": [
    {
     "name": "stdout",
     "output_type": "stream",
     "text": [
      "False\n",
      "True\n"
     ]
    }
   ],
   "source": [
    "print(not True)\n",
    "print(not False)"
   ]
  },
  {
   "cell_type": "code",
   "execution_count": 7,
   "id": "602efcef",
   "metadata": {},
   "outputs": [
    {
     "name": "stdout",
     "output_type": "stream",
     "text": [
      "True\n",
      "True\n",
      "True\n",
      "False\n",
      "True\n",
      "False\n"
     ]
    }
   ],
   "source": [
    "print(10 == 10)\n",
    "print(10 >= 10)\n",
    "print(10 <= 10)\n",
    "\n",
    "print(10 < 5)\n",
    "print(10 > 5)\n",
    "print(10!=10)"
   ]
  },
  {
   "cell_type": "code",
   "execution_count": 8,
   "id": "099b206a",
   "metadata": {},
   "outputs": [
    {
     "name": "stdout",
     "output_type": "stream",
     "text": [
      "True\n",
      "False\n"
     ]
    }
   ],
   "source": [
    "# in 연산자\n",
    "a_list = [1,2,3,4,5]\n",
    "\n",
    "print(1 in a_list)\n",
    "print(6 in a_list)"
   ]
  },
  {
   "cell_type": "code",
   "execution_count": 9,
   "id": "dddf8852",
   "metadata": {},
   "outputs": [
    {
     "name": "stdout",
     "output_type": "stream",
     "text": [
      "True\n",
      "False\n",
      "True\n"
     ]
    }
   ],
   "source": [
    "b_list = ['a',2,'hello',3]\n",
    "print('a' in b_list)\n",
    "print(1 in b_list)\n",
    "print('hello' in b_list)"
   ]
  }
 ],
 "metadata": {
  "kernelspec": {
   "display_name": "Python 3 (ipykernel)",
   "language": "python",
   "name": "python3"
  },
  "language_info": {
   "codemirror_mode": {
    "name": "ipython",
    "version": 3
   },
   "file_extension": ".py",
   "mimetype": "text/x-python",
   "name": "python",
   "nbconvert_exporter": "python",
   "pygments_lexer": "ipython3",
   "version": "3.9.12"
  }
 },
 "nbformat": 4,
 "nbformat_minor": 5
}

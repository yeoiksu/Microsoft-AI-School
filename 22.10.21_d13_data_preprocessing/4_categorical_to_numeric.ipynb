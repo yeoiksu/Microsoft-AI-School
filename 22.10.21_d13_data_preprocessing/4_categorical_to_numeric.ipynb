{
 "cells": [
  {
   "cell_type": "markdown",
   "id": "689e0346",
   "metadata": {},
   "source": [
    "## 4. Categorical Variable to Numeric Variable\n",
    "    - 범주형 데이터를 수치화하여 표현\n",
    "    - sklearn.preprocesisng 에서 LabelEncoder() 함수 사용"
   ]
  },
  {
   "cell_type": "code",
   "execution_count": 1,
   "id": "327ca05b",
   "metadata": {},
   "outputs": [],
   "source": [
    "import numpy as np\n",
    "import pandas as pd\n",
    "import matplotlib.pyplot as plt\n",
    "\n",
    "import sklearn\n",
    "\n",
    "import os \n",
    "from os.path import join"
   ]
  },
  {
   "cell_type": "markdown",
   "id": "40d2fb84",
   "metadata": {},
   "source": [
    "### Abalone Data 준비 과정"
   ]
  },
  {
   "cell_type": "code",
   "execution_count": 2,
   "id": "138b2311",
   "metadata": {},
   "outputs": [],
   "source": [
    "# join('파일위치', '파일이름')\n",
    "## '.' : 현재 파일위치\n",
    "abalone_path = join('.', 'abalone.txt') # 데이터\n",
    "column_path  = join('.', 'abalone_attributes.txt') # 속성"
   ]
  },
  {
   "cell_type": "code",
   "execution_count": 4,
   "id": "8deb7428",
   "metadata": {
    "scrolled": true
   },
   "outputs": [
    {
     "data": {
      "text/html": [
       "<div>\n",
       "<style scoped>\n",
       "    .dataframe tbody tr th:only-of-type {\n",
       "        vertical-align: middle;\n",
       "    }\n",
       "\n",
       "    .dataframe tbody tr th {\n",
       "        vertical-align: top;\n",
       "    }\n",
       "\n",
       "    .dataframe thead th {\n",
       "        text-align: right;\n",
       "    }\n",
       "</style>\n",
       "<table border=\"1\" class=\"dataframe\">\n",
       "  <thead>\n",
       "    <tr style=\"text-align: right;\">\n",
       "      <th></th>\n",
       "      <th>Length</th>\n",
       "      <th>Diameter</th>\n",
       "      <th>Height</th>\n",
       "      <th>Whole weight</th>\n",
       "      <th>Shucked weight</th>\n",
       "      <th>Viscera weight</th>\n",
       "      <th>Shell weight</th>\n",
       "      <th>Rings</th>\n",
       "    </tr>\n",
       "  </thead>\n",
       "  <tbody>\n",
       "    <tr>\n",
       "      <th>0</th>\n",
       "      <td>0.455</td>\n",
       "      <td>0.365</td>\n",
       "      <td>0.095</td>\n",
       "      <td>0.5140</td>\n",
       "      <td>0.2245</td>\n",
       "      <td>0.1010</td>\n",
       "      <td>0.150</td>\n",
       "      <td>15</td>\n",
       "    </tr>\n",
       "    <tr>\n",
       "      <th>1</th>\n",
       "      <td>0.350</td>\n",
       "      <td>0.265</td>\n",
       "      <td>0.090</td>\n",
       "      <td>0.2255</td>\n",
       "      <td>0.0995</td>\n",
       "      <td>0.0485</td>\n",
       "      <td>0.070</td>\n",
       "      <td>7</td>\n",
       "    </tr>\n",
       "    <tr>\n",
       "      <th>2</th>\n",
       "      <td>0.530</td>\n",
       "      <td>0.420</td>\n",
       "      <td>0.135</td>\n",
       "      <td>0.6770</td>\n",
       "      <td>0.2565</td>\n",
       "      <td>0.1415</td>\n",
       "      <td>0.210</td>\n",
       "      <td>9</td>\n",
       "    </tr>\n",
       "    <tr>\n",
       "      <th>3</th>\n",
       "      <td>0.440</td>\n",
       "      <td>0.365</td>\n",
       "      <td>0.125</td>\n",
       "      <td>0.5160</td>\n",
       "      <td>0.2155</td>\n",
       "      <td>0.1140</td>\n",
       "      <td>0.155</td>\n",
       "      <td>10</td>\n",
       "    </tr>\n",
       "    <tr>\n",
       "      <th>4</th>\n",
       "      <td>0.330</td>\n",
       "      <td>0.255</td>\n",
       "      <td>0.080</td>\n",
       "      <td>0.2050</td>\n",
       "      <td>0.0895</td>\n",
       "      <td>0.0395</td>\n",
       "      <td>0.055</td>\n",
       "      <td>7</td>\n",
       "    </tr>\n",
       "  </tbody>\n",
       "</table>\n",
       "</div>"
      ],
      "text/plain": [
       "   Length  Diameter  Height  Whole weight  Shucked weight  Viscera weight  \\\n",
       "0   0.455     0.365   0.095        0.5140          0.2245          0.1010   \n",
       "1   0.350     0.265   0.090        0.2255          0.0995          0.0485   \n",
       "2   0.530     0.420   0.135        0.6770          0.2565          0.1415   \n",
       "3   0.440     0.365   0.125        0.5160          0.2155          0.1140   \n",
       "4   0.330     0.255   0.080        0.2050          0.0895          0.0395   \n",
       "\n",
       "   Shell weight  Rings  \n",
       "0         0.150     15  \n",
       "1         0.070      7  \n",
       "2         0.210      9  \n",
       "3         0.155     10  \n",
       "4         0.055      7  "
      ]
     },
     "execution_count": 4,
     "metadata": {},
     "output_type": "execute_result"
    }
   ],
   "source": [
    "# 파일내용 읽어오기\n",
    "abalone_columns = list()\n",
    "\n",
    "# column_path의 파일을 line by line으로 읽어옴\n",
    "# strip() : 불필요한 내용 제거 ('\\n' 와 같은 부분 제거)\n",
    "for line in open(column_path):\n",
    "    abalone_columns.append(line.strip())\n",
    "    \n",
    "# header: 없을때는 None\n",
    "# names : column이름 설정\n",
    "data = pd.read_csv(abalone_path, header = None, names= abalone_columns)\n",
    "\n",
    "# 'Sex' 속성을 따로 label에 저장하고 dataframe에서 삭제함\n",
    "label = data['Sex']\n",
    "del data['Sex']\n",
    "\n",
    "data.head()"
   ]
  },
  {
   "cell_type": "markdown",
   "id": "fde1a9c9",
   "metadata": {},
   "source": [
    "### Label Encoder"
   ]
  },
  {
   "cell_type": "code",
   "execution_count": 12,
   "id": "52acf219",
   "metadata": {
    "scrolled": true
   },
   "outputs": [
    {
     "data": {
      "text/plain": [
       "0    M\n",
       "1    M\n",
       "2    F\n",
       "3    M\n",
       "4    I\n",
       "Name: Sex, dtype: object"
      ]
     },
     "execution_count": 12,
     "metadata": {},
     "output_type": "execute_result"
    }
   ],
   "source": [
    "from sklearn.preprocessing import LabelEncoder\n",
    "le = LabelEncoder()\n",
    "\n",
    "label.head()"
   ]
  },
  {
   "cell_type": "code",
   "execution_count": 15,
   "id": "215d0708",
   "metadata": {},
   "outputs": [
    {
     "data": {
      "text/plain": [
       "array([2, 2, 0, 2, 1])"
      ]
     },
     "execution_count": 15,
     "metadata": {},
     "output_type": "execute_result"
    }
   ],
   "source": [
    "# Categorical to Numeric \n",
    "label_encoded_label = le.fit_transform(label)\n",
    "label_encoded_label[:5]"
   ]
  },
  {
   "cell_type": "markdown",
   "id": "ed99ec88",
   "metadata": {},
   "source": [
    "### One-hot Encodling\n",
    "    - n개의 범주형 데이터를 n개의 비트 벡터로 표현\n",
    "    - 서로 다른 범주는 독립적으로 표현\n",
    "    - sklearn.preprocessing의 OneHotEncoder() 함수 사용"
   ]
  },
  {
   "cell_type": "code",
   "execution_count": 18,
   "id": "6c7304d1",
   "metadata": {},
   "outputs": [
    {
     "data": {
      "text/plain": [
       "array([[0., 0., 1.],\n",
       "       [0., 0., 1.],\n",
       "       [1., 0., 0.],\n",
       "       ...,\n",
       "       [0., 0., 1.],\n",
       "       [1., 0., 0.],\n",
       "       [0., 0., 1.]])"
      ]
     },
     "execution_count": 18,
     "metadata": {},
     "output_type": "execute_result"
    }
   ],
   "source": [
    "from sklearn.preprocessing import OneHotEncoder\n",
    "ohe = OneHotEncoder(sparse = False)\n",
    "\n",
    "one_hot_encoded_label = ohe.fit_transform( label.values.reshape(-1,1) )\n",
    "one_hot_encoded_label"
   ]
  },
  {
   "cell_type": "code",
   "execution_count": null,
   "id": "965bd021",
   "metadata": {},
   "outputs": [],
   "source": []
  }
 ],
 "metadata": {
  "kernelspec": {
   "display_name": "Python 3.10.8 64-bit",
   "language": "python",
   "name": "python3"
  },
  "language_info": {
   "codemirror_mode": {
    "name": "ipython",
    "version": 3
   },
   "file_extension": ".py",
   "mimetype": "text/x-python",
   "name": "python",
   "nbconvert_exporter": "python",
   "pygments_lexer": "ipython3",
   "version": "3.10.8"
  },
  "vscode": {
   "interpreter": {
    "hash": "fb4569285eef3a3450cb62085a5b1e0da4bce0af555edc33dcf29baf3acc1368"
   }
  }
 },
 "nbformat": 4,
 "nbformat_minor": 5
}

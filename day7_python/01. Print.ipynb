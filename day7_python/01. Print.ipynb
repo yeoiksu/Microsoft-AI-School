{
 "cells": [
  {
   "cell_type": "code",
   "execution_count": 1,
   "id": "4b385319",
   "metadata": {},
   "outputs": [
    {
     "name": "stdout",
     "output_type": "stream",
     "text": [
      "Hello World\n"
     ]
    }
   ],
   "source": [
    "print ('Hello World')"
   ]
  },
  {
   "cell_type": "code",
   "execution_count": 2,
   "id": "6746be15",
   "metadata": {},
   "outputs": [
    {
     "name": "stdout",
     "output_type": "stream",
     "text": [
      "Hello 안녕하세요\n"
     ]
    }
   ],
   "source": [
    "print ('Hello 안녕하세요')"
   ]
  },
  {
   "cell_type": "code",
   "execution_count": 3,
   "id": "e0076594",
   "metadata": {},
   "outputs": [
    {
     "name": "stdout",
     "output_type": "stream",
     "text": [
      "안녕하세요 'Hello'\n"
     ]
    }
   ],
   "source": [
    "print (\"안녕하세요 'Hello'\")"
   ]
  },
  {
   "cell_type": "code",
   "execution_count": 4,
   "id": "044dcd67",
   "metadata": {},
   "outputs": [
    {
     "name": "stdout",
     "output_type": "stream",
     "text": [
      "안녕 하세요\n"
     ]
    }
   ],
   "source": [
    "print (\"안녕 \"+\"하세요\")"
   ]
  },
  {
   "cell_type": "code",
   "execution_count": 5,
   "id": "4f228b08",
   "metadata": {},
   "outputs": [
    {
     "name": "stdout",
     "output_type": "stream",
     "text": [
      "안녕 하세요\n"
     ]
    }
   ],
   "source": [
    "print (\"안녕\", \"하세요\")"
   ]
  },
  {
   "cell_type": "code",
   "execution_count": 6,
   "id": "5ba8cec7",
   "metadata": {},
   "outputs": [
    {
     "name": "stdout",
     "output_type": "stream",
     "text": [
      "\n",
      "안녕\n",
      "하세요\n",
      "하이\n",
      "\n"
     ]
    }
   ],
   "source": [
    "print(\"\"\"\n",
    "안녕\n",
    "하세요\n",
    "하이\n",
    "\"\"\")"
   ]
  },
  {
   "cell_type": "code",
   "execution_count": 7,
   "id": "e7ae94f9",
   "metadata": {},
   "outputs": [
    {
     "name": "stdout",
     "output_type": "stream",
     "text": [
      "Hello \n",
      "nice to meet you\n"
     ]
    }
   ],
   "source": [
    "print('Hello \\nnice to meet you')"
   ]
  },
  {
   "cell_type": "code",
   "execution_count": 8,
   "id": "9bdcc13c",
   "metadata": {},
   "outputs": [
    {
     "name": "stdout",
     "output_type": "stream",
     "text": [
      "a=123, b=안녕하세요\n",
      "a=123, b=안녕하세요\n"
     ]
    }
   ],
   "source": [
    "a = 123\n",
    "b = '안녕하세요'\n",
    "\n",
    "print('a={}, b={}'.format(a,b))\n",
    "print(f'a={a}, b={b}')            # 선호하지않음"
   ]
  }
 ],
 "metadata": {
  "kernelspec": {
   "display_name": "Python 3 (ipykernel)",
   "language": "python",
   "name": "python3"
  },
  "language_info": {
   "codemirror_mode": {
    "name": "ipython",
    "version": 3
   },
   "file_extension": ".py",
   "mimetype": "text/x-python",
   "name": "python",
   "nbconvert_exporter": "python",
   "pygments_lexer": "ipython3",
   "version": "3.9.12"
  }
 },
 "nbformat": 4,
 "nbformat_minor": 5
}

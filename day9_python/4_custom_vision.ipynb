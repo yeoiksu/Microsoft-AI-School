{
 "cells": [
  {
   "cell_type": "markdown",
   "id": "93cd60d6",
   "metadata": {},
   "source": [
    "## 4. Custom Vison 이해와 실습"
   ]
  },
  {
   "cell_type": "code",
   "execution_count": 2,
   "id": "98832cd7",
   "metadata": {},
   "outputs": [],
   "source": [
    "from azure.cognitiveservices.vision.customvision.training import CustomVisionTrainingClient\n",
    "from azure.cognitiveservices.vision.customvision.prediction import CustomVisionPredictionClient\n",
    "from azure.cognitiveservices.vision.customvision.training.models import ImageFileCreateBatch, ImageFileCreateEntry, Region\n",
    "from msrest.authentication import ApiKeyCredentials"
   ]
  },
  {
   "cell_type": "markdown",
   "id": "4829249f",
   "metadata": {},
   "source": [
    "#### Key, resource id, URL 입력"
   ]
  },
  {
   "cell_type": "code",
   "execution_count": 3,
   "id": "33f27d9e",
   "metadata": {},
   "outputs": [],
   "source": [
    "ENDPOINT = 'https://labuserXXcustom.cognitiveservices.azure.com/'\n",
    "training_key   = 'xxxxxxxxxxxxxxxxxxxxxxxxxxxxxxxx'\n",
    "prediction_key = 'xxxxxxxxxxxxxxxxxxxxxxxxxxxxxxxx'\n",
    "prediction_resource_id = '/subscriptions/7ae06d59-97e1-4a36-bbfe-efb081b9b03b/resourceGroups/RG37/providers/Microsoft.CognitiveServices/accounts/labuserXXcustom'\n",
    "\n",
    "publish_iteration_name = \"classifyModel\""
   ]
  },
  {
   "cell_type": "code",
   "execution_count": 4,
   "id": "5112c7a3",
   "metadata": {},
   "outputs": [],
   "source": [
    "credentials = ApiKeyCredentials(in_headers={\"Training-key\": training_key})\n",
    "trainer = CustomVisionTrainingClient(ENDPOINT, credentials)"
   ]
  },
  {
   "cell_type": "markdown",
   "id": "c1557edc",
   "metadata": {},
   "source": [
    "#### Project를 새로 만든다"
   ]
  },
  {
   "cell_type": "code",
   "execution_count": 6,
   "id": "82078140",
   "metadata": {},
   "outputs": [
    {
     "name": "stdout",
     "output_type": "stream",
     "text": [
      "Creating project...\n"
     ]
    }
   ],
   "source": [
    "print (\"Creating project...\")\n",
    "project = trainer.create_project(\"Labuser37 Project\")"
   ]
  },
  {
   "cell_type": "markdown",
   "id": "7ac8ee93",
   "metadata": {},
   "source": [
    "#### 태그를 만든다"
   ]
  },
  {
   "cell_type": "code",
   "execution_count": 7,
   "id": "e8cd6466",
   "metadata": {},
   "outputs": [],
   "source": [
    "Jajangmyeon_tag = trainer.create_tag(project.id, \"Jajangmyeon\")\n",
    "Jjambong_tag    = trainer.create_tag(project.id, \"Jjambong\")\n",
    "Tangsuyuk_tag   = trainer.create_tag(project.id, \"Tangsuyuk\")"
   ]
  },
  {
   "cell_type": "markdown",
   "id": "2eb0fc7b",
   "metadata": {},
   "source": [
    "#### Training 시작"
   ]
  },
  {
   "cell_type": "code",
   "execution_count": 8,
   "id": "bdb07d0d",
   "metadata": {
    "scrolled": false
   },
   "outputs": [
    {
     "name": "stdout",
     "output_type": "stream",
     "text": [
      "Training....\n"
     ]
    },
    {
     "ename": "CustomVisionErrorException",
     "evalue": "Not enough images for training",
     "output_type": "error",
     "traceback": [
      "\u001b[1;31m---------------------------------------------------------------------------\u001b[0m",
      "\u001b[1;31mCustomVisionErrorException\u001b[0m                Traceback (most recent call last)",
      "Input \u001b[1;32mIn [8]\u001b[0m, in \u001b[0;36m<cell line: 2>\u001b[1;34m()\u001b[0m\n\u001b[0;32m      1\u001b[0m \u001b[38;5;28mprint\u001b[39m(\u001b[38;5;124m'\u001b[39m\u001b[38;5;124mTraining....\u001b[39m\u001b[38;5;124m'\u001b[39m)\n\u001b[1;32m----> 2\u001b[0m iteration \u001b[38;5;241m=\u001b[39m \u001b[43mtrainer\u001b[49m\u001b[38;5;241;43m.\u001b[39;49m\u001b[43mtrain_project\u001b[49m\u001b[43m(\u001b[49m\u001b[43mproject\u001b[49m\u001b[38;5;241;43m.\u001b[39;49m\u001b[43mid\u001b[49m\u001b[43m)\u001b[49m\n",
      "File \u001b[1;32m~\\anaconda3\\lib\\site-packages\\azure\\cognitiveservices\\vision\\customvision\\training\\operations\\_custom_vision_training_client_operations.py:3274\u001b[0m, in \u001b[0;36mCustomVisionTrainingClientOperationsMixin.train_project\u001b[1;34m(self, project_id, training_type, reserved_budget_in_hours, force_train, notification_email_address, selected_tags, custom_base_model_info, custom_headers, raw, **operation_config)\u001b[0m\n\u001b[0;32m   3271\u001b[0m response \u001b[38;5;241m=\u001b[39m \u001b[38;5;28mself\u001b[39m\u001b[38;5;241m.\u001b[39m_client\u001b[38;5;241m.\u001b[39msend(request, stream\u001b[38;5;241m=\u001b[39m\u001b[38;5;28;01mFalse\u001b[39;00m, \u001b[38;5;241m*\u001b[39m\u001b[38;5;241m*\u001b[39moperation_config)\n\u001b[0;32m   3273\u001b[0m \u001b[38;5;28;01mif\u001b[39;00m response\u001b[38;5;241m.\u001b[39mstatus_code \u001b[38;5;129;01mnot\u001b[39;00m \u001b[38;5;129;01min\u001b[39;00m [\u001b[38;5;241m200\u001b[39m]:\n\u001b[1;32m-> 3274\u001b[0m     \u001b[38;5;28;01mraise\u001b[39;00m models\u001b[38;5;241m.\u001b[39mCustomVisionErrorException(\u001b[38;5;28mself\u001b[39m\u001b[38;5;241m.\u001b[39m_deserialize, response)\n\u001b[0;32m   3276\u001b[0m deserialized \u001b[38;5;241m=\u001b[39m \u001b[38;5;28;01mNone\u001b[39;00m\n\u001b[0;32m   3277\u001b[0m \u001b[38;5;28;01mif\u001b[39;00m response\u001b[38;5;241m.\u001b[39mstatus_code \u001b[38;5;241m==\u001b[39m \u001b[38;5;241m200\u001b[39m:\n",
      "\u001b[1;31mCustomVisionErrorException\u001b[0m: Not enough images for training"
     ]
    }
   ],
   "source": [
    "print('Training....')\n",
    "iteration = trainer.train_project(project.id)"
   ]
  },
  {
   "cell_type": "code",
   "execution_count": null,
   "id": "a2ee6f3f",
   "metadata": {},
   "outputs": [],
   "source": [
    "import time\n",
    "    \n",
    "# completed가 아니면 무한 loop\n",
    "while (iteration.status != 'Completed'):\n",
    "    iteration = trainer.get_iteration(project.id, iteration.id)\n",
    "    print('Status: ' + iteration.status)\n",
    "    time.sleep(0.5)\n",
    "\n",
    "print('Done Training !!!')"
   ]
  }
 ],
 "metadata": {
  "kernelspec": {
   "display_name": "Python 3 (ipykernel)",
   "language": "python",
   "name": "python3"
  },
  "language_info": {
   "codemirror_mode": {
    "name": "ipython",
    "version": 3
   },
   "file_extension": ".py",
   "mimetype": "text/x-python",
   "name": "python",
   "nbconvert_exporter": "python",
   "pygments_lexer": "ipython3",
   "version": "3.9.12"
  }
 },
 "nbformat": 4,
 "nbformat_minor": 5
}

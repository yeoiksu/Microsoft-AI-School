{
 "cells": [
  {
   "cell_type": "markdown",
   "id": "e073a0e9",
   "metadata": {},
   "source": [
    "## Boston Hosuing Price (Regression)"
   ]
  },
  {
   "cell_type": "code",
   "execution_count": 1,
   "id": "3b4d3b66",
   "metadata": {},
   "outputs": [],
   "source": [
    "import keras\n",
    "import numpy as np\n",
    "import matplotlib.pyplot as plt"
   ]
  },
  {
   "cell_type": "markdown",
   "id": "e8a95497",
   "metadata": {},
   "source": [
    "### 보스턴 주택 가격 데이터셋"
   ]
  },
  {
   "cell_type": "code",
   "execution_count": 2,
   "id": "a1f7a698",
   "metadata": {},
   "outputs": [],
   "source": [
    "from keras.datasets import boston_housing\n",
    "\n",
    "(train_data, train_labels), (test_data, test_labels) = boston_housing.load_data()"
   ]
  },
  {
   "cell_type": "code",
   "execution_count": 3,
   "id": "a2f64f96",
   "metadata": {
    "scrolled": true
   },
   "outputs": [
    {
     "data": {
      "text/plain": [
       "(404, 13)"
      ]
     },
     "execution_count": 3,
     "metadata": {},
     "output_type": "execute_result"
    }
   ],
   "source": [
    "train_data.shape"
   ]
  },
  {
   "cell_type": "code",
   "execution_count": 4,
   "id": "f0c7fc71",
   "metadata": {},
   "outputs": [
    {
     "data": {
      "text/plain": [
       "(102, 13)"
      ]
     },
     "execution_count": 4,
     "metadata": {},
     "output_type": "execute_result"
    }
   ],
   "source": [
    "test_data.shape"
   ]
  },
  {
   "cell_type": "markdown",
   "id": "ba1cc0cb",
   "metadata": {},
   "source": [
    "### Standard scale"
   ]
  },
  {
   "cell_type": "code",
   "execution_count": 5,
   "id": "9a397335",
   "metadata": {},
   "outputs": [],
   "source": [
    "mean = train_data.mean(axis = 0)\n",
    "train_data -= mean\n",
    "\n",
    "# 표준편차를 구한다.\n",
    "std = train_data.std(axis = 0)\n",
    "train_data /= std"
   ]
  },
  {
   "cell_type": "code",
   "execution_count": 6,
   "id": "9d6f3aff",
   "metadata": {},
   "outputs": [],
   "source": [
    "mean = test_data.mean(axis = 0)\n",
    "test_data -= mean\n",
    "\n",
    "# 표준편차를 구한다.\n",
    "std = test_data.std(axis = 0)\n",
    "test_data /= std"
   ]
  },
  {
   "cell_type": "markdown",
   "id": "50c98bda",
   "metadata": {},
   "source": [
    "### 신경망 생성"
   ]
  },
  {
   "cell_type": "code",
   "execution_count": 7,
   "id": "71c18157",
   "metadata": {},
   "outputs": [],
   "source": [
    "from keras import models\n",
    "from keras import layers\n",
    "\n",
    "def build_model():\n",
    "  model = models.Sequential()\n",
    "  model.add(layers.Dense(64, activation='relu',input_shape=(train_data.shape[1],)))\n",
    "  model.add(layers.Dense(64, activation='relu'))\n",
    "  model.add(layers.Dense(1))\n",
    "\n",
    "  model.compile(optimizer='rmsprop', \n",
    "                loss='mse',\n",
    "                metrics=['mae'])\n",
    "  return model"
   ]
  },
  {
   "cell_type": "markdown",
   "id": "3472c319",
   "metadata": {},
   "source": [
    "### K-folder 검증"
   ]
  },
  {
   "cell_type": "code",
   "execution_count": 15,
   "id": "b8aa07f3",
   "metadata": {},
   "outputs": [
    {
     "name": "stdout",
     "output_type": "stream",
     "text": [
      "\n",
      "처리중인 폴드 # 0\n",
      "\n",
      "처리중인 폴드 # 1\n",
      "\n",
      "처리중인 폴드 # 2\n",
      "\n",
      "처리중인 폴드 # 3\n"
     ]
    }
   ],
   "source": [
    "k = 4\n",
    "NUM_EPOCHS = 500\n",
    "\n",
    "num_val_samples = len(train_data) // k # 폴더의 사이즈\n",
    "all_scores = []\n",
    "\n",
    "for i in range(k):\n",
    "    print('\\n처리중인 폴드 #', i)\n",
    "    \n",
    "    # 검증 데이터를 준비: k번째 분할\n",
    "    val_data   = train_data  [ i*num_val_samples : (i+1) * num_val_samples ]\n",
    "    val_labels = train_labels[ i*num_val_samples : (i+1) * num_val_samples ]\n",
    "    \n",
    "    # 훈련 데이터의 준비:\n",
    "    partial_train_data = np.concatenate(\n",
    "        [\n",
    "            train_data[ : i*num_val_samples], \n",
    "            train_data[(i+1)*num_val_samples : ]\n",
    "        ], axis=0 )\n",
    "    \n",
    "    # 라벨 데이터의 준비:\n",
    "    partial_train_labels = np.concatenate(\n",
    "        [\n",
    "            train_labels[ : i*num_val_samples], \n",
    "            train_labels[(i+1)*num_val_samples : ]\n",
    "        ], axis=0 )\n",
    "    \n",
    "    model = build_model()\n",
    "    history = model.fit(partial_train_data, partial_train_labels,\n",
    "                        epochs= NUM_EPOCHS, \n",
    "                        batch_size = 1,\n",
    "                        validation_data= (val_data, val_labels),\n",
    "                        verbose = 0)\n",
    "    \n",
    "    mae_history = history.history['mae']\n",
    "    all_scores.append(mae_history)"
   ]
  },
  {
   "cell_type": "code",
   "execution_count": 24,
   "id": "868c6a3a",
   "metadata": {},
   "outputs": [],
   "source": [
    "average_mae_history = [np.mean( [x[i] for x in all_scores]) for i in range(NUM_EPOCHS)]"
   ]
  },
  {
   "cell_type": "code",
   "execution_count": 25,
   "id": "bb1110e9",
   "metadata": {},
   "outputs": [
    {
     "data": {
      "text/plain": [
       "Text(0, 0.5, 'Validation MAE')"
      ]
     },
     "execution_count": 25,
     "metadata": {},
     "output_type": "execute_result"
    },
    {
     "data": {
      "image/png": "[encoded data removed]",
      "text/plain": [
       "<Figure size 432x288 with 1 Axes>"
      ]
     },
     "metadata": {
      "needs_background": "light"
     },
     "output_type": "display_data"
    }
   ],
   "source": [
    "plt.plot(range(1, len(average_mae_history) + 1), average_mae_history )\n",
    "plt.xlabel('Epochs')\n",
    "plt.ylabel('Validation MAE')"
   ]
  },
  {
   "cell_type": "code",
   "execution_count": null,
   "id": "f4625d96",
   "metadata": {},
   "outputs": [],
   "source": []
  }
 ],
 "metadata": {
  "kernelspec": {
   "display_name": "Python 3 (ipykernel)",
   "language": "python",
   "name": "python3"
  },
  "language_info": {
   "codemirror_mode": {
    "name": "ipython",
    "version": 3
   },
   "file_extension": ".py",
   "mimetype": "text/x-python",
   "name": "python",
   "nbconvert_exporter": "python",
   "pygments_lexer": "ipython3",
   "version": "3.9.12"
  }
 },
 "nbformat": 4,
 "nbformat_minor": 5
}

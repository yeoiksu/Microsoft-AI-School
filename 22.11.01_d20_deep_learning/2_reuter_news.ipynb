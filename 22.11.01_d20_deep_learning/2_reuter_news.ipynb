{
 "cells": [
  {
   "cell_type": "markdown",
   "id": "8a074eab",
   "metadata": {},
   "source": [
    "## Reuter News"
   ]
  },
  {
   "cell_type": "code",
   "execution_count": 1,
   "id": "b3266beb",
   "metadata": {},
   "outputs": [],
   "source": [
    "import keras\n",
    "import numpy as np\n",
    "import matplotlib.pyplot as plt"
   ]
  },
  {
   "cell_type": "markdown",
   "id": "00334103",
   "metadata": {},
   "source": [
    "### 로이터 기사 데이터셋을 로딩"
   ]
  },
  {
   "cell_type": "code",
   "execution_count": 2,
   "id": "aa8aa2f2",
   "metadata": {},
   "outputs": [],
   "source": [
    "from keras.datasets import reuters\n",
    "\n",
    "(train_data, train_labels), (test_data, test_labels) = reuters.load_data(num_words = 10000)"
   ]
  },
  {
   "cell_type": "code",
   "execution_count": 3,
   "id": "ac7f62cd",
   "metadata": {},
   "outputs": [
    {
     "data": {
      "text/plain": [
       "(8982,)"
      ]
     },
     "execution_count": 3,
     "metadata": {},
     "output_type": "execute_result"
    }
   ],
   "source": [
    "train_data.shape"
   ]
  },
  {
   "cell_type": "code",
   "execution_count": 4,
   "id": "ad5d704e",
   "metadata": {},
   "outputs": [],
   "source": [
    "word_index = reuters.get_word_index()\n",
    "reverse_word_index = dict( [value, key] for (key, value) in word_index.items() )\n",
    "\n",
    "decoded_newswire = ' '.join( [reverse_word_index.get(i-3, '?') for i in train_data[0]])"
   ]
  },
  {
   "cell_type": "code",
   "execution_count": 5,
   "id": "ef8ec391",
   "metadata": {},
   "outputs": [
    {
     "data": {
      "text/plain": [
       "'? ? ? said as a result of its december acquisition of space co it expects earnings per share in 1987 of 1 15 to 1 30 dlrs per share up from 70 cts in 1986 the company said pretax net should rise to nine to 10 mln dlrs from six mln dlrs in 1986 and rental operation revenues to 19 to 22 mln dlrs from 12 5 mln dlrs it said cash flow per share this year should be 2 50 to three dlrs reuter 3'"
      ]
     },
     "execution_count": 5,
     "metadata": {},
     "output_type": "execute_result"
    }
   ],
   "source": [
    "decoded_newswire"
   ]
  },
  {
   "cell_type": "code",
   "execution_count": 6,
   "id": "266b004a",
   "metadata": {},
   "outputs": [
    {
     "data": {
      "text/plain": [
       "3"
      ]
     },
     "execution_count": 6,
     "metadata": {},
     "output_type": "execute_result"
    }
   ],
   "source": [
    "train_labels[0]"
   ]
  },
  {
   "cell_type": "markdown",
   "id": "4026321f",
   "metadata": {},
   "source": [
    "### 데이터의 준비"
   ]
  },
  {
   "cell_type": "code",
   "execution_count": 7,
   "id": "c2ba6e50",
   "metadata": {},
   "outputs": [],
   "source": [
    "def vectorize_sequences(sequences, dimension=10000):\n",
    "\n",
    "  results = np.zeros((len(sequences),dimension))\n",
    "\n",
    "  for i, sequence in enumerate(sequences):\n",
    "    results[i, sequence] = 1\n",
    "\n",
    "  return results"
   ]
  },
  {
   "cell_type": "markdown",
   "id": "226e7e35",
   "metadata": {},
   "source": [
    "### 데이터의 변환"
   ]
  },
  {
   "cell_type": "code",
   "execution_count": 8,
   "id": "3836eff1",
   "metadata": {},
   "outputs": [],
   "source": [
    "x_train = vectorize_sequences(train_data)\n",
    "x_test = vectorize_sequences(test_data)"
   ]
  },
  {
   "cell_type": "code",
   "execution_count": 9,
   "id": "a3d9b0f0",
   "metadata": {
    "scrolled": true
   },
   "outputs": [
    {
     "data": {
      "text/plain": [
       "array([ 3,  4,  3, ..., 25,  3, 25], dtype=int64)"
      ]
     },
     "execution_count": 9,
     "metadata": {},
     "output_type": "execute_result"
    }
   ],
   "source": [
    "train_labels"
   ]
  },
  {
   "cell_type": "markdown",
   "id": "a1555c1c",
   "metadata": {},
   "source": [
    "### 라벨 데이터의 엔코딩 (보여주러고 한것, 실제로는 X)"
   ]
  },
  {
   "cell_type": "code",
   "execution_count": 10,
   "id": "e86c43b6",
   "metadata": {},
   "outputs": [],
   "source": [
    "def to_one_hot(labels, dimension= 46):\n",
    "    results = np.zeros((len(labels), dimension))\n",
    "    \n",
    "    for i, sequence in enumerate(labels):\n",
    "        results[i, sequence] = 1\n",
    "        \n",
    "        return results\n",
    "    \n",
    "one_hot_train_labels = to_one_hot(train_labels)\n",
    "one_hot_test_labels  = to_one_hot(test_labels)"
   ]
  },
  {
   "cell_type": "markdown",
   "id": "66fac727",
   "metadata": {},
   "source": [
    "### Categorical 데이터로 변환 ( 실제로는 O )"
   ]
  },
  {
   "cell_type": "code",
   "execution_count": 11,
   "id": "02dae4ec",
   "metadata": {},
   "outputs": [],
   "source": [
    "from keras.utils.np_utils import to_categorical\n",
    "\n",
    "one_hot_train_labels = to_categorical(train_labels)\n",
    "one_hot_test_labels  = to_categorical(test_labels)"
   ]
  },
  {
   "cell_type": "markdown",
   "id": "58dfd653",
   "metadata": {},
   "source": [
    "### 신경망 구성"
   ]
  },
  {
   "cell_type": "code",
   "execution_count": 20,
   "id": "abed4b04",
   "metadata": {},
   "outputs": [],
   "source": [
    "from keras import models \n",
    "from keras import layers\n",
    "\n",
    "model = models.Sequential()\n",
    "model.add(layers.Dense(64, activation='relu', input_shape=(10000,)))\n",
    "model.add(layers.Dense(1000, activation='relu'))\n",
    "model.add(layers.Dense(46, activation='softmax'))"
   ]
  },
  {
   "cell_type": "code",
   "execution_count": 21,
   "id": "da5d8017",
   "metadata": {},
   "outputs": [
    {
     "name": "stdout",
     "output_type": "stream",
     "text": [
      "Model: \"sequential_1\"\n",
      "_________________________________________________________________\n",
      " Layer (type)                Output Shape              Param #   \n",
      "=================================================================\n",
      " dense_3 (Dense)             (None, 64)                640064    \n",
      "                                                                 \n",
      " dense_4 (Dense)             (None, 1000)              65000     \n",
      "                                                                 \n",
      " dense_5 (Dense)             (None, 46)                46046     \n",
      "                                                                 \n",
      "=================================================================\n",
      "Total params: 751,110\n",
      "Trainable params: 751,110\n",
      "Non-trainable params: 0\n",
      "_________________________________________________________________\n"
     ]
    }
   ],
   "source": [
    "model.summary()"
   ]
  },
  {
   "cell_type": "code",
   "execution_count": 22,
   "id": "57c8b2f5",
   "metadata": {},
   "outputs": [],
   "source": [
    "model.compile(optimizer='rmsprop',\n",
    "            loss='categorical_crossentropy',\n",
    "            metrics=['accuracy'])"
   ]
  },
  {
   "cell_type": "markdown",
   "id": "dcc08357",
   "metadata": {},
   "source": [
    "#### 훈련 데이터의 준비"
   ]
  },
  {
   "cell_type": "code",
   "execution_count": 23,
   "id": "f7453ce8",
   "metadata": {},
   "outputs": [],
   "source": [
    "x_val = x_train[:1000]\n",
    "partial_x_train = x_train[1000:]\n",
    "y_val = one_hot_train_labels[:1000]\n",
    "partial_y_train = one_hot_train_labels[1000:]"
   ]
  },
  {
   "cell_type": "code",
   "execution_count": 24,
   "id": "7258a432",
   "metadata": {
    "scrolled": true
   },
   "outputs": [
    {
     "name": "stdout",
     "output_type": "stream",
     "text": [
      "Epoch 1/20\n",
      "16/16 [==============================] - 1s 42ms/step - loss: 2.1625 - accuracy: 0.5258 - val_loss: 1.4362 - val_accuracy: 0.6650\n",
      "Epoch 2/20\n",
      "16/16 [==============================] - 0s 24ms/step - loss: 1.2270 - accuracy: 0.7160 - val_loss: 1.2017 - val_accuracy: 0.7170\n",
      "Epoch 3/20\n",
      "16/16 [==============================] - 0s 26ms/step - loss: 0.9147 - accuracy: 0.7902 - val_loss: 1.0899 - val_accuracy: 0.7590\n",
      "Epoch 4/20\n",
      "16/16 [==============================] - 0s 25ms/step - loss: 0.6888 - accuracy: 0.8343 - val_loss: 1.0919 - val_accuracy: 0.7440\n",
      "Epoch 5/20\n",
      "16/16 [==============================] - 0s 25ms/step - loss: 0.5382 - accuracy: 0.8706 - val_loss: 0.9608 - val_accuracy: 0.7930\n",
      "Epoch 6/20\n",
      "16/16 [==============================] - 0s 24ms/step - loss: 0.4087 - accuracy: 0.9045 - val_loss: 0.9542 - val_accuracy: 0.8030\n",
      "Epoch 7/20\n",
      "16/16 [==============================] - 0s 23ms/step - loss: 0.3154 - accuracy: 0.9272 - val_loss: 1.0079 - val_accuracy: 0.8030\n",
      "Epoch 8/20\n",
      "16/16 [==============================] - 0s 27ms/step - loss: 0.2470 - accuracy: 0.9377 - val_loss: 0.9596 - val_accuracy: 0.8140\n",
      "Epoch 9/20\n",
      "16/16 [==============================] - 0s 25ms/step - loss: 0.1996 - accuracy: 0.9491 - val_loss: 1.0192 - val_accuracy: 0.8050\n",
      "Epoch 10/20\n",
      "16/16 [==============================] - 0s 27ms/step - loss: 0.1896 - accuracy: 0.9499 - val_loss: 1.0530 - val_accuracy: 0.8090\n",
      "Epoch 11/20\n",
      "16/16 [==============================] - 0s 24ms/step - loss: 0.1578 - accuracy: 0.9548 - val_loss: 1.1297 - val_accuracy: 0.7960\n",
      "Epoch 12/20\n",
      "16/16 [==============================] - 0s 25ms/step - loss: 0.1468 - accuracy: 0.9564 - val_loss: 1.1491 - val_accuracy: 0.8020\n",
      "Epoch 13/20\n",
      "16/16 [==============================] - 0s 26ms/step - loss: 0.1374 - accuracy: 0.9559 - val_loss: 1.1034 - val_accuracy: 0.8050\n",
      "Epoch 14/20\n",
      "16/16 [==============================] - 0s 25ms/step - loss: 0.1336 - accuracy: 0.9545 - val_loss: 1.1844 - val_accuracy: 0.7900\n",
      "Epoch 15/20\n",
      "16/16 [==============================] - 0s 24ms/step - loss: 0.1217 - accuracy: 0.9582 - val_loss: 1.1289 - val_accuracy: 0.7990\n",
      "Epoch 16/20\n",
      "16/16 [==============================] - 0s 25ms/step - loss: 0.1144 - accuracy: 0.9568 - val_loss: 1.1227 - val_accuracy: 0.8040\n",
      "Epoch 17/20\n",
      "16/16 [==============================] - 0s 25ms/step - loss: 0.1114 - accuracy: 0.9569 - val_loss: 1.1354 - val_accuracy: 0.8020\n",
      "Epoch 18/20\n",
      "16/16 [==============================] - 0s 23ms/step - loss: 0.1156 - accuracy: 0.9574 - val_loss: 1.1109 - val_accuracy: 0.8030\n",
      "Epoch 19/20\n",
      "16/16 [==============================] - 0s 25ms/step - loss: 0.1062 - accuracy: 0.9593 - val_loss: 1.1027 - val_accuracy: 0.8040\n",
      "Epoch 20/20\n",
      "16/16 [==============================] - 0s 26ms/step - loss: 0.1003 - accuracy: 0.9585 - val_loss: 1.1787 - val_accuracy: 0.7990\n"
     ]
    }
   ],
   "source": [
    "history = model.fit(partial_x_train, \n",
    "                    partial_y_train,\n",
    "                    epochs=20,\n",
    "                    batch_size=512,\n",
    "                    validation_data=(x_val, y_val))"
   ]
  },
  {
   "cell_type": "markdown",
   "id": "c45c569c",
   "metadata": {},
   "source": [
    "### 학습 결과"
   ]
  },
  {
   "cell_type": "code",
   "execution_count": 25,
   "id": "e7afb106",
   "metadata": {},
   "outputs": [],
   "source": [
    "loss = history.history['loss']\n",
    "val_loss = history.history['val_loss']\n",
    "acc = history.history['accuracy']\n",
    "val_acc = history.history['val_accuracy']\n",
    "\n",
    "epochs = range(1, len(loss) + 1)"
   ]
  },
  {
   "cell_type": "markdown",
   "id": "26ed2c29",
   "metadata": {},
   "source": [
    "### 결과를 시각화"
   ]
  },
  {
   "cell_type": "code",
   "execution_count": 26,
   "id": "af284154",
   "metadata": {},
   "outputs": [
    {
     "name": "stderr",
     "output_type": "stream",
     "text": [
      "C:\\Users\\user\\AppData\\Local\\Temp\\ipykernel_9636\\2499279012.py:2: UserWarning: color is redundantly defined by the 'color' keyword argument and the fmt string \"b-\" (-> color='b'). The keyword argument will take precedence.\n",
      "  plt.plot(epochs, val_loss, 'b-', label= 'Validation Loss', c= 'red')\n"
     ]
    },
    {
     "data": {
      "image/png": "[encoded data removed]",
      "text/plain": [
       "<Figure size 432x288 with 1 Axes>"
      ]
     },
     "metadata": {
      "needs_background": "light"
     },
     "output_type": "display_data"
    }
   ],
   "source": [
    "plt.plot(epochs, loss,     'bo', label= 'Training Loss')\n",
    "plt.plot(epochs, val_loss, 'b-', label= 'Validation Loss', c= 'red')\n",
    "plt.title('Training and Validation loss')\n",
    "plt.xlabel('Epochs')\n",
    "plt.ylabel('Loss')\n",
    "\n",
    "plt.legend()\n",
    "plt.grid()"
   ]
  },
  {
   "cell_type": "code",
   "execution_count": 27,
   "id": "19f9a51b",
   "metadata": {},
   "outputs": [
    {
     "name": "stderr",
     "output_type": "stream",
     "text": [
      "C:\\Users\\user\\AppData\\Local\\Temp\\ipykernel_9636\\1480533608.py:2: UserWarning: color is redundantly defined by the 'color' keyword argument and the fmt string \"b-\" (-> color='b'). The keyword argument will take precedence.\n",
      "  plt.plot(epochs, val_acc, 'b-', label= 'Validation Accuracy', c= 'red')\n"
     ]
    },
    {
     "data": {
      "image/png": "[encoded data removed]",
      "text/plain": [
       "<Figure size 432x288 with 1 Axes>"
      ]
     },
     "metadata": {
      "needs_background": "light"
     },
     "output_type": "display_data"
    }
   ],
   "source": [
    "plt.plot(epochs, acc,     'bo', label= 'Training Accuracy')\n",
    "plt.plot(epochs, val_acc, 'b-', label= 'Validation Accuracy', c= 'red')\n",
    "plt.title('Training and Validation loss')\n",
    "plt.xlabel('Epochs')\n",
    "plt.ylabel('Accuracy')\n",
    "\n",
    "plt.legend()\n",
    "plt.grid()"
   ]
  }
 ],
 "metadata": {
  "kernelspec": {
   "display_name": "Python 3 (ipykernel)",
   "language": "python",
   "name": "python3"
  },
  "language_info": {
   "codemirror_mode": {
    "name": "ipython",
    "version": 3
   },
   "file_extension": ".py",
   "mimetype": "text/x-python",
   "name": "python",
   "nbconvert_exporter": "python",
   "pygments_lexer": "ipython3",
   "version": "3.9.12"
  }
 },
 "nbformat": 4,
 "nbformat_minor": 5
}

{
 "cells": [
  {
   "cell_type": "markdown",
   "id": "30033f4a",
   "metadata": {},
   "source": [
    "## Workspace 정보 가져오기"
   ]
  },
  {
   "cell_type": "code",
   "execution_count": null,
   "id": "e76d5cf2",
   "metadata": {},
   "outputs": [],
   "source": [
    "from azureml.core import Workspace\n",
    "ws = Workspace.from_config()   # workspace의 setting 가져오기\n",
    "print(\n",
    "    'Workspace name\\t: ' + 'XXXXXXXXXXXXXXXXXX',\n",
    "    # 'Workspace name\\t: ' + ws.name,\n",
    "    '\\nAzure region\\t: ' + 'XXXXXXXXXXXXXXXXXX',\n",
    "    # '\\nAzure region\\t: ' + ws.location,\n",
    "    '\\nSubscription ID\\t: ' + 'XXXXXXXXXXXXXXXXXX',\n",
    "    # '\\nSubscription ID\\t: ' + ws.subscription_id,\n",
    "    '\\nResource Group\\t: ' + 'XXXXXXXXXXXXXXXXXX'\n",
    "    # '\\nResource Group\\t: ' + ws.resource_group\n",
    ")"
   ]
  },
  {
   "cell_type": "markdown",
   "id": "ecaa61cc",
   "metadata": {},
   "source": [
    "## 실험 공간 생성"
   ]
  },
  {
   "cell_type": "code",
   "execution_count": null,
   "id": "2aedc5cf",
   "metadata": {},
   "outputs": [],
   "source": [
    "from azureml.core import Experiment\n",
    "experiment = Experiment(workspace= ws, name= 'diabetes_experiment') # workspace: 위에 설정한 workspace 지정, name: 실험의 이름"
   ]
  },
  {
   "cell_type": "markdown",
   "id": "5cbec9dd",
   "metadata": {},
   "source": [
    "### Diabetes Dataset 가져오기"
   ]
  },
  {
   "cell_type": "code",
   "execution_count": null,
   "id": "108a3064",
   "metadata": {},
   "outputs": [],
   "source": [
    "from azureml.opendatasets import Diabetes\n",
    "from sklearn.model_selection import train_test_split\n",
    "\n",
    "x_df = Diabetes.get_tabular_dataset().to_pandas_dataframe().dropna()\n",
    "y_df = x_df.pop('Y')    # x_df에서 ['Y']는 pop되고 y_df에 저장된다\n",
    "\n",
    "# Split trainset & testset \n",
    "X_train, X_test, y_train, y_test = train_test_split(x_df, y_df, test_size= 0.2, random_state= 66)"
   ]
  },
  {
   "cell_type": "markdown",
   "id": "9fc2e874",
   "metadata": {},
   "source": [
    "## Model 불러오기 (Ridge)"
   ]
  },
  {
   "cell_type": "code",
   "execution_count": null,
   "id": "062ff3d7",
   "metadata": {},
   "outputs": [],
   "source": [
    "from sklearn.linear_model import Ridge\n",
    "from sklearn.metrics import mean_squared_error\n",
    "from sklearn.externals import joblib\n",
    "import math\n",
    "\n",
    "alphas = [0.1, 0.2, 0.3, 0.4, 0.5, 0.6, 0.7, 0.8, 0.9, 1.0]\n",
    "\n",
    "for alpha in alphas:\n",
    "    run = experiment.start_logging()  # logging 기록 남기기\n",
    "    run.log('alpha', alpha)\n",
    "\n",
    "    model = Ridge(alpha= alpha)\n",
    "    model.fit(X_train, y_train)\n",
    "\n",
    "    y_pred = model.predict(X_test)\n",
    "\n",
    "    # 루트: math.sqrt\n",
    "    rmse = math.sqrt(mean_squared_error(y_test, y_pred) )    \n",
    "    run.log('rmse: ', rmse)   # log에 남김\n",
    "    \n",
    "    #모델 이름 설정\n",
    "    model_name = 'model_alpha_{}.pkl'.format(str(alpha))  \n",
    "    filename = 'outputs/{}'.format(model_name)\n",
    "\n",
    "    # 모델 저장\n",
    "    joblib.dump(value= model, filename= filename)\n",
    "\n",
    "    # 시스템에 올려놓기\n",
    "    run.upload_file(name= model_name, path_or_stream= filename) # Azure ML Service에 업로드\n",
    "    run.complete() # 작업종료\n",
    "\n",
    "    print(f'{alpha} experiment completed')"
   ]
  }
 ],
 "metadata": {
  "kernelspec": {
   "display_name": "Python 3 (ipykernel)",
   "language": "python",
   "name": "python3"
  },
  "language_info": {
   "codemirror_mode": {
    "name": "ipython",
    "version": 3
   },
   "file_extension": ".py",
   "mimetype": "text/x-python",
   "name": "python",
   "nbconvert_exporter": "python",
   "pygments_lexer": "ipython3",
   "version": "3.9.12"
  }
 },
 "nbformat": 4,
 "nbformat_minor": 5
}

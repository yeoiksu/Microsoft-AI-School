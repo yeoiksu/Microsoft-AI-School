{
  "cells": [
    {
      "cell_type": "markdown",
      "source": [
        "## Workspace 정보 가져오기"
      ],
      "metadata": {
        "nteract": {
          "transient": {
            "deleting": false
          }
        }
      }
    },
    {
      "cell_type": "code",
      "source": [
        "from azureml.core import Workspace\r\n",
        "ws = Workspace.from_config()   # workspace의 setting 가져오기\r\n",
        "print(\r\n",
        "    'Workspace name\\t: ' + 'XXXXXXXXXXXXXXXXXX',\r\n",
        "    # 'Workspace name\\t: ' + ws.name,\r\n",
        "    '\\nAzure region\\t: ' + 'XXXXXXXXXXXXXXXXXX',\r\n",
        "    # '\\nAzure region\\t: ' + ws.location,\r\n",
        "    '\\nSubscription ID\\t: ' + 'XXXXXXXXXXXXXXXXXX',\r\n",
        "    # '\\nSubscription ID\\t: ' + ws.subscription_id,\r\n",
        "    '\\nResource Group\\t: ' + 'XXXXXXXXXXXXXXXXXX'\r\n",
        "    # '\\nResource Group\\t: ' + ws.resource_group\r\n",
        ")"
      ],
      "outputs": [
        {
          "output_type": "stream",
          "name": "stdout",
          "text": "Workspace name\t: XXXXXXXXXXXXXXXXXX \nAzure region\t: XXXXXXXXXXXXXXXXXX \nSubscription ID\t: XXXXXXXXXXXXXXXXXX \nResource Group\t: XXXXXXXXXXXXXXXXXX\n"
        }
      ],
      "execution_count": 1,
      "metadata": {
        "gather": {
          "logged": 1667539060551
        }
      }
    },
    {
      "cell_type": "markdown",
      "source": [
        "## 실험 공간 생성"
      ],
      "metadata": {
        "nteract": {
          "transient": {
            "deleting": false
          }
        }
      }
    },
    {
      "cell_type": "code",
      "source": [
        "from azureml.core import Experiment\r\n",
        "experiment = Experiment(workspace= ws, name= 'diabetes_experiment') # workspace: 위에 설정한 workspace 지정, name: 실험의 이름"
      ],
      "outputs": [],
      "execution_count": 2,
      "metadata": {
        "jupyter": {
          "source_hidden": false,
          "outputs_hidden": false
        },
        "nteract": {
          "transient": {
            "deleting": false
          }
        },
        "gather": {
          "logged": 1667539060693
        }
      }
    },
    {
      "cell_type": "markdown",
      "source": [
        "### Diabetes Dataset 가져오기"
      ],
      "metadata": {
        "nteract": {
          "transient": {
            "deleting": false
          }
        }
      }
    },
    {
      "cell_type": "code",
      "source": [
        "from azureml.opendatasets import Diabetes\r\n",
        "from sklearn.model_selection import train_test_split\r\n",
        "\r\n",
        "x_df = Diabetes.get_tabular_dataset().to_pandas_dataframe().dropna()\r\n",
        "y_df = x_df.pop('Y')    # x_df에서 ['Y']는 pop되고 y_df에 저장된다\r\n",
        "\r\n",
        "# Split trainset & testset \r\n",
        "X_train, X_test, y_train, y_test = train_test_split(x_df, y_df, test_size= 0.2, random_state= 66)"
      ],
      "outputs": [],
      "execution_count": 3,
      "metadata": {
        "jupyter": {
          "source_hidden": false,
          "outputs_hidden": false
        },
        "nteract": {
          "transient": {
            "deleting": false
          }
        },
        "gather": {
          "logged": 1667539068835
        }
      }
    },
    {
      "cell_type": "markdown",
      "source": [
        "## Model 불러오기 (Ridge)"
      ],
      "metadata": {
        "nteract": {
          "transient": {
            "deleting": false
          }
        }
      }
    },
    {
      "cell_type": "code",
      "source": [
        "from sklearn.linear_model import Ridge\r\n",
        "from sklearn.metrics import mean_squared_error\r\n",
        "from sklearn.externals import joblib\r\n",
        "import math\r\n",
        "\r\n",
        "alphas = [0.1, 0.2, 0.3, 0.4, 0.5, 0.6, 0.7, 0.8, 0.9, 1]\r\n",
        "\r\n",
        "for alpha in alphas:\r\n",
        "    run = experiment.start_logging()  # logging 기록 남기기\r\n",
        "    run.log('alpha', alpha)\r\n",
        "\r\n",
        "    model = Ridge(alpha= alpha)\r\n",
        "    model.fit(X_train, y_train)\r\n",
        "\r\n",
        "    y_pred = model.predict(X_test)\r\n",
        "\r\n",
        "    # 루트: math.sqrt\r\n",
        "    rmse = math.sqrt(mean_squared_error(y_test, y_pred) )    \r\n",
        "    run.log('rmse: ', rmse)   # log에 남김\r\n",
        "    \r\n",
        "    #모델 이름 설정\r\n",
        "    model_name = 'model_alpha_{}.pkl'.format(str(alpha))  \r\n",
        "    filename = 'outputs/{}'.format(model_name)\r\n",
        "\r\n",
        "    # 모델 저장\r\n",
        "    joblib.dump(value= model, filename= filename)\r\n",
        "\r\n",
        "    # 시스템에 올려놓기\r\n",
        "    run.upload_file(name= model_name, path_or_stream= filename) # Azure ML Service에 업로드\r\n",
        "    run.complete() # 작업종료\r\n",
        "\r\n",
        "    print(f'{alpha} experiment completed')"
      ],
      "outputs": [
        {
          "output_type": "stream",
          "name": "stderr",
          "text": "/anaconda/envs/azureml_py38/lib/python3.8/site-packages/sklearn/externals/joblib/__init__.py:15: FutureWarning: sklearn.externals.joblib is deprecated in 0.21 and will be removed in 0.23. Please import this functionality directly from joblib, which can be installed with: pip install joblib. If this warning is raised when loading pickled models, you may need to re-serialize those models with scikit-learn 0.21+.\n  warnings.warn(msg, category=FutureWarning)\n"
        },
        {
          "output_type": "stream",
          "name": "stdout",
          "text": "0.1 experiment completed\n0.2 experiment completed\n0.3 experiment completed\n0.4 experiment completed\n0.5 experiment completed\n0.6 experiment completed\n0.7 experiment completed\n0.8 experiment completed\n0.9 experiment completed\n1 experiment completed\n"
        }
      ],
      "execution_count": 4,
      "metadata": {
        "jupyter": {
          "source_hidden": false,
          "outputs_hidden": false
        },
        "nteract": {
          "transient": {
            "deleting": false
          }
        },
        "gather": {
          "logged": 1667539142526
        }
      }
    },
    {
      "cell_type": "code",
      "source": [
        "# experiment 관련 Descrpition\r\n",
        "experiment # 객체"
      ],
      "outputs": [
        {
          "output_type": "execute_result",
          "execution_count": 5,
          "data": {
            "text/plain": "Experiment(Name: diabetes_experiment,\nWorkspace: labuser37ml)",
            "text/html": "<table style=\"width:100%\"><tr><th>Name</th><th>Workspace</th><th>Report Page</th><th>Docs Page</th></tr><tr><td>diabetes_experiment</td><td>labuser37ml</td><td><a href=\"https://ml.azure.com/experiments/id/91e8bca1-38ea-425d-8eac-d3c5ac0f6b78?wsid=/subscriptions/7ae06d59-97e1-4a36-bbfe-efb081b9b03b/resourcegroups/rg37/workspaces/labuser37ml&amp;tid=feae1453-5da6-41f2-a2e8-fb4661fbbb21\" target=\"_blank\" rel=\"noopener\">Link to Azure Machine Learning studio</a></td><td><a href=\"https://docs.microsoft.com/en-us/python/api/azureml-core/azureml.core.experiment.Experiment?view=azure-ml-py\" target=\"_blank\" rel=\"noopener\">Link to Documentation</a></td></tr></table>"
          },
          "metadata": {}
        }
      ],
      "execution_count": 5,
      "metadata": {
        "jupyter": {
          "source_hidden": false,
          "outputs_hidden": false
        },
        "nteract": {
          "transient": {
            "deleting": false
          }
        },
        "gather": {
          "logged": 1667539142709
        }
      }
    },
    {
      "cell_type": "markdown",
      "source": [
        "## Best Model 탐색 후 다운로드"
      ],
      "metadata": {
        "nteract": {
          "transient": {
            "deleting": false
          }
        }
      }
    },
    {
      "cell_type": "code",
      "source": [
        "minimum_rmse = None\r\n",
        "minimum_rmse_runid = None\r\n",
        "\r\n",
        "for run in experiment.get_runs():\r\n",
        "    run_metrics = run.get_metrics()\r\n",
        "    run_details = run.get_details()\r\n",
        "    \r\n",
        "    run_rmse = run_metrics['rmse']\r\n",
        "    run_id = run_details['runId']\r\n",
        "\r\n",
        "    # 제일 처음 실행 시 \r\n",
        "    if minimum_rmse is None:\r\n",
        "        minimum_rmse = run_rmse\r\n",
        "        minimum_rmse_runid = run_id\r\n",
        "    # 처음이 아닐시 rmse값 비교\r\n",
        "    else:\r\n",
        "        if run_rmse < minimum_rmse:\r\n",
        "            minimum_rmse = run_rmse\r\n",
        "            minimum_rmse_runid = run_id\r\n",
        "\r\n",
        "print('Best run_id: {}\\nBest rmse:{}'.format(minimum_rmse_runid, str(minimum_rmse)))"
      ],
      "outputs": [
        {
          "output_type": "error",
          "ename": "Exception",
          "evalue": "Malformed metric value",
          "traceback": [
            "\u001b[0;31m---------------------------------------------------------------------------\u001b[0m",
            "\u001b[0;31mException\u001b[0m                                 Traceback (most recent call last)",
            "Input \u001b[0;32mIn [7]\u001b[0m, in \u001b[0;36m<cell line: 4>\u001b[0;34m()\u001b[0m\n\u001b[1;32m      2\u001b[0m minimum_rmse_runid \u001b[38;5;241m=\u001b[39m \u001b[38;5;28;01mNone\u001b[39;00m\n\u001b[1;32m      4\u001b[0m \u001b[38;5;28;01mfor\u001b[39;00m run \u001b[38;5;129;01min\u001b[39;00m experiment\u001b[38;5;241m.\u001b[39mget_runs():\n\u001b[0;32m----> 5\u001b[0m     run_metrics \u001b[38;5;241m=\u001b[39m \u001b[43mrun\u001b[49m\u001b[38;5;241;43m.\u001b[39;49m\u001b[43mget_metrics\u001b[49m\u001b[43m(\u001b[49m\u001b[43m)\u001b[49m\n\u001b[1;32m      6\u001b[0m     run_details \u001b[38;5;241m=\u001b[39m run\u001b[38;5;241m.\u001b[39mget_details()\n\u001b[1;32m      8\u001b[0m     run_rmse \u001b[38;5;241m=\u001b[39m run_metrics[\u001b[38;5;124m'\u001b[39m\u001b[38;5;124mrmse\u001b[39m\u001b[38;5;124m'\u001b[39m]\n",
            "File \u001b[0;32m/anaconda/envs/azureml_py38/lib/python3.8/site-packages/azureml/core/run.py:1342\u001b[0m, in \u001b[0;36mRun.get_metrics\u001b[0;34m(self, name, recursive, run_type, populate)\u001b[0m\n\u001b[1;32m   1311\u001b[0m \u001b[38;5;28;01mdef\u001b[39;00m \u001b[38;5;21mget_metrics\u001b[39m(\u001b[38;5;28mself\u001b[39m, name\u001b[38;5;241m=\u001b[39m\u001b[38;5;28;01mNone\u001b[39;00m, recursive\u001b[38;5;241m=\u001b[39m\u001b[38;5;28;01mFalse\u001b[39;00m, run_type\u001b[38;5;241m=\u001b[39m\u001b[38;5;28;01mNone\u001b[39;00m, populate\u001b[38;5;241m=\u001b[39m\u001b[38;5;28;01mFalse\u001b[39;00m):\n\u001b[1;32m   1312\u001b[0m     \u001b[38;5;124;03m\"\"\"Retrieve the metrics logged to the run.\u001b[39;00m\n\u001b[1;32m   1313\u001b[0m \n\u001b[1;32m   1314\u001b[0m \u001b[38;5;124;03m    If ``recursive`` is True (False by default), then fetch metrics for runs in the given run's subtree.\u001b[39;00m\n\u001b[0;32m   (...)\u001b[0m\n\u001b[1;32m   1340\u001b[0m \u001b[38;5;124;03m    :rtype: dict\u001b[39;00m\n\u001b[1;32m   1341\u001b[0m \u001b[38;5;124;03m    \"\"\"\u001b[39;00m\n\u001b[0;32m-> 1342\u001b[0m     \u001b[38;5;28;01mreturn\u001b[39;00m \u001b[38;5;28;43mself\u001b[39;49m\u001b[38;5;241;43m.\u001b[39;49m\u001b[43m_client\u001b[49m\u001b[38;5;241;43m.\u001b[39;49m\u001b[43mget_metrics\u001b[49m\u001b[43m(\u001b[49m\u001b[43mname\u001b[49m\u001b[38;5;241;43m=\u001b[39;49m\u001b[43mname\u001b[49m\u001b[43m,\u001b[49m\u001b[43m \u001b[49m\u001b[43mrecursive\u001b[49m\u001b[38;5;241;43m=\u001b[39;49m\u001b[43mrecursive\u001b[49m\u001b[43m,\u001b[49m\u001b[43m \u001b[49m\u001b[43mrun_type\u001b[49m\u001b[38;5;241;43m=\u001b[39;49m\u001b[43mrun_type\u001b[49m\u001b[43m,\u001b[49m\n\u001b[1;32m   1343\u001b[0m \u001b[43m                                    \u001b[49m\u001b[43mpopulate\u001b[49m\u001b[38;5;241;43m=\u001b[39;49m\u001b[43mpopulate\u001b[49m\u001b[43m,\u001b[49m\u001b[43m \u001b[49m\u001b[43mroot_run_id\u001b[49m\u001b[38;5;241;43m=\u001b[39;49m\u001b[38;5;28;43mself\u001b[39;49m\u001b[38;5;241;43m.\u001b[39;49m\u001b[43m_root_run_id\u001b[49m\u001b[43m)\u001b[49m\n",
            "File \u001b[0;32m/anaconda/envs/azureml_py38/lib/python3.8/site-packages/azureml/_run_impl/run_history_facade.py:390\u001b[0m, in \u001b[0;36mRunHistoryFacade.get_metrics\u001b[0;34m(self, name, recursive, run_type, populate, root_run_id, run_ids, use_batch)\u001b[0m\n\u001b[1;32m    387\u001b[0m     run_ids \u001b[38;5;241m=\u001b[39m descendant_ids \u001b[38;5;241m+\u001b[39m [\u001b[38;5;28mself\u001b[39m\u001b[38;5;241m.\u001b[39m_run_id]\n\u001b[1;32m    389\u001b[0m \u001b[38;5;28;01mif\u001b[39;00m _use_v2_metrics:\n\u001b[0;32m--> 390\u001b[0m     \u001b[38;5;28;01mreturn\u001b[39;00m \u001b[38;5;28;43mself\u001b[39;49m\u001b[38;5;241;43m.\u001b[39;49m\u001b[43mmetrics\u001b[49m\u001b[38;5;241;43m.\u001b[39;49m\u001b[43mget_all_metrics_v2\u001b[49m\u001b[43m(\u001b[49m\u001b[43mname\u001b[49m\u001b[38;5;241;43m=\u001b[39;49m\u001b[43mname\u001b[49m\u001b[43m,\u001b[49m\u001b[43m \u001b[49m\u001b[43mrun_ids\u001b[49m\u001b[38;5;241;43m=\u001b[39;49m\u001b[43mrun_ids\u001b[49m\u001b[43m,\u001b[49m\u001b[43m \u001b[49m\u001b[43mpopulate\u001b[49m\u001b[38;5;241;43m=\u001b[39;49m\u001b[43mpopulate\u001b[49m\u001b[43m,\u001b[49m\n\u001b[1;32m    391\u001b[0m \u001b[43m                                           \u001b[49m\u001b[43martifact_client\u001b[49m\u001b[38;5;241;43m=\u001b[39;49m\u001b[38;5;28;43mself\u001b[39;49m\u001b[38;5;241;43m.\u001b[39;49m\u001b[43martifacts\u001b[49m\u001b[43m,\u001b[49m\n\u001b[1;32m    392\u001b[0m \u001b[43m                                           \u001b[49m\u001b[43mdata_container\u001b[49m\u001b[38;5;241;43m=\u001b[39;49m\u001b[38;5;28;43mself\u001b[39;49m\u001b[38;5;241;43m.\u001b[39;49m\u001b[43m_data_container_id\u001b[49m\u001b[43m)\u001b[49m\n\u001b[1;32m    394\u001b[0m \u001b[38;5;28;01mreturn\u001b[39;00m \u001b[38;5;28mself\u001b[39m\u001b[38;5;241m.\u001b[39mmetrics\u001b[38;5;241m.\u001b[39mget_all_metrics(run_ids\u001b[38;5;241m=\u001b[39mrun_ids, populate\u001b[38;5;241m=\u001b[39mpopulate, artifact_client\u001b[38;5;241m=\u001b[39m\u001b[38;5;28mself\u001b[39m\u001b[38;5;241m.\u001b[39martifacts,\n\u001b[1;32m    395\u001b[0m                                     data_container\u001b[38;5;241m=\u001b[39m\u001b[38;5;28mself\u001b[39m\u001b[38;5;241m.\u001b[39m_data_container_id, name\u001b[38;5;241m=\u001b[39mname)\n",
            "File \u001b[0;32m/anaconda/envs/azureml_py38/lib/python3.8/site-packages/azureml/_restclient/metrics_client.py:314\u001b[0m, in \u001b[0;36mMetricsClient.get_all_metrics_v2\u001b[0;34m(self, name, run_ids, populate, artifact_client, data_container, after_timestamp, custom_headers)\u001b[0m\n\u001b[1;32m    310\u001b[0m \u001b[38;5;28;01mdef\u001b[39;00m \u001b[38;5;21mget_all_metrics_v2\u001b[39m(\u001b[38;5;28mself\u001b[39m, name\u001b[38;5;241m=\u001b[39m\u001b[38;5;28;01mNone\u001b[39;00m, run_ids\u001b[38;5;241m=\u001b[39m\u001b[38;5;28;01mNone\u001b[39;00m, populate\u001b[38;5;241m=\u001b[39m\u001b[38;5;28;01mFalse\u001b[39;00m, artifact_client\u001b[38;5;241m=\u001b[39m\u001b[38;5;28;01mNone\u001b[39;00m,\n\u001b[1;32m    311\u001b[0m                        data_container\u001b[38;5;241m=\u001b[39m\u001b[38;5;28;01mNone\u001b[39;00m, after_timestamp\u001b[38;5;241m=\u001b[39m\u001b[38;5;28;01mNone\u001b[39;00m, custom_headers\u001b[38;5;241m=\u001b[39m\u001b[38;5;28;01mNone\u001b[39;00m):\n\u001b[1;32m    312\u001b[0m     \u001b[38;5;66;03m# Compared to v1, the following are ignored; convert_to_object (default False), use_batch(default True),\u001b[39;00m\n\u001b[1;32m    313\u001b[0m     \u001b[38;5;66;03m# metric_types and merge_strategy_type, all are not exposed to the SDK users.\u001b[39;00m\n\u001b[0;32m--> 314\u001b[0m     \u001b[38;5;28;01mreturn\u001b[39;00m \u001b[38;5;28;43mself\u001b[39;49m\u001b[38;5;241;43m.\u001b[39;49m\u001b[43mget_metrics_for_run_ids_v2\u001b[49m\u001b[43m(\u001b[49m\u001b[43mname\u001b[49m\u001b[38;5;241;43m=\u001b[39;49m\u001b[43mname\u001b[49m\u001b[43m,\u001b[49m\u001b[43m \u001b[49m\u001b[43mrun_ids\u001b[49m\u001b[38;5;241;43m=\u001b[39;49m\u001b[43mrun_ids\u001b[49m\u001b[43m,\u001b[49m\u001b[43m \u001b[49m\u001b[43mstart_time\u001b[49m\u001b[38;5;241;43m=\u001b[39;49m\u001b[43mafter_timestamp\u001b[49m\u001b[43m,\u001b[49m\n\u001b[1;32m    315\u001b[0m \u001b[43m                                           \u001b[49m\u001b[43mpopulate\u001b[49m\u001b[38;5;241;43m=\u001b[39;49m\u001b[43mpopulate\u001b[49m\u001b[43m,\u001b[49m\u001b[43m \u001b[49m\u001b[43martifact_client\u001b[49m\u001b[38;5;241;43m=\u001b[39;49m\u001b[43martifact_client\u001b[49m\u001b[43m,\u001b[49m\n\u001b[1;32m    316\u001b[0m \u001b[43m                                           \u001b[49m\u001b[43mdata_container\u001b[49m\u001b[38;5;241;43m=\u001b[39;49m\u001b[43mdata_container\u001b[49m\u001b[43m,\u001b[49m\u001b[43m \u001b[49m\u001b[43mcustom_headers\u001b[49m\u001b[38;5;241;43m=\u001b[39;49m\u001b[43mcustom_headers\u001b[49m\u001b[43m)\u001b[49m\n",
            "File \u001b[0;32m/anaconda/envs/azureml_py38/lib/python3.8/site-packages/azureml/_restclient/metrics_client.py:300\u001b[0m, in \u001b[0;36mMetricsClient.get_metrics_for_run_ids_v2\u001b[0;34m(self, name, run_ids, start_time, end_time, populate, artifact_client, data_container, custom_headers)\u001b[0m\n\u001b[1;32m    298\u001b[0m all_run_ids \u001b[38;5;241m=\u001b[39m [\u001b[38;5;28mself\u001b[39m\u001b[38;5;241m.\u001b[39m_run_id] \u001b[38;5;28;01mif\u001b[39;00m run_ids \u001b[38;5;129;01mis\u001b[39;00m \u001b[38;5;28;01mNone\u001b[39;00m \u001b[38;5;28;01melse\u001b[39;00m run_ids\n\u001b[1;32m    299\u001b[0m \u001b[38;5;28;01mfor\u001b[39;00m run_id \u001b[38;5;129;01min\u001b[39;00m all_run_ids:\n\u001b[0;32m--> 300\u001b[0m     metrics \u001b[38;5;241m=\u001b[39m \u001b[38;5;28;43mself\u001b[39;49m\u001b[38;5;241;43m.\u001b[39;49m\u001b[43mget_metrics_for_run_v2\u001b[49m\u001b[43m(\u001b[49m\u001b[43mrun_id\u001b[49m\u001b[38;5;241;43m=\u001b[39;49m\u001b[43mrun_id\u001b[49m\u001b[43m,\u001b[49m\u001b[43m \u001b[49m\u001b[43mname\u001b[49m\u001b[38;5;241;43m=\u001b[39;49m\u001b[43mname\u001b[49m\u001b[43m,\u001b[49m\u001b[43m \u001b[49m\u001b[43mstart_time\u001b[49m\u001b[38;5;241;43m=\u001b[39;49m\u001b[43mstart_time\u001b[49m\u001b[43m,\u001b[49m\n\u001b[1;32m    301\u001b[0m \u001b[43m                                          \u001b[49m\u001b[43mend_time\u001b[49m\u001b[38;5;241;43m=\u001b[39;49m\u001b[43mend_time\u001b[49m\u001b[43m,\u001b[49m\u001b[43m \u001b[49m\u001b[43mpopulate\u001b[49m\u001b[38;5;241;43m=\u001b[39;49m\u001b[43mpopulate\u001b[49m\u001b[43m,\u001b[49m\n\u001b[1;32m    302\u001b[0m \u001b[43m                                          \u001b[49m\u001b[43martifact_client\u001b[49m\u001b[38;5;241;43m=\u001b[39;49m\u001b[43martifact_client\u001b[49m\u001b[43m,\u001b[49m\u001b[43m \u001b[49m\u001b[43mdata_container\u001b[49m\u001b[38;5;241;43m=\u001b[39;49m\u001b[43mdata_container\u001b[49m\u001b[43m,\u001b[49m\n\u001b[1;32m    303\u001b[0m \u001b[43m                                          \u001b[49m\u001b[43mcustom_headers\u001b[49m\u001b[38;5;241;43m=\u001b[39;49m\u001b[43mcustom_headers\u001b[49m\u001b[43m)\u001b[49m\n\u001b[1;32m    304\u001b[0m     \u001b[38;5;28;01mif\u001b[39;00m \u001b[38;5;28mlen\u001b[39m(metrics) \u001b[38;5;241m!=\u001b[39m \u001b[38;5;241m0\u001b[39m:\n\u001b[1;32m    305\u001b[0m         returned_metrics_for_runs[run_id] \u001b[38;5;241m=\u001b[39m metrics\n",
            "File \u001b[0;32m/anaconda/envs/azureml_py38/lib/python3.8/site-packages/azureml/_restclient/metrics_client.py:287\u001b[0m, in \u001b[0;36mMetricsClient.get_metrics_for_run_v2\u001b[0;34m(self, run_id, name, start_time, end_time, populate, artifact_client, data_container, custom_headers)\u001b[0m\n\u001b[1;32m    285\u001b[0m     \u001b[38;5;28;01mreturn\u001b[39;00m returned_metrics\n\u001b[1;32m    286\u001b[0m \u001b[38;5;28;01mfor\u001b[39;00m metric_name \u001b[38;5;129;01min\u001b[39;00m metric_names:\n\u001b[0;32m--> 287\u001b[0m     metric \u001b[38;5;241m=\u001b[39m \u001b[38;5;28;43mself\u001b[39;49m\u001b[38;5;241;43m.\u001b[39;49m\u001b[43mget_metric_for_run_v2\u001b[49m\u001b[43m(\u001b[49m\u001b[43mmetric_name\u001b[49m\u001b[43m,\u001b[49m\u001b[43m \u001b[49m\u001b[43mrun_id\u001b[49m\u001b[38;5;241;43m=\u001b[39;49m\u001b[43mrun_id\u001b[49m\u001b[43m,\u001b[49m\u001b[43m \u001b[49m\u001b[43mstart_time\u001b[49m\u001b[38;5;241;43m=\u001b[39;49m\u001b[43mstart_time\u001b[49m\u001b[43m,\u001b[49m\n\u001b[1;32m    288\u001b[0m \u001b[43m                                        \u001b[49m\u001b[43mend_time\u001b[49m\u001b[38;5;241;43m=\u001b[39;49m\u001b[43mend_time\u001b[49m\u001b[43m,\u001b[49m\u001b[43m \u001b[49m\u001b[43martifact_client\u001b[49m\u001b[38;5;241;43m=\u001b[39;49m\u001b[43martifact_client\u001b[49m\u001b[43m,\u001b[49m\n\u001b[1;32m    289\u001b[0m \u001b[43m                                        \u001b[49m\u001b[43mpopulate\u001b[49m\u001b[38;5;241;43m=\u001b[39;49m\u001b[43mpopulate\u001b[49m\u001b[43m,\u001b[49m\u001b[43m \u001b[49m\u001b[43mcustom_headers\u001b[49m\u001b[38;5;241;43m=\u001b[39;49m\u001b[43mcustom_headers\u001b[49m\u001b[43m)\u001b[49m\n\u001b[1;32m    290\u001b[0m     \u001b[38;5;28;01mif\u001b[39;00m metric \u001b[38;5;129;01mis\u001b[39;00m \u001b[38;5;129;01mnot\u001b[39;00m \u001b[38;5;28;01mNone\u001b[39;00m:\n\u001b[1;32m    291\u001b[0m         returned_metrics[metric_name] \u001b[38;5;241m=\u001b[39m metric\n",
            "File \u001b[0;32m/anaconda/envs/azureml_py38/lib/python3.8/site-packages/azureml/_restclient/metrics_client.py:268\u001b[0m, in \u001b[0;36mMetricsClient.get_metric_for_run_v2\u001b[0;34m(self, name, run_id, start_time, end_time, artifact_client, populate, custom_headers)\u001b[0m\n\u001b[1;32m    266\u001b[0m \u001b[38;5;28;01mif\u001b[39;00m metric_dto \u001b[38;5;129;01mis\u001b[39;00m \u001b[38;5;28;01mNone\u001b[39;00m \u001b[38;5;129;01mor\u001b[39;00m \u001b[38;5;28mlen\u001b[39m(metric_dto\u001b[38;5;241m.\u001b[39mvalue) \u001b[38;5;241m==\u001b[39m \u001b[38;5;241m0\u001b[39m:\n\u001b[1;32m    267\u001b[0m     \u001b[38;5;28;01mreturn\u001b[39;00m \u001b[38;5;28;01mNone\u001b[39;00m\n\u001b[0;32m--> 268\u001b[0m \u001b[38;5;28;01mreturn\u001b[39;00m \u001b[43mMetricsClient\u001b[49m\u001b[38;5;241;43m.\u001b[39;49m\u001b[43mdto_v2_to_metric_cells\u001b[49m\u001b[43m(\u001b[49m\u001b[43mmetric_dto\u001b[49m\u001b[43m,\u001b[49m\u001b[43m \u001b[49m\u001b[43martifact_client\u001b[49m\u001b[43m,\u001b[49m\u001b[43m \u001b[49m\u001b[43mpopulate\u001b[49m\u001b[43m)\u001b[49m\n",
            "File \u001b[0;32m/anaconda/envs/azureml_py38/lib/python3.8/site-packages/azureml/_restclient/metrics_client.py:120\u001b[0m, in \u001b[0;36mMetricsClient.dto_v2_to_metric_cells\u001b[0;34m(cls, metric_dto, artifact_client, populate)\u001b[0m\n\u001b[1;32m    118\u001b[0m metric_type \u001b[38;5;241m=\u001b[39m metric_dto\u001b[38;5;241m.\u001b[39mproperties\u001b[38;5;241m.\u001b[39mux_metric_type\n\u001b[1;32m    119\u001b[0m \u001b[38;5;28;01mif\u001b[39;00m metric_type \u001b[38;5;129;01min\u001b[39;00m INLINE_METRICS:\n\u001b[0;32m--> 120\u001b[0m     \u001b[38;5;28;01mreturn\u001b[39;00m \u001b[43mInlineMetric\u001b[49m\u001b[38;5;241;43m.\u001b[39;49m\u001b[43mget_cells_from_metric_v2_dto\u001b[49m\u001b[43m(\u001b[49m\u001b[43mmetric_dto\u001b[49m\u001b[43m)\u001b[49m\n\u001b[1;32m    122\u001b[0m \u001b[38;5;28;01mif\u001b[39;00m populate \u001b[38;5;129;01mand\u001b[39;00m artifact_client \u001b[38;5;129;01mis\u001b[39;00m \u001b[38;5;28;01mNone\u001b[39;00m:\n\u001b[1;32m    123\u001b[0m     \u001b[38;5;28;01mraise\u001b[39;00m UserErrorException(\u001b[38;5;124m'\u001b[39m\u001b[38;5;124mCannot use populate with no artifact_client provided\u001b[39m\u001b[38;5;124m'\u001b[39m)\n",
            "File \u001b[0;32m/anaconda/envs/azureml_py38/lib/python3.8/site-packages/azureml/core/_metrics.py:419\u001b[0m, in \u001b[0;36mInlineMetric.get_cells_from_metric_v2_dto\u001b[0;34m(metric_dto)\u001b[0m\n\u001b[1;32m    417\u001b[0m values \u001b[38;5;241m=\u001b[39m []\n\u001b[1;32m    418\u001b[0m \u001b[38;5;28;01mfor\u001b[39;00m metric_value \u001b[38;5;129;01min\u001b[39;00m metric_dto\u001b[38;5;241m.\u001b[39mvalue:\n\u001b[0;32m--> 419\u001b[0m     cell \u001b[38;5;241m=\u001b[39m \u001b[43mInlineMetric\u001b[49m\u001b[38;5;241;43m.\u001b[39;49m\u001b[43mget_cell_v2\u001b[49m\u001b[43m(\u001b[49m\u001b[43mcolumns\u001b[49m\u001b[43m,\u001b[49m\u001b[43m \u001b[49m\u001b[43mmetric_value\u001b[49m\u001b[43m,\u001b[49m\u001b[43m \u001b[49m\u001b[43mmetric_dto\u001b[49m\u001b[38;5;241;43m.\u001b[39;49m\u001b[43mname\u001b[49m\u001b[43m)\u001b[49m\n\u001b[1;32m    420\u001b[0m     values\u001b[38;5;241m.\u001b[39mappend(cell)\n\u001b[1;32m    421\u001b[0m \u001b[38;5;28;01mif\u001b[39;00m \u001b[38;5;28mlen\u001b[39m(values) \u001b[38;5;241m==\u001b[39m \u001b[38;5;241m1\u001b[39m:\n",
            "File \u001b[0;32m/anaconda/envs/azureml_py38/lib/python3.8/site-packages/azureml/core/_metrics.py:428\u001b[0m, in \u001b[0;36mInlineMetric.get_cell_v2\u001b[0;34m(columns, metric_v2_value, column_name)\u001b[0m\n\u001b[1;32m    425\u001b[0m \u001b[38;5;129m@staticmethod\u001b[39m\n\u001b[1;32m    426\u001b[0m \u001b[38;5;28;01mdef\u001b[39;00m \u001b[38;5;21mget_cell_v2\u001b[39m(columns, metric_v2_value, column_name):\n\u001b[1;32m    427\u001b[0m     \u001b[38;5;28;01mif\u001b[39;00m column_name \u001b[38;5;129;01mnot\u001b[39;00m \u001b[38;5;129;01min\u001b[39;00m columns\u001b[38;5;241m.\u001b[39mkeys() \u001b[38;5;129;01mor\u001b[39;00m column_name \u001b[38;5;129;01mnot\u001b[39;00m \u001b[38;5;129;01min\u001b[39;00m metric_v2_value\u001b[38;5;241m.\u001b[39mdata\u001b[38;5;241m.\u001b[39mkeys():\n\u001b[0;32m--> 428\u001b[0m         \u001b[38;5;28;01mraise\u001b[39;00m \u001b[38;5;167;01mException\u001b[39;00m(\u001b[38;5;124m\"\u001b[39m\u001b[38;5;124mMalformed metric value\u001b[39m\u001b[38;5;124m\"\u001b[39m)\n\u001b[1;32m    429\u001b[0m     cell_type \u001b[38;5;241m=\u001b[39m \u001b[38;5;28mstr\u001b[39m\u001b[38;5;241m.\u001b[39mlower(columns[column_name])\n\u001b[1;32m    430\u001b[0m     value \u001b[38;5;241m=\u001b[39m metric_v2_value\u001b[38;5;241m.\u001b[39mdata[column_name]\n",
            "\u001b[0;31mException\u001b[0m: Malformed metric value"
          ]
        }
      ],
      "execution_count": 7,
      "metadata": {
        "jupyter": {
          "source_hidden": false,
          "outputs_hidden": false
        },
        "nteract": {
          "transient": {
            "deleting": false
          }
        },
        "gather": {
          "logged": 1667539292826
        }
      }
    },
    {
      "cell_type": "markdown",
      "source": [
        "## Best run model을 저장"
      ],
      "metadata": {
        "nteract": {
          "transient": {
            "deleting": false
          }
        }
      }
    },
    {
      "cell_type": "code",
      "source": [
        "from azureml.core import Run\r\n",
        "# best run의 model 파일을 가져옴\r\n",
        "best_run = Run(experiment= experiment, run_id= minimum_rmse_runid)\r\n",
        "\r\n",
        "best_run.download_file(name= str(best_run.get_file_names()[0] ))"
      ],
      "outputs": [],
      "execution_count": null,
      "metadata": {
        "jupyter": {
          "source_hidden": false,
          "outputs_hidden": false
        },
        "nteract": {
          "transient": {
            "deleting": false
          }
        },
        "gather": {
          "logged": 1667539144843
        }
      }
    },
    {
      "cell_type": "markdown",
      "source": [
        "## CSV파일로 저장"
      ],
      "metadata": {
        "nteract": {
          "transient": {
            "deleting": false
          }
        }
      }
    },
    {
      "cell_type": "code",
      "source": [
        "import numpy as np\r\n",
        "from azureml.core import Dataset\r\n",
        "\r\n",
        "np.savetxt('features.csv', X_train, delimiter=',')\r\n",
        "np.savetxt('labels.csv', y_train, delimiter=',')\r\n",
        "\r\n",
        "datastore = ws.get_default_datastore()\r\n",
        "datastore.upload_files(files=['./features.csv', './labels.csv'],\r\n",
        "                       target_path='diabetes-experiment/',\r\n",
        "                       overwrite=True)\r\n",
        "\r\n",
        "input_dataset = Dataset.Tabular.from_delimited_files(path=[(datastore, 'diabetes-experiment/features.csv')])\r\n",
        "output_dataset = Dataset.Tabular.from_delimited_files(path=[(datastore, 'diabetes-experiment/labels.csv')])"
      ],
      "outputs": [],
      "execution_count": null,
      "metadata": {
        "jupyter": {
          "source_hidden": false,
          "outputs_hidden": false
        },
        "nteract": {
          "transient": {
            "deleting": false
          }
        },
        "gather": {
          "logged": 1667539144860
        }
      }
    },
    {
      "cell_type": "markdown",
      "source": [
        "## Model 등록 & 사용"
      ],
      "metadata": {
        "nteract": {
          "transient": {
            "deleting": false
          }
        }
      }
    },
    {
      "cell_type": "code",
      "source": [
        "import sklearn\r\n",
        "from azureml.core import Model\r\n",
        "from azureml.core.resource_configuration import ResourceConfiguration\r\n",
        "\r\n",
        "model = Model.register(workspace=ws,\r\n",
        "                       model_name='diabetes-experiment-model',\r\n",
        "                       model_path=f\"./{str(best_run.get_file_names()[0])}\",\r\n",
        "                       model_framework=Model.Framework.SCIKITLEARN,  \r\n",
        "                       model_framework_version=sklearn.__version__,  \r\n",
        "                       sample_input_dataset=input_dataset,\r\n",
        "                       sample_output_dataset=output_dataset,\r\n",
        "                       resource_configuration=ResourceConfiguration(cpu=1, memory_in_gb=0.5),\r\n",
        "                       description='Ridge regression model to predict diabetes progression.',\r\n",
        "                       tags={'area': 'diabetes', 'type': 'regression'})\r\n",
        "\r\n",
        "print('Name:', model.name)\r\n",
        "print('Version:', model.version)"
      ],
      "outputs": [],
      "execution_count": null,
      "metadata": {
        "jupyter": {
          "source_hidden": false,
          "outputs_hidden": false
        },
        "nteract": {
          "transient": {
            "deleting": false
          }
        },
        "gather": {
          "logged": 1667539144872
        }
      }
    },
    {
      "cell_type": "markdown",
      "source": [
        "### Deploy (배포)"
      ],
      "metadata": {
        "nteract": {
          "transient": {
            "deleting": false
          }
        }
      }
    },
    {
      "cell_type": "code",
      "source": [
        "service_name = 'diabetes-service'\r\n",
        "\r\n",
        "service = Model.deploy(ws, service_name, [model], overwrite= True)\r\n",
        "service.wait_for_deployment(show_output= True)"
      ],
      "outputs": [],
      "execution_count": null,
      "metadata": {
        "jupyter": {
          "source_hidden": false,
          "outputs_hidden": false
        },
        "nteract": {
          "transient": {
            "deleting": false
          }
        },
        "gather": {
          "logged": 1667539144884
        }
      }
    },
    {
      "cell_type": "markdown",
      "source": [
        "### Test (테스트) & Service"
      ],
      "metadata": {
        "nteract": {
          "transient": {
            "deleting": false
          }
        }
      }
    },
    {
      "cell_type": "code",
      "source": [
        "import json \r\n",
        "\r\n",
        "input_payload = json.dumps({     \r\n",
        "    'data': X_test.values.tolist(),     \r\n",
        "    'method': 'predict' \r\n",
        "})\r\n",
        "\r\n",
        "output = service.run(input_payload) \r\n",
        "\r\n",
        "print(output)"
      ],
      "outputs": [],
      "execution_count": null,
      "metadata": {
        "jupyter": {
          "source_hidden": false,
          "outputs_hidden": false
        },
        "nteract": {
          "transient": {
            "deleting": false
          }
        }
      }
    }
  ],
  "metadata": {
    "kernelspec": {
      "name": "python38-azureml",
      "language": "python",
      "display_name": "Python 3.8 - AzureML"
    },
    "language_info": {
      "name": "python",
      "version": "3.8.5",
      "mimetype": "text/x-python",
      "codemirror_mode": {
        "name": "ipython",
        "version": 3
      },
      "pygments_lexer": "ipython3",
      "nbconvert_exporter": "python",
      "file_extension": ".py"
    },
    "kernel_info": {
      "name": "python38-azureml"
    },
    "nteract": {
      "version": "nteract-front-end@1.0.0"
    },
    "microsoft": {
      "host": {
        "AzureML": {
          "notebookHasBeenCompleted": true
        }
      }
    }
  },
  "nbformat": 4,
  "nbformat_minor": 2
}
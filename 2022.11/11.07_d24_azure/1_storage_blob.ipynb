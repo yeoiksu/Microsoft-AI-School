{
 "cells": [
  {
   "cell_type": "markdown",
   "id": "35561739",
   "metadata": {},
   "source": [
    "## 1. Storage Blob"
   ]
  },
  {
   "cell_type": "code",
   "execution_count": 1,
   "id": "9ce359a8",
   "metadata": {},
   "outputs": [],
   "source": [
    "# 필요한 패키지\n",
    "import os, uuid\n",
    "from azure.storage.blob import BlobServiceClient, BlobClient, ContainerClient"
   ]
  },
  {
   "cell_type": "markdown",
   "id": "e620d489",
   "metadata": {},
   "source": [
    "### Blob 서비스에 연결"
   ]
  },
  {
   "cell_type": "code",
   "execution_count": 2,
   "id": "328328af",
   "metadata": {},
   "outputs": [],
   "source": [
    "# Azure에서 액세스키 >> key1 >> 연결문자열 값 가져오기\n",
    "connect_string = 'xxxxxxxxxxxxxxxx' # key값\n",
    "\n",
    "blob_service_client = BlobServiceClient.from_connection_string(connect_string)"
   ]
  },
  {
   "cell_type": "markdown",
   "id": "58cab6b9",
   "metadata": {},
   "source": [
    "### Container 생성"
   ]
  },
  {
   "cell_type": "code",
   "execution_count": 3,
   "id": "d19644d0",
   "metadata": {
    "scrolled": false
   },
   "outputs": [],
   "source": [
    "container_name = str(uuid.uuid4())\n",
    "# print(container_name)\n",
    "\n",
    "## create_container : 컨테이너 생성\n",
    "container_client = blob_service_client.create_container(container_name)"
   ]
  },
  {
   "cell_type": "markdown",
   "id": "8bdbfb32",
   "metadata": {},
   "source": [
    "### 데이터 업로드"
   ]
  },
  {
   "cell_type": "code",
   "execution_count": 4,
   "id": "ee54b8d6",
   "metadata": {},
   "outputs": [],
   "source": [
    "local_path = './data'\n",
    "os.mkdir(local_path)\n",
    "\n",
    "local_file_name = str(uuid.uuid4()) + '.txt'\n",
    "upload_file_path = os.path.join(local_path, local_file_name)"
   ]
  },
  {
   "cell_type": "markdown",
   "id": "82d23725",
   "metadata": {},
   "source": [
    "### 업로드 할 파일 준비"
   ]
  },
  {
   "cell_type": "code",
   "execution_count": 5,
   "id": "b837df0a",
   "metadata": {},
   "outputs": [],
   "source": [
    "# 파일 저장\n",
    "file = open(file= upload_file_path, mode='w')\n",
    "file.write('Hello Azure Storage')\n",
    "file.close()\n",
    "\n",
    "blob_client = blob_service_client.get_blob_client(container= container_name,\n",
    "                                                  blob= local_file_name)\n",
    "\n",
    "# binary형태로 text로 읽어서 data란 이름으로 가져옴\n",
    "with open(file= upload_file_path, mode= 'rb') as data:\n",
    "    blob_client.upload_blob(data)"
   ]
  },
  {
   "cell_type": "markdown",
   "id": "f2e3ae4b",
   "metadata": {},
   "source": [
    "### 파일의 목록 확인"
   ]
  },
  {
   "cell_type": "code",
   "execution_count": 6,
   "id": "d48631a5",
   "metadata": {},
   "outputs": [
    {
     "name": "stdout",
     "output_type": "stream",
     "text": [
      "blob.name\n"
     ]
    }
   ],
   "source": [
    "blob_list = container_client.list_blobs()\n",
    "for blob in blob_list:\n",
    "#     print('\\t' + blob.name)\n",
    "    print('blob.name')"
   ]
  },
  {
   "cell_type": "markdown",
   "id": "d8e95bd0",
   "metadata": {},
   "source": [
    "### 업로드된 파일의 다운로드"
   ]
  },
  {
   "cell_type": "code",
   "execution_count": 7,
   "id": "f99f7f67",
   "metadata": {},
   "outputs": [],
   "source": [
    "download_file_path = os.path.join(local_path, \n",
    "                                  str.replace(local_file_name,'.txt','DOWNLOAD.txt'))\n",
    "container_client = blob_service_client.get_container_client(container= container_name) \n",
    "\n",
    "with open(file=download_file_path, mode='wb') as download_file:\n",
    "    download_file.write(container_client.download_blob(blob.name).readall())"
   ]
  },
  {
   "cell_type": "markdown",
   "id": "1f4f798e",
   "metadata": {},
   "source": [
    "### 실습한 자원의 정리 (Delete)"
   ]
  },
  {
   "cell_type": "code",
   "execution_count": 8,
   "id": "4d7677d1",
   "metadata": {},
   "outputs": [
    {
     "name": "stdout",
     "output_type": "stream",
     "text": [
      "Press the Enter key to begin clean up\n",
      "\n",
      "Deleting blob container...\n",
      "Deleting the local source and downloaded files...\n",
      "Done\n"
     ]
    }
   ],
   "source": [
    "print('Press the Enter key to begin clean up')\n",
    "input()\n",
    "\n",
    "print('Deleting blob container...')\n",
    "container_client.delete_container()\n",
    "\n",
    "print('Deleting the local source and downloaded files...')\n",
    "os.remove(upload_file_path)\n",
    "os.remove(download_file_path)\n",
    "os.rmdir(local_path)\n",
    "\n",
    "print('Done')"
   ]
  }
 ],
 "metadata": {
  "kernelspec": {
   "display_name": "Python 3 (ipykernel)",
   "language": "python",
   "name": "python3"
  },
  "language_info": {
   "codemirror_mode": {
    "name": "ipython",
    "version": 3
   },
   "file_extension": ".py",
   "mimetype": "text/x-python",
   "name": "python",
   "nbconvert_exporter": "python",
   "pygments_lexer": "ipython3",
   "version": "3.9.12"
  }
 },
 "nbformat": 4,
 "nbformat_minor": 5
}

{
 "cells": [
  {
   "cell_type": "markdown",
   "id": "84a8ab7f",
   "metadata": {},
   "source": [
    "## 1. 확률\n",
    "### 표본공간(S)\n",
    "- 사건이 일어날 확률\n",
    "- 고전적 확률 정의\n",
    "      실험결과가 N 가지 일 때 일어난 사건A가 m번 일어났으면 P(A) = m/N\n",
    "      각 실험 가능성은 모두 같을 때\n",
    "      (예시 주사위 {1,2,3,4,5,6} 1/6 1/6 1/6 1/6)\n",
    "- 경험적 정의\n",
    "      반복 횟수를 N이라 했을 때 무한번 반복했을 때 발생한는 A 횟수 m\n",
    "      P(A) = lim m/N\n",
    "- 공리적 정의\n",
    "      콜모코로프 공리적 정의 세가지\n",
    "      0 <= P(A) <= 1\n",
    "      P(S) = 1      \n",
    "      실험이 표본공간의 부분집합 이면서 다른 사건과 교집합이 없을 때 각 실험의 확율을 더한 값과 합집합의 확률과 같다.\n",
    "      예를 들면 동전 두개 던지기를 합니다.\n",
    "      앞면 : H, 뒷면, T\n",
    "      표본공간 = S{HH, HT, TT, TH}\n",
    "      앞이 안 나오는 사건(A{TT}) 과 뒷면이 안 나올 사건(B{HH})면 A와 B는 교집합이 없습니다. \n",
    "      P(AUB) = P({TT,HH}) = P({TT}) + P({HH})\n",
    "      P(AUB) = P(A) + P(B)"
   ]
  },
  {
   "cell_type": "markdown",
   "id": "dd170aee",
   "metadata": {},
   "source": [
    "## 2. 확률의 성질\n",
    "- 공집합의 확율 0\n",
    "- 여집합의 확률\n",
    "      실험 A의 여집합은 1-P(A)\n",
    "\n",
    "- 포함-배제 원리\n",
    "      P(AUB) = P(A) + P(B) - P(AnB)\n",
    "\n",
    "- 각 사건이 배반사상(event)일 경우\n",
    "      P(A1 U A2 U A3 .....U An) = P(A1)+P(A2)....P(An)\n",
    "      A가 B의 부분집합일 때 P(A) <= P(B)"
   ]
  },
  {
   "cell_type": "markdown",
   "id": "1e1c3f91",
   "metadata": {},
   "source": [
    "## 3. 조건부 확률\n",
    "- 어떤 사건 B가 일어날 때(P(B) > 0) 사건 A가 일어날 확률\n",
    "\n",
    "$$P(A|B) = \\frac{P(A\\cap B)}{P(B)}$$\n",
    "\n",
    "- 사건 A가 발생했을 때 사건 B가 발생할 확률\n",
    "$$P(B|A) = \\frac{P(A\\cap B)}{P(A)}$$\n",
    "\n",
    "$$P(A\\cap B) = P(A|B)P(B) = P(B|A)P(A)$$\n",
    "\n",
    "- 독립사건\n",
    "$$P(A|B) = P(A)$$\n",
    "$$P(B|A) = B(B)$$"
   ]
  },
  {
   "cell_type": "markdown",
   "id": "8aedfa76",
   "metadata": {},
   "source": [
    "## 4. 베이즈 정리\n",
    "\n",
    "- 분할사건\n",
    "      사건 K개가 일어났을 때 A1 ... AK 서로 다 교집합이 없는경우 분할 사건\n",
    "      사건 K개를 모두 합집합했을 때 S가 되는 경우\n",
    "\n",
    "$$ B = (B \\cap {A_1}) U ⋅⋅⋅ U (B \\cap {A_k}) $$\n",
    "$$ P(B) = P(B \\cap {A_1}) + ⋅ ⋅ ⋅ + P(B ∩ {A_k}) $$\n",
    "\n",
    "$$P({A_i}|B) = \\frac{P(B|{A_i})P({A_i})}{P(B)} = \\frac {P(B|{A_i})P({B_i})}{P(B|{A_1})P({A_1}) + P(B|{A_2})P({A_2})+ ⋅ ⋅ ⋅+ P(B|{A_k})P({A_k})}$$\n",
    "\n",
    "사전 확률을 사후확률로 추정하는 정리"
   ]
  },
  {
   "cell_type": "markdown",
   "id": "93f8d466",
   "metadata": {},
   "source": [
    "## 5. 확률 변수와 확률 분포\n",
    "- 확률변수\n",
    "      표본공간에서 정의된 실수값 함수\n",
    "      확률 변수들의 통계량 찾고 \n",
    "      확률 변수를 모수를 추정\n",
    "- 확률 분포\n",
    "      확률 변수 값과 확률을 대응시키는 표, 그래프, 함수\n",
    "- 이산확률 변수\n",
    "      countably infinite 변수\n",
    "      \n",
    "  - 확률 질량 함수\n",
    "  \n",
    "  $P(a <= X <= b) =  𝚺{f(x)$\n",
    " \n",
    "- 연속확률 변수"
   ]
  },
  {
   "cell_type": "markdown",
   "id": "e0e18882",
   "metadata": {},
   "source": [
    "## 6. 정규 분포\n",
    "- 정의\n",
    "      확률 변수 X가 평균이 m이고 분산이 r인 정규분포는 X ~ N(m, r)\n",
    "- 특징\n",
    "      모든 정규분포는 좌우 대칭\n",
    "      정규곡선의 위치는 평균에 의해서 결정된다.\n",
    "      표본공간에 따라 평균과 표준편차는 다르지만 평균으로부터 k배 표준편차 이내에 확률 변수 X가 존재할 확율을 동일\n",
    "\n",
    "\n"
   ]
  },
  {
   "cell_type": "markdown",
   "id": "0a42dc27",
   "metadata": {},
   "source": [
    "## 7. 기댓값\n",
    "- 모집단의 분포의 모양을 표현할 수 있는 특성값\n",
    "- 이론적으로 확률 변수의 확률밀도 함수를 알면 평균값 확률 변수의 기댓값\n",
    "- 이산확률 변수의 기댓값\n",
    "\n",
    "$$E[X] = Σ{x_i^2}p({x_i})$$\n",
    "\n",
    "- 기대값의 성질"
   ]
  },
  {
   "cell_type": "markdown",
   "id": "32ad371f",
   "metadata": {},
   "source": [
    "## 8. 분산과 표준편차\n",
    "\n",
    "- 분산 확률분포함수의 모양을 설명할 수 있다.\n",
    "- 분산은 확률분포함수에 확률이 모여있는지 퍼져있는지를 알 수 있는 수치적 파라미터\n",
    "\n",
    "$${σ^2} = Var[X] = E[{(X-\\mu)^2}]$$\n",
    "\n",
    "- 성질\n",
    "      Var[X] >= 0\n",
    "      Var[cX] = c^2Var[X]\n",
    "\n",
    "      Var[X+Y] = Var[X] + Var[Y] + 2E[(X-m_x)(Y-m_y)]\n",
    "\n",
    "\n",
    "\n",
    "- 표본평균의 분산과 표본평균ㅇ분산의 관계\n",
    "$$E[X] = E[\\bar{X}]$$\n",
    "$$Var[\\bar{X}] = \\frac{1}{N}Var[X]$$"
   ]
  },
  {
   "cell_type": "code",
   "execution_count": null,
   "id": "4b7e91b3",
   "metadata": {},
   "outputs": [],
   "source": []
  }
 ],
 "metadata": {
  "kernelspec": {
   "display_name": "Python 3 (ipykernel)",
   "language": "python",
   "name": "python3"
  },
  "language_info": {
   "codemirror_mode": {
    "name": "ipython",
    "version": 3
   },
   "file_extension": ".py",
   "mimetype": "text/x-python",
   "name": "python",
   "nbconvert_exporter": "python",
   "pygments_lexer": "ipython3",
   "version": "3.9.12"
  }
 },
 "nbformat": 4,
 "nbformat_minor": 5
}

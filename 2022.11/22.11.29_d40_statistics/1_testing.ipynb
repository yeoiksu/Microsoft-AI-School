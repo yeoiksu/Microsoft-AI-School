{
 "cells": [
  {
   "cell_type": "markdown",
   "metadata": {
    "id": "ia7icBYxss3a"
   },
   "source": [
    "# 검정(Testing)\n",
    "\n",
    "어떤 가설이 맞는지 아닌지 확인하는 작업   \n",
    "어떤 확률 분포가 있을 때 어떤 가설을 H라 하고 이를 증명하는 것이 통계적 가설검정\n",
    "\n",
    "## 가설\n",
    "### 귀무가설\n",
    "      확률분포의 모수에 대한 가설\n",
    "      변화가 없다.\n",
    "      예를 들어 귀무가설 정규분포의 모수가 0 예측 -> 실제 모수값이 0인가?\n",
    "      신약의 효과가 없다.\n",
    "$$H_0:θ = θ_0$$\n",
    "### 대립가설\n",
    "      어떤 것과 차이가 난다.\n",
    "      효과가 있다.\n",
    "      귀무가설이 거짓이라면 대안적으로 참이 되는 가설\n",
    "      예를 들면 신약의 효과 있다.\n",
    "      정규분포의 평균이 μ가 아니다.\n",
    "$$H_0:θ = θ_0,\\quad H_a:θ \\neq θ_0$$"
   ]
  },
  {
   "cell_type": "markdown",
   "metadata": {
    "id": "VAbMZ3kvucge"
   },
   "source": [
    "## 검정 통계량\n",
    "어떤 가설을 채택 혹은 기각을 하기 위해 기준이 되는 값\n",
    "$$t=f(x1,x2,⋯,x_N)$$\n",
    "\n",
    "### 베르누이 분포 확률 변수\n",
    "$$t = Σx~Bin(t;N,μ)$$\n",
    "\n",
    "### 분산 σ^2 값이 정해지고 알고 있는 정규분포 확률 변수\n",
    "\n",
    "$$z = \\frac{\\bar{x}-μ}{\\frac{s}{\\sqrt{N}}}$$\n"
   ]
  },
  {
   "cell_type": "markdown",
   "metadata": {
    "id": "7ehJCXR0x0oi"
   },
   "source": [
    "## 유의 확률\n",
    "### p-value\n",
    "표본 데이터가 해당 확률분포에서 나오기 쉬운 값인지 아닌지를 알 수 있는 수치   \n",
    "표본 추출하고, 그 표본으로 부터 얻은 정보를 기초로 해서 귀무가설이 참인지 거짓인지 판정(오류가 날 가능성),귀무가설이 참이라고 가정했을 때 표본으로 얻어지는 통계치가 나타날 확률을 계산\n",
    "\n",
    "이 확률 값이 p-value라고 한다."
   ]
  },
  {
   "cell_type": "code",
   "execution_count": 1,
   "metadata": {
    "colab": {
     "base_uri": "https://localhost:8080/",
     "height": 302
    },
    "id": "HJl1eVBkzAJK",
    "outputId": "965d7f75-5f46-4760-8066-502b429fde70"
   },
   "outputs": [
    {
     "data": {
      "image/png": "[encoded data removed]",
      "text/plain": [
       "<Figure size 432x288 with 2 Axes>"
      ]
     },
     "metadata": {
      "needs_background": "light"
     },
     "output_type": "display_data"
    }
   ],
   "source": [
    "# !pip install koreanize-matplotlib\n",
    "import koreanize_matplotlib\n",
    "import scipy as sp\n",
    "import scipy.stats\n",
    "import matplotlib.pyplot as plt\n",
    "import warnings\n",
    "import numpy as np\n",
    "\n",
    "warnings.filterwarnings('ignore')\n",
    "xx1 = np.linspace(-4,4,100)\n",
    "\n",
    "plt.subplot(121)\n",
    "plt.grid()\n",
    "plt.title('가능성이 높은 검정통계량')\n",
    "plt.plot(xx1, scipy.stats.norm().pdf(xx1))\n",
    "plt.plot(0.5, 0, 'ro')\n",
    "plt.annotate('실제 검정 통계량', xy=(0.5,0.01),xytext=(0.85,0.1), arrowprops={'facecolor':'black'})\n",
    "\n",
    "plt.subplot(122)\n",
    "plt.title('가능성이 높은 검정통계량')\n",
    "plt.plot(xx1, scipy.stats.norm().pdf(xx1))\n",
    "plt.plot(2.2, 0, 'ro')\n",
    "plt.annotate('실제 검정 통계량', xy=(2.2,0.01),xytext=(0.85,0.1), arrowprops={'facecolor':'black'})\n",
    "\n",
    "plt.suptitle('검정통계량 분포와 실제 검정통계량의 값')\n",
    "plt.tight_layout()\n",
    "plt.grid()\n",
    "plt.show()"
   ]
  },
  {
   "cell_type": "markdown",
   "metadata": {
    "id": "9veX1VySzich"
   },
   "source": [
    "### 유의 수준\n",
    "유의 수준 유의 확율(알파)이 유의수준을 기준으로 귀무가설 채택 여부를 결정\n",
    "\n",
    "유의 수준이 유의 확률보다 작으면 귀무가설을 기각하고, 대립가설을 채택\n"
   ]
  },
  {
   "cell_type": "markdown",
   "metadata": {
    "id": "0-q0beKe1yu0"
   },
   "source": [
    "### 검정 방법\n",
    "\n",
    "1. 데이터가 어떤 확률분포를 가지는 확률 변수라 가정\n",
    "2. 해당하는 확률분포의 모수가 특정한 값을 가진다고 가정\n",
    "3. 검정 통계량을 계산하는 식에 대입한 결과에 따라 검정통계량을 구함\n",
    "4. 귀무가설이 어떤 유의 확율을 가지고 있는지 확인\n",
    "5. 미리 정해둔 유의 수준보다 작은지 큰지 확인\n",
    "6. 유의확률이 유의수준보다 크면 귀무가설을 채택, 작으면 대립가설 채택\n"
   ]
  },
  {
   "cell_type": "markdown",
   "metadata": {
    "id": "jYLeEXIj2wtk"
   },
   "source": [
    "### 이항검정\n",
    "이항분포를 이용해 베르누이 확률변수의 모수 μ(1이 나올 확률)가 특정값인지에 대한 귀무가설 검정\n"
   ]
  },
  {
   "cell_type": "code",
   "execution_count": 2,
   "metadata": {
    "colab": {
     "base_uri": "https://localhost:8080/"
    },
    "id": "CRxMNuxU3FlU",
    "outputId": "ab04c4d1-8123-496d-afe4-4844e1044497"
   },
   "outputs": [
    {
     "data": {
      "text/plain": [
       "7"
      ]
     },
     "execution_count": 2,
     "metadata": {},
     "output_type": "execute_result"
    }
   ],
   "source": [
    "N = 10\n",
    "mu_0 = 0.5\n",
    "np.random.seed(0)\n",
    "x = scipy.stats.bernoulli(mu_0).rvs(N)\n",
    "n = np.count_nonzero(x)\n",
    "n"
   ]
  },
  {
   "cell_type": "code",
   "execution_count": 3,
   "metadata": {
    "colab": {
     "base_uri": "https://localhost:8080/"
    },
    "id": "hOBryZ213Wkp",
    "outputId": "c58500df-1547-4522-fd8b-00ae3a5af55a"
   },
   "outputs": [
    {
     "data": {
      "text/plain": [
       "0.34375"
      ]
     },
     "execution_count": 3,
     "metadata": {},
     "output_type": "execute_result"
    }
   ],
   "source": [
    "## 유의 수준 0.05, 0.01\n",
    "scipy.stats.binom_test(n, N, 0.5)"
   ]
  },
  {
   "cell_type": "code",
   "execution_count": 4,
   "metadata": {
    "colab": {
     "base_uri": "https://localhost:8080/"
    },
    "id": "LqFCr4Ny3sUt",
    "outputId": "347bc545-07ca-4d68-db82-1abe2a99e319"
   },
   "outputs": [
    {
     "data": {
      "text/plain": [
       "49"
      ]
     },
     "execution_count": 4,
     "metadata": {},
     "output_type": "execute_result"
    }
   ],
   "source": [
    "# 데이터의 개수가 100개 일 때\n",
    "N =100\n",
    "mu_0 = 0.5\n",
    "np.random.seed(0)\n",
    "x = scipy.stats.bernoulli(mu_0).rvs(N)\n",
    "n = np.count_nonzero(x)\n",
    "n"
   ]
  },
  {
   "cell_type": "code",
   "execution_count": 5,
   "metadata": {
    "colab": {
     "base_uri": "https://localhost:8080/"
    },
    "id": "Lje7RvLL7lnh",
    "outputId": "ec390d6e-3225-4a4d-8356-a8a5ae9df9b7"
   },
   "outputs": [
    {
     "data": {
      "text/plain": [
       "0.9204107626128211"
      ]
     },
     "execution_count": 5,
     "metadata": {},
     "output_type": "execute_result"
    }
   ],
   "source": [
    "sp.stats.binom_test(n, N, 0.5)\n",
    "# 유의 확률이 0.92로 높은 값을 가지고 있으므로 귀무가설을 기각할 수 없다.\n",
    "# 따라서 u가 0.5다."
   ]
  },
  {
   "cell_type": "code",
   "execution_count": 6,
   "metadata": {
    "colab": {
     "base_uri": "https://localhost:8080/"
    },
    "id": "g4_lNs_h7sU2",
    "outputId": "f7f71b27-22ab-42b4-aa12-cc00720b35ec"
   },
   "outputs": [
    {
     "data": {
      "text/plain": [
       "31"
      ]
     },
     "execution_count": 6,
     "metadata": {},
     "output_type": "execute_result"
    }
   ],
   "source": [
    "N = 100\n",
    "mu_0 = 0.35\n",
    "np.random.seed(0)\n",
    "x = sp.stats.bernoulli(mu_0).rvs(N)\n",
    "n = np.count_nonzero(x)\n",
    "n"
   ]
  },
  {
   "cell_type": "code",
   "execution_count": 7,
   "metadata": {
    "colab": {
     "base_uri": "https://localhost:8080/"
    },
    "id": "2zDQlvu98SRR",
    "outputId": "90abbb1f-dc18-4761-a0a0-66c02bd81b8c"
   },
   "outputs": [
    {
     "data": {
      "text/plain": [
       "0.00018314322488235366"
      ]
     },
     "execution_count": 7,
     "metadata": {},
     "output_type": "execute_result"
    }
   ],
   "source": [
    "scipy.stats.binom_test(n,N,0.5)\n",
    "# 유의 확률이 0.05보다 낮으므로 귀무가설을 채택할 수 없다. \n",
    "# 따라서 모수값은 0.5가 아니다."
   ]
  },
  {
   "cell_type": "markdown",
   "metadata": {
    "id": "KCMW0dpA8Yow"
   },
   "source": [
    "### 카이제곱검정\n",
    "카테고리의 분포의 모수에 대해서 검정"
   ]
  },
  {
   "cell_type": "code",
   "execution_count": 8,
   "metadata": {
    "colab": {
     "base_uri": "https://localhost:8080/"
    },
    "id": "2Cc5gUJQ8_rz",
    "outputId": "da116448-ff38-4a1a-f513-e7475d9991ce"
   },
   "outputs": [
    {
     "data": {
      "text/plain": [
       "array([0, 3, 5, 2], dtype=int64)"
      ]
     },
     "execution_count": 8,
     "metadata": {},
     "output_type": "execute_result"
    }
   ],
   "source": [
    "N = 10\n",
    "K = 4\n",
    "mu_0 = np.ones(K)/K\n",
    "# mu = (0.25, 0.25, 0.25, 0.25)\n",
    "np.random.seed(0)\n",
    "x = np.random.choice(K, N, p=mu_0)\n",
    "n = np.bincount(x, minlength=K)\n",
    "n"
   ]
  },
  {
   "cell_type": "code",
   "execution_count": 9,
   "metadata": {
    "colab": {
     "base_uri": "https://localhost:8080/"
    },
    "id": "58H0vXw79QjU",
    "outputId": "4cffd2bf-74dc-456e-fa18-81831047fd97"
   },
   "outputs": [
    {
     "data": {
      "text/plain": [
       "Power_divergenceResult(statistic=5.199999999999999, pvalue=0.157724450396663)"
      ]
     },
     "execution_count": 9,
     "metadata": {},
     "output_type": "execute_result"
    }
   ],
   "source": [
    "# 귀무가설 : mu=(0.25, 0.25, 0.25, 0.25)\n",
    "scipy.stats.chisquare(n)\n",
    "# 유의 수준 0.05 보다 높은 0.157의 값이기 때문에 mu=(0.25, 0.25, 0.25, 0.25)\n",
    "# 검정을 실시하기 전에 유의 수준을 설정하는데 보통 0.05, 0.01 정합니다.\n",
    "# 유의수준은 해당 표본집단이 어떤 모수(0.25,0.25,0.25,0.25) -> 모집단에서 해당 표본집단이 나올 확율"
   ]
  },
  {
   "cell_type": "code",
   "execution_count": 10,
   "metadata": {
    "colab": {
     "base_uri": "https://localhost:8080/"
    },
    "id": "UGJkOPUD90Pv",
    "outputId": "b4ade37e-3155-452a-e0ea-c1b748fbd5c4"
   },
   "outputs": [
    {
     "data": {
      "text/plain": [
       "array([28, 23, 29, 20], dtype=int64)"
      ]
     },
     "execution_count": 10,
     "metadata": {},
     "output_type": "execute_result"
    }
   ],
   "source": [
    "N = 100\n",
    "K = 4\n",
    "mu_0 = np.ones(K)/K\n",
    "np.random.seed(0)\n",
    "x = np.random.choice(K, N, p=mu_0)\n",
    "n = np.bincount(x, minlength=K)\n",
    "n"
   ]
  },
  {
   "cell_type": "code",
   "execution_count": 11,
   "metadata": {
    "colab": {
     "base_uri": "https://localhost:8080/"
    },
    "id": "-b8IKxka-UpP",
    "outputId": "2f9c01fb-16de-483f-ecff-4445f9319225"
   },
   "outputs": [
    {
     "data": {
      "text/plain": [
       "Power_divergenceResult(statistic=2.16, pvalue=0.5398700347618)"
      ]
     },
     "execution_count": 11,
     "metadata": {},
     "output_type": "execute_result"
    }
   ],
   "source": [
    "scipy.stats.chisquare(n)"
   ]
  },
  {
   "cell_type": "code",
   "execution_count": 12,
   "metadata": {
    "colab": {
     "base_uri": "https://localhost:8080/"
    },
    "id": "wprhZV7r-WPL",
    "outputId": "fa46cdc8-664d-49cd-87d8-2fcc10950f8e"
   },
   "outputs": [
    {
     "data": {
      "text/plain": [
       "array([37, 32, 20, 11], dtype=int64)"
      ]
     },
     "execution_count": 12,
     "metadata": {},
     "output_type": "execute_result"
    }
   ],
   "source": [
    "N = 100\n",
    "K = 4\n",
    "mu_0 = [0.35, 0.3, 0.2, 0.15]\n",
    "np.random.seed(0)\n",
    "x = np.random.choice(K, N, p=mu_0)\n",
    "n = np.bincount(x, minlength=K)\n",
    "n"
   ]
  },
  {
   "cell_type": "code",
   "execution_count": 13,
   "metadata": {
    "colab": {
     "base_uri": "https://localhost:8080/"
    },
    "id": "fvhTllwiArtG",
    "outputId": "4e512fa9-98b0-42a0-aab8-6b6b30c71dc7"
   },
   "outputs": [
    {
     "data": {
      "text/plain": [
       "Power_divergenceResult(statistic=16.56, pvalue=0.0008703471978912127)"
      ]
     },
     "execution_count": 13,
     "metadata": {},
     "output_type": "execute_result"
    }
   ],
   "source": [
    "scipy.stats.chisquare(n)"
   ]
  },
  {
   "cell_type": "markdown",
   "metadata": {
    "id": "_R-wdotUAz99"
   },
   "source": [
    "### 단일표본 z검정\n",
    "$σ^2$의 값이 알고 있을 경우 정규분포 표본에 대한 모수를 조사하는 방법\n"
   ]
  },
  {
   "cell_type": "code",
   "execution_count": 14,
   "metadata": {
    "colab": {
     "base_uri": "https://localhost:8080/"
    },
    "id": "hR544EGlBXpP",
    "outputId": "656557aa-0839-4df7-8609-4e1532454e20"
   },
   "outputs": [
    {
     "data": {
      "text/plain": [
       "array([ 1.76405235,  0.40015721,  0.97873798,  2.2408932 ,  1.86755799,\n",
       "       -0.97727788,  0.95008842, -0.15135721, -0.10321885,  0.4105985 ])"
      ]
     },
     "execution_count": 14,
     "metadata": {},
     "output_type": "execute_result"
    }
   ],
   "source": [
    "# 모수 u=0, sigma2=1\n",
    "N = 10\n",
    "mu_0 = 0\n",
    "np.random.seed(0)\n",
    "x = scipy.stats.norm(mu_0).rvs(N)\n",
    "x"
   ]
  },
  {
   "cell_type": "code",
   "execution_count": 15,
   "metadata": {
    "colab": {
     "base_uri": "https://localhost:8080/"
    },
    "id": "NCs5WjRZBgyc",
    "outputId": "d4dc3b22-731d-4f87-84f1-2ac280f1178d"
   },
   "outputs": [
    {
     "data": {
      "text/plain": [
       "(2.3338341854824276, 0.019604406021683538)"
      ]
     },
     "execution_count": 15,
     "metadata": {},
     "output_type": "execute_result"
    }
   ],
   "source": [
    "def ztest_1samp(x, sigma2=1, mu=0):\n",
    "    z = (x.mean()-mu)/np.sqrt(sigma2/len(x))\n",
    "    return z, 2 * scipy.stats.norm().sf(np.abs(z))\n",
    "\n",
    "ztest_1samp(x, mu=0)"
   ]
  },
  {
   "cell_type": "markdown",
   "metadata": {
    "id": "ymd5VScADdCB"
   },
   "source": [
    "- 1종오류(Type 1 Error)\n",
    "      위 실습 코드처럼 귀무가설이 진실임에도 귀무가설이 유의수준보다 작아서 귀무가설이 채택되지 못하는 경우\n",
    "      보통 데이터의 수가 부족해서 나타나는 경우가 많음(N(표본의 개수) >= 30)"
   ]
  },
  {
   "cell_type": "code",
   "execution_count": 16,
   "metadata": {
    "colab": {
     "base_uri": "https://localhost:8080/"
    },
    "id": "XxLr2G3GDT7t",
    "outputId": "a94d2a4b-ef10-4167-d1a7-754eb8293e05"
   },
   "outputs": [
    {
     "data": {
      "text/plain": [
       "(0.5980801553448499, 0.5497864508624168)"
      ]
     },
     "execution_count": 16,
     "metadata": {},
     "output_type": "execute_result"
    }
   ],
   "source": [
    "N = 100\n",
    "mu_0 = 0\n",
    "np.random.seed(0)\n",
    "x = scipy.stats.norm(mu_0).rvs(N)\n",
    "ztest_1samp(x, mu=0)"
   ]
  },
  {
   "cell_type": "markdown",
   "metadata": {
    "id": "SzZzmSVQEDJd"
   },
   "source": [
    "### 단일 표본 t 검정\n",
    "정규분포의 표본에 대해 기댓값을 조사하는 검정방법\n",
    "$$\\frac{\\bar{x}-μ_0}{\\frac{s}{\\sqrt{N}}}$$"
   ]
  },
  {
   "cell_type": "code",
   "execution_count": 17,
   "metadata": {
    "colab": {
     "base_uri": "https://localhost:8080/"
    },
    "id": "GDb7K6z3ELRk",
    "outputId": "838461cb-c506-4ec1-db87-268a52a91edd"
   },
   "outputs": [
    {
     "data": {
      "text/plain": [
       "Ttest_1sampResult(statistic=2.28943967238967, pvalue=0.04781846490857058)"
      ]
     },
     "execution_count": 17,
     "metadata": {},
     "output_type": "execute_result"
    }
   ],
   "source": [
    "N = 10\n",
    "mu_0 = 0\n",
    "np.random.seed(0)\n",
    "x = scipy.stats.norm(mu_0).rvs(N)\n",
    "# 단일 표본 t검정\n",
    "# popmean : 귀무가설의 기댓값\n",
    "scipy.stats.ttest_1samp(x, popmean=0)"
   ]
  },
  {
   "cell_type": "code",
   "execution_count": 18,
   "metadata": {
    "colab": {
     "base_uri": "https://localhost:8080/"
    },
    "id": "VMWEMkWBH2Ap",
    "outputId": "e541588d-7803-40f1-8e85-b169865e82a6"
   },
   "outputs": [
    {
     "data": {
      "text/plain": [
       "Ttest_1sampResult(statistic=0.5904283402851698, pvalue=0.5562489158694675)"
      ]
     },
     "execution_count": 18,
     "metadata": {},
     "output_type": "execute_result"
    }
   ],
   "source": [
    "N = 100\n",
    "mu_0 = 0\n",
    "np.random.seed(0)\n",
    "x = scipy.stats.norm(mu_0).rvs(N)\n",
    "# 단일 표본 t검정\n",
    "# popmean : 귀무가설의 기댓값\n",
    "scipy.stats.ttest_1samp(x, popmean=0)"
   ]
  },
  {
   "cell_type": "markdown",
   "metadata": {
    "id": "79xKa0J7IAV7"
   },
   "source": [
    "### 독립표본 t검정\n",
    "두 개의 독립적인 정규분포의 데이터 셋을 사용해 두 정규분포의 기댓값이 동일한지 확인하는 검사\n",
    "- 두 개의 표본의 분산이 같을 경우\n",
    "$$ t = \\frac{\\bar{x_1} - \\bar{x_2}}{s⋅\\sqrt{\\frac{1}{N_1}+\\frac{1}{N_2}}}$$\n",
    "- 두개의 표본이 분산 같지 않을 경우\n",
    "$$ t = \\frac{\\bar{x_1} - \\bar{x_2}}{\\sqrt{\\frac{s^2}{N_1}+\\frac{s^2}{N_2}}}$$\n"
   ]
  },
  {
   "cell_type": "code",
   "execution_count": 19,
   "metadata": {
    "colab": {
     "base_uri": "https://localhost:8080/",
     "height": 264
    },
    "id": "FRxapatPJkz0",
    "outputId": "b107735d-fb16-475f-c5df-5c00f0b215c2"
   },
   "outputs": [
    {
     "data": {
      "image/png": "[encoded data removed]",
      "text/plain": [
       "<Figure size 432x288 with 1 Axes>"
      ]
     },
     "metadata": {
      "needs_background": "light"
     },
     "output_type": "display_data"
    }
   ],
   "source": [
    "import seaborn as sns\n",
    "\n",
    "N_1 = 100\n",
    "mu_1 = 0\n",
    "sigma_1 = 1\n",
    "N_2 = 100\n",
    "mu_2 = 0.5\n",
    "sigma_2 = 1\n",
    "\n",
    "np.random.seed(0)\n",
    "x1 = scipy.stats.norm(mu_1, sigma_1).rvs(N_1)\n",
    "x2 = scipy.stats.norm(mu_2, sigma_2).rvs(N_2)\n",
    "\n",
    "ax = sns.distplot(x1, kde=False, fit=scipy.stats.norm, label='1번')\n",
    "ax = sns.distplot(x2, kde=False, fit=scipy.stats.norm, label='2번')\n",
    "plt.legend()\n",
    "plt.grid()\n",
    "plt.show()"
   ]
  },
  {
   "cell_type": "code",
   "execution_count": 20,
   "metadata": {
    "colab": {
     "base_uri": "https://localhost:8080/"
    },
    "id": "5CzUcmZaKM98",
    "outputId": "cee1e2ce-74ba-48e2-fdb5-9249dc7f409c"
   },
   "outputs": [
    {
     "data": {
      "text/plain": [
       "(0.059808015534485, 0.5820129707478374)"
      ]
     },
     "execution_count": 20,
     "metadata": {},
     "output_type": "execute_result"
    }
   ],
   "source": [
    "np.mean(x1), np.mean(x2)"
   ]
  },
  {
   "cell_type": "code",
   "execution_count": 21,
   "metadata": {
    "colab": {
     "base_uri": "https://localhost:8080/"
    },
    "id": "52sqjkmjKZ2X",
    "outputId": "ed36d188-8784-4158-eff4-ce816e2b5ec1"
   },
   "outputs": [
    {
     "data": {
      "text/plain": [
       "Ttest_indResult(statistic=-3.597192759749613, pvalue=0.00040634222594880895)"
      ]
     },
     "execution_count": 21,
     "metadata": {},
     "output_type": "execute_result"
    }
   ],
   "source": [
    "# 귀무가설이 u0 = u1\n",
    "scipy.stats.ttest_ind(x1, x2, equal_var=False)"
   ]
  },
  {
   "cell_type": "markdown",
   "metadata": {
    "id": "cllV8KMMKtfr"
   },
   "source": [
    "- 2종오류\n",
    "      Type 2 Error(2종 오류)\n",
    "      귀무가설이 거짓이지만, 귀무가설이 참으로 나오는 오류\n",
    "      데이가 많아지면 해당 오류의 확률을 줄일 수 있다."
   ]
  },
  {
   "cell_type": "markdown",
   "metadata": {
    "id": "saEIsVItLfsL"
   },
   "source": [
    "### 대응표본 t 검정\n",
    "두 집단의 표본이 1대 1 대응하는 경우 해당 검정을 시행할 수 있다.   \n",
    "예시) 학생들의 자습을 동일한 시간 했을 때 자습을 하기 전의 성적과 하고 나서의 성적이 1대 1 매칭이 될 때 자습에 대한 영향력을 검정하는 방법"
   ]
  },
  {
   "cell_type": "code",
   "execution_count": 22,
   "metadata": {
    "colab": {
     "base_uri": "https://localhost:8080/",
     "height": 264
    },
    "id": "wPZRR6_4MWSB",
    "outputId": "cdd7b77d-259c-4331-82e8-4c5b7f613540"
   },
   "outputs": [
    {
     "data": {
      "image/png": "[encoded data removed]",
      "text/plain": [
       "<Figure size 432x288 with 1 Axes>"
      ]
     },
     "metadata": {
      "needs_background": "light"
     },
     "output_type": "display_data"
    }
   ],
   "source": [
    "N = 5\n",
    "mu_1 = 0\n",
    "mu_2 = 0.4\n",
    "np.random.seed(1)\n",
    "x1 = scipy.stats.norm(mu_1).rvs(N)\n",
    "x2 = x1 + scipy.stats.norm(mu_2).rvs(N)\n",
    "\n",
    "ax = sns.distplot(x1,kde= False, fit = scipy.stats.norm, label = '1번 데이터')\n",
    "ax = sns.distplot(x2,kde= False, fit = scipy.stats.norm, label = '2번 데이터')\n",
    "ax.lines[0].set_linestyle(':')\n",
    "plt.legend()\n",
    "plt.grid()\n",
    "plt.show()"
   ]
  },
  {
   "cell_type": "code",
   "execution_count": 23,
   "metadata": {
    "colab": {
     "base_uri": "https://localhost:8080/"
    },
    "id": "Jb6gNwFEM1P8",
    "outputId": "65b9fd7f-f6e3-4ce0-debe-a87277eb6055"
   },
   "outputs": [
    {
     "data": {
      "text/plain": [
       "Ttest_relResult(statistic=-0.22700222832126432, pvalue=0.8315516654768336)"
      ]
     },
     "execution_count": 23,
     "metadata": {},
     "output_type": "execute_result"
    }
   ],
   "source": [
    "# 귀무가설 x1, x2의 변화가 있다.\n",
    "scipy.stats.ttest_rel(x1, x2)"
   ]
  },
  {
   "cell_type": "markdown",
   "metadata": {
    "id": "NNiezGnqNLEM"
   },
   "source": [
    "### 등분산 검정\n",
    "두 개의 정규분포에서 생성된 데이터들의 분산 모수가 같은지 확인하는 검정\n",
    "- bartlett 검정\n",
    "- fligner 검정\n",
    "- levene 검정"
   ]
  },
  {
   "cell_type": "code",
   "execution_count": 24,
   "metadata": {
    "colab": {
     "base_uri": "https://localhost:8080/",
     "height": 264
    },
    "id": "mLZjdYajN4AV",
    "outputId": "7dc0e1c4-424b-487f-a639-2ba79615ae57"
   },
   "outputs": [
    {
     "data": {
      "image/png": "[encoded data removed]",
      "text/plain": [
       "<Figure size 432x288 with 1 Axes>"
      ]
     },
     "metadata": {
      "needs_background": "light"
     },
     "output_type": "display_data"
    }
   ],
   "source": [
    "N1 = 100\n",
    "N2 = 100\n",
    "sigma_1 = 1\n",
    "sigma_2 = 1.2\n",
    "\n",
    "np.random.seed(0)\n",
    "x1 = scipy.stats.norm(0, sigma_1).rvs(N1)\n",
    "x2 = scipy.stats.norm(0, sigma_2).rvs(N2)\n",
    "\n",
    "ax = sns.distplot(x1, kde=False, fit=scipy.stats.norm, label='1번')\n",
    "ax = sns.distplot(x2, kde=False, fit=scipy.stats.norm, label='2번')\n",
    "\n",
    "ax.lines[0].set_linestyle(':')\n",
    "plt.legend()\n",
    "plt.grid()\n",
    "plt.show()"
   ]
  },
  {
   "cell_type": "code",
   "execution_count": 25,
   "metadata": {
    "colab": {
     "base_uri": "https://localhost:8080/"
    },
    "id": "pp34yUEYOmOt",
    "outputId": "9a5f862b-3e2d-4257-c54f-7401a038ad4d"
   },
   "outputs": [
    {
     "data": {
      "text/plain": [
       "(1.0078822447165796, 1.2416003969261071)"
      ]
     },
     "execution_count": 25,
     "metadata": {},
     "output_type": "execute_result"
    }
   ],
   "source": [
    "x1.std(), x2.std()"
   ]
  },
  {
   "cell_type": "code",
   "execution_count": 26,
   "metadata": {
    "colab": {
     "base_uri": "https://localhost:8080/"
    },
    "id": "rfE7kIg5Otdb",
    "outputId": "bf3a1704-bbf3-468c-fe75-0cb0b8217fce"
   },
   "outputs": [
    {
     "data": {
      "text/plain": [
       "BartlettResult(statistic=4.253473837232266, pvalue=0.039170128783651344)"
      ]
     },
     "execution_count": 26,
     "metadata": {},
     "output_type": "execute_result"
    }
   ],
   "source": [
    "# 귀무가설 : x1과 x2의 분산이 같다.\n",
    "scipy.stats.bartlett(x1, x2)"
   ]
  },
  {
   "cell_type": "code",
   "execution_count": 27,
   "metadata": {
    "colab": {
     "base_uri": "https://localhost:8080/"
    },
    "id": "u1p_UMjpO2Vh",
    "outputId": "be6ebdfd-2e34-4732-d884-5f1cf893c4ec"
   },
   "outputs": [
    {
     "data": {
      "text/plain": [
       "FlignerResult(statistic=7.224841990409457, pvalue=0.007190150106748367)"
      ]
     },
     "execution_count": 27,
     "metadata": {},
     "output_type": "execute_result"
    }
   ],
   "source": [
    "scipy.stats.fligner(x1, x2)"
   ]
  },
  {
   "cell_type": "code",
   "execution_count": 28,
   "metadata": {
    "colab": {
     "base_uri": "https://localhost:8080/"
    },
    "id": "j7jkPe6sPCPa",
    "outputId": "be3d16c0-eed1-4ee5-9ad6-940e6133ee0e"
   },
   "outputs": [
    {
     "data": {
      "text/plain": [
       "LeveneResult(statistic=7.680708947679437, pvalue=0.0061135154970207925)"
      ]
     },
     "execution_count": 28,
     "metadata": {},
     "output_type": "execute_result"
    }
   ],
   "source": [
    "scipy.stats.levene(x1, x2)"
   ]
  },
  {
   "cell_type": "markdown",
   "metadata": {
    "id": "WYolOxy4PIxF"
   },
   "source": [
    "### 정규성 검정\n",
    "확률분포가 가우시안 정규분포를 따르는지 확인하는 검정\n",
    "- 콜모고로프-스미르노프 검정\n",
    "- 샤피로-월크 검정\n",
    "- 앤더스-달링 검정"
   ]
  },
  {
   "cell_type": "code",
   "execution_count": 29,
   "metadata": {
    "colab": {
     "base_uri": "https://localhost:8080/",
     "height": 264
    },
    "id": "PHNoQ289Pbjm",
    "outputId": "ba596bb4-367d-4103-e10a-d832e51a1454"
   },
   "outputs": [
    {
     "data": {
      "image/png": "[encoded data removed]",
      "text/plain": [
       "<Figure size 432x288 with 1 Axes>"
      ]
     },
     "metadata": {
      "needs_background": "light"
     },
     "output_type": "display_data"
    }
   ],
   "source": [
    "np.random.seed(0)\n",
    "N1 = 50\n",
    "N2 = 100\n",
    "\n",
    "x1 = scipy.stats.norm(0,1).rvs(N1)\n",
    "x2 = scipy.stats.norm(0,1.5).rvs(N2)\n",
    "\n",
    "ax = sns.distplot(x1, kde=False, fit=scipy.stats.norm, label='1번')\n",
    "ax = sns.distplot(x2, kde=False, fit=scipy.stats.norm, label='2번')\n",
    "\n",
    "ax.lines[0].set_linestyle(':')\n",
    "plt.legend()\n",
    "plt.grid()\n",
    "plt.show()"
   ]
  },
  {
   "cell_type": "code",
   "execution_count": 30,
   "metadata": {
    "colab": {
     "base_uri": "https://localhost:8080/"
    },
    "id": "WwBLj7rfQB5J",
    "outputId": "70b880d9-6a67-41f6-b25e-2210e655ea17"
   },
   "outputs": [
    {
     "data": {
      "text/plain": [
       "KstestResult(statistic=0.13, pvalue=0.613749001553477)"
      ]
     },
     "execution_count": 30,
     "metadata": {},
     "output_type": "execute_result"
    }
   ],
   "source": [
    "# 콜모고로프-스미르노프 검정\n",
    "scipy.stats.ks_2samp(x1, x2)"
   ]
  },
  {
   "cell_type": "code",
   "execution_count": 31,
   "metadata": {
    "colab": {
     "base_uri": "https://localhost:8080/"
    },
    "id": "Q5eiaf7tQM37",
    "outputId": "2bcf72e8-43b8-4c14-8fcd-943e2560aef0"
   },
   "outputs": [
    {
     "data": {
      "text/plain": [
       "(ShapiroResult(statistic=0.987645149230957, pvalue=0.8765420317649841),\n",
       " ShapiroResult(statistic=0.9792247414588928, pvalue=0.1156543642282486))"
      ]
     },
     "execution_count": 31,
     "metadata": {},
     "output_type": "execute_result"
    }
   ],
   "source": [
    "# 샤피로-월크 검정\n",
    "scipy.stats.shapiro(x1), scipy.stats.shapiro(x2)"
   ]
  },
  {
   "cell_type": "code",
   "execution_count": 32,
   "metadata": {
    "colab": {
     "base_uri": "https://localhost:8080/"
    },
    "id": "AWXcHdLQQa-o",
    "outputId": "cf559afa-c9ee-478d-b91e-91b10848eab3"
   },
   "outputs": [
    {
     "data": {
      "text/plain": [
       "AndersonResult(statistic=0.15006999533388665, critical_values=array([0.538, 0.613, 0.736, 0.858, 1.021]), significance_level=array([15. , 10. ,  5. ,  2.5,  1. ]))"
      ]
     },
     "execution_count": 32,
     "metadata": {},
     "output_type": "execute_result"
    }
   ],
   "source": [
    "# 앤더스-달링 검정\n",
    "scipy.stats.anderson(x1)"
   ]
  }
 ],
 "metadata": {
  "colab": {
   "provenance": []
  },
  "kernelspec": {
   "display_name": "Python 3.10.8 64-bit",
   "language": "python",
   "name": "python3"
  },
  "language_info": {
   "codemirror_mode": {
    "name": "ipython",
    "version": 3
   },
   "file_extension": ".py",
   "mimetype": "text/x-python",
   "name": "python",
   "nbconvert_exporter": "python",
   "pygments_lexer": "ipython3",
   "version": "3.10.8"
  },
  "vscode": {
   "interpreter": {
    "hash": "fb4569285eef3a3450cb62085a5b1e0da4bce0af555edc33dcf29baf3acc1368"
   }
  }
 },
 "nbformat": 4,
 "nbformat_minor": 1
}

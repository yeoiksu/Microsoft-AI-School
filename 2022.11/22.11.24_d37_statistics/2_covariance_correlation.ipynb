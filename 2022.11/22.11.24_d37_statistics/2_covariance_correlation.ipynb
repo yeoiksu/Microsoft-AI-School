{
 "cells": [
  {
   "cell_type": "markdown",
   "id": "67108965",
   "metadata": {},
   "source": [
    "# 공분산과 상관계수"
   ]
  },
  {
   "cell_type": "markdown",
   "id": "89d84b93",
   "metadata": {},
   "source": [
    "## 표본공분산(Sample covariance)\n",
    "\n",
    "$${s_{xy}}=\\frac{1}{N}\\Sigma({x_i}-\\hat{x})({y_i}-\\hat{y})$$"
   ]
  },
  {
   "cell_type": "markdown",
   "id": "aff8d6c6",
   "metadata": {},
   "source": [
    "## 표본상관계수(Sample correlation coefficient)\n",
    "\n",
    "공분산에 각각의 표준편차 값으로 나눈 값   \n",
    "각각의 표준편차를 나눠 주는 이유 자료 분포의 방향성만 분리해서 보기 위함과 표준화를 하기 위함\n",
    "\n",
    "$${r_xy} = \\frac{{s_xy}}{({s_x^2}{x_y^2})^{1/2}}$$"
   ]
  },
  {
   "cell_type": "code",
   "execution_count": 1,
   "id": "5feec102",
   "metadata": {},
   "outputs": [
    {
     "name": "stdout",
     "output_type": "stream",
     "text": [
      "Requirement already satisfied: scikit-learn in c:\\users\\user\\anaconda3\\lib\\site-packages (1.1.2)\n",
      "Requirement already satisfied: threadpoolctl>=2.0.0 in c:\\users\\user\\anaconda3\\lib\\site-packages (from scikit-learn) (2.2.0)\n",
      "Requirement already satisfied: scipy>=1.3.2 in c:\\users\\user\\anaconda3\\lib\\site-packages (from scikit-learn) (1.7.3)\n",
      "Requirement already satisfied: joblib>=1.0.0 in c:\\users\\user\\anaconda3\\lib\\site-packages (from scikit-learn) (1.1.0)\n",
      "Requirement already satisfied: numpy>=1.17.3 in c:\\users\\user\\anaconda3\\lib\\site-packages (from scikit-learn) (1.21.5)\n"
     ]
    }
   ],
   "source": [
    "!pip install scikit-learn"
   ]
  },
  {
   "cell_type": "code",
   "execution_count": 2,
   "id": "debb6845",
   "metadata": {},
   "outputs": [
    {
     "name": "stdout",
     "output_type": "stream",
     "text": [
      "Requirement already satisfied: koreanize-matplotlib in c:\\users\\user\\anaconda3\\lib\\site-packages (0.0.1)\n",
      "Requirement already satisfied: matplotlib in c:\\users\\user\\anaconda3\\lib\\site-packages (from koreanize-matplotlib) (3.5.1)\n",
      "Requirement already satisfied: pillow>=6.2.0 in c:\\users\\user\\anaconda3\\lib\\site-packages (from matplotlib->koreanize-matplotlib) (9.0.1)\n",
      "Requirement already satisfied: fonttools>=4.22.0 in c:\\users\\user\\anaconda3\\lib\\site-packages (from matplotlib->koreanize-matplotlib) (4.25.0)\n",
      "Requirement already satisfied: cycler>=0.10 in c:\\users\\user\\anaconda3\\lib\\site-packages (from matplotlib->koreanize-matplotlib) (0.11.0)\n",
      "Requirement already satisfied: python-dateutil>=2.7 in c:\\users\\user\\anaconda3\\lib\\site-packages (from matplotlib->koreanize-matplotlib) (2.8.2)\n",
      "Requirement already satisfied: numpy>=1.17 in c:\\users\\user\\anaconda3\\lib\\site-packages (from matplotlib->koreanize-matplotlib) (1.21.5)\n",
      "Requirement already satisfied: packaging>=20.0 in c:\\users\\user\\anaconda3\\lib\\site-packages (from matplotlib->koreanize-matplotlib) (21.3)\n",
      "Requirement already satisfied: pyparsing>=2.2.1 in c:\\users\\user\\anaconda3\\lib\\site-packages (from matplotlib->koreanize-matplotlib) (3.0.4)\n",
      "Requirement already satisfied: kiwisolver>=1.0.1 in c:\\users\\user\\anaconda3\\lib\\site-packages (from matplotlib->koreanize-matplotlib) (1.3.2)\n",
      "Requirement already satisfied: six>=1.5 in c:\\users\\user\\anaconda3\\lib\\site-packages (from python-dateutil>=2.7->matplotlib->koreanize-matplotlib) (1.16.0)\n"
     ]
    }
   ],
   "source": [
    "!pip install koreanize-matplotlib"
   ]
  },
  {
   "cell_type": "code",
   "execution_count": 3,
   "id": "0aea0b30",
   "metadata": {},
   "outputs": [],
   "source": [
    "from sklearn.datasets import load_iris\n",
    "import scipy as sp\n",
    "import numpy as np\n",
    "import matplotlib.pyplot as plt\n",
    "import koreanize_matplotlib\n",
    "import statsmodels.api as sm\n",
    "import seaborn as sns"
   ]
  },
  {
   "cell_type": "code",
   "execution_count": 4,
   "id": "c26f6ba2",
   "metadata": {},
   "outputs": [
    {
     "data": {
      "text/plain": [
       "dict_keys(['data', 'target', 'frame', 'target_names', 'DESCR', 'feature_names', 'filename', 'data_module'])"
      ]
     },
     "execution_count": 4,
     "metadata": {},
     "output_type": "execute_result"
    }
   ],
   "source": [
    "# iris data 불러오기\n",
    "X = load_iris()\n",
    "load_iris().keys()"
   ]
  },
  {
   "cell_type": "code",
   "execution_count": 5,
   "id": "5e8d2caa",
   "metadata": {},
   "outputs": [
    {
     "data": {
      "text/plain": [
       "['sepal length (cm)',\n",
       " 'sepal width (cm)',\n",
       " 'petal length (cm)',\n",
       " 'petal width (cm)']"
      ]
     },
     "execution_count": 5,
     "metadata": {},
     "output_type": "execute_result"
    }
   ],
   "source": [
    "# feature 이름들\n",
    "load_iris().feature_names"
   ]
  },
  {
   "cell_type": "code",
   "execution_count": 6,
   "id": "fc3bbadf",
   "metadata": {},
   "outputs": [
    {
     "data": {
      "text/plain": [
       "0.8717537758865832"
      ]
     },
     "execution_count": 6,
     "metadata": {},
     "output_type": "execute_result"
    }
   ],
   "source": [
    "# X.data는 iris의 데이터 밸류값이 정리되어 있음,\n",
    "# X.feature_names 에 각각의 컬럼 이름이 정의되 있음\n",
    "# X.feature의 순서에 따라서 해당되는 데이터를 가져오는 코드\n",
    "sepal_length = X.data[:,0]\n",
    "sepal_width = X.data[:,1]\n",
    "petal_length = X.data[:,2]\n",
    "petal_width = X.data[:,3]\n",
    "sp.stats.pearsonr(sepal_length, petal_length)[0]"
   ]
  },
  {
   "cell_type": "code",
   "execution_count": 7,
   "id": "47ea01dd",
   "metadata": {},
   "outputs": [
    {
     "name": "stdout",
     "output_type": "stream",
     "text": [
      "[[0.10137928 0.82818547 0.59553714 0.13574035 0.32787077 0.53380697\n",
      "  0.96889908]\n",
      " [0.84006002 0.45380289 0.79221288 0.26784781 0.35282737 0.80726015\n",
      "  0.32857678]\n",
      " [0.43785208 0.76550068 0.65285982 0.23088527 0.89137263 0.67278747\n",
      "  0.20271494]\n",
      " [0.83976184 0.99120838 0.22928652 0.80618317 0.59426691 0.15463482\n",
      "  0.97736195]\n",
      " [0.60791172 0.5620433  0.11776523 0.729815   0.97432255 0.05914256\n",
      "  0.93588098]]\n"
     ]
    },
    {
     "data": {
      "text/plain": [
       "array([0.10137928, 0.84006002, 0.43785208, 0.83976184, 0.60791172])"
      ]
     },
     "execution_count": 7,
     "metadata": {},
     "output_type": "execute_result"
    }
   ],
   "source": [
    "np_array = np.random.rand(5,7)\n",
    "print(np_array)\n",
    "np_array[:, 0]"
   ]
  },
  {
   "cell_type": "markdown",
   "id": "0e1d8650",
   "metadata": {},
   "source": [
    "## 상관계수 Scatter Plot\n"
   ]
  },
  {
   "cell_type": "markdown",
   "id": "cdf14135",
   "metadata": {},
   "source": [
    "피어슨 상관계수의 경우 선형적인 관계만을 측정하기 때문에 선형적이 않으면서 관계가 있는 데이터의 경우에 피어슨 상관계수는 0"
   ]
  },
  {
   "cell_type": "code",
   "execution_count": 8,
   "id": "a4d50dac",
   "metadata": {},
   "outputs": [
    {
     "data": {
      "image/png": "[encoded data removed]",
      "text/plain": [
       "<Figure size 504x144 with 7 Axes>"
      ]
     },
     "metadata": {},
     "output_type": "display_data"
    }
   ],
   "source": [
    "np.random.seed(0)\n",
    "corrs = [1, 0.7, 0.3, 0, -0.3, -0.7, -1]  # 상관계수\n",
    "plt.figure(figsize=(len(corrs) , 2))\n",
    "for i, r in enumerate(corrs):\n",
    "    x, y, = np.random.multivariate_normal([0,0], [[1, r],[r, 1]], 1000).T\n",
    "    plt.subplot(1, len(corrs), i + 1)\n",
    "    plt.plot(x,y, 'ro', ms=1)\n",
    "    plt.axis('equal')\n",
    "    plt.xticks([])\n",
    "    plt.yticks([])\n",
    "    plt.title(f'corr : {r}')\n",
    "\n",
    "plt.suptitle('상관계수와 산점도 그래프의 모양', y=1.1)\n",
    "plt.tight_layout()\n",
    "plt.show()\n"
   ]
  },
  {
   "cell_type": "code",
   "execution_count": 9,
   "id": "95bae4d7",
   "metadata": {},
   "outputs": [
    {
     "name": "stdout",
     "output_type": "stream",
     "text": [
      "[-1.62434536  0.52817176 -0.86540762]\n",
      "[-0.34266163  0.31367827  1.42096155]\n",
      "[ 0.0421113  -0.09359058 -0.17528573]\n",
      "[ 0.  0. -0.]\n",
      "[-0.66577686  0.54853371  0.18227355]\n",
      "[-0.08573173 -0.24661359 -0.18276287]\n",
      "[0.24105161 0.03519225 1.26250734]\n"
     ]
    },
    {
     "data": {
      "image/png": "[encoded data removed]",
      "text/plain": [
       "<Figure size 504x144 with 7 Axes>"
      ]
     },
     "metadata": {},
     "output_type": "display_data"
    }
   ],
   "source": [
    "# 랜덤 요소 제거\n",
    "np.random.seed(1)\n",
    "# 기울기 설정\n",
    "slops = [1, 0.7, 0.3, 0, -0.3, -0.7, -1]\n",
    "# 그래프 설정\n",
    "plt.figure(figsize=(len(slops),2))\n",
    "for i, s in enumerate(slops):\n",
    "    # 서브플롯 배경 그리기\n",
    "    plt.subplot(1, len(slops), i + 1)\n",
    "    \n",
    "    # 다변수 표준정규분포\n",
    "    x, y = np.random.multivariate_normal([0,0], [[1,1], [1,1]], 1000).T\n",
    "    \n",
    "    # 기울기변경\n",
    "    y2 = s * y\n",
    "    print(y2[:3])\n",
    "    \n",
    "    # 데이터 플롯 그리기\n",
    "    plt.plot(x, y2, 'ro', ms=1)\n",
    "    \n",
    "    # 특정된 x나 y값을 표현하는건데 지금은 아무것도 표현하지 않도록 설정\n",
    "    # 만약 아무것도 안주면 자동으로 생성하기 때문에 [] 인자 전달\n",
    "    plt.xticks([])\n",
    "    plt.yticks([])\n",
    "    if s > 0:\n",
    "        # 서브플롯의 제목\n",
    "        plt.title('corr=1')\n",
    "    else:\n",
    "        plt.title('corr=-1')\n",
    "# 플롯의 대제목\n",
    "plt.suptitle('상관계수와 기울기의 관계', y=1.1)\n",
    "# 축의 글자가 겹치지 않도록 layout 설정\n",
    "plt.tight_layout()\n",
    "# 그래프 show\n",
    "plt.show()"
   ]
  },
  {
   "cell_type": "code",
   "execution_count": 10,
   "id": "6f32df6a",
   "metadata": {},
   "outputs": [
    {
     "data": {
      "image/png": "[encoded data removed]",
      "text/plain": [
       "<Figure size 432x288 with 3 Axes>"
      ]
     },
     "metadata": {
      "needs_background": "light"
     },
     "output_type": "display_data"
    }
   ],
   "source": [
    "n = 500\n",
    "np.random.seed(2)\n",
    "\n",
    "plt.subplot(221)\n",
    "x1 = np.random.uniform(-1, 1, n)\n",
    "y1 = 2*x1**2 + np.random.uniform(-0.1, 0.1,n)\n",
    "plt.scatter(x1,y1)\n",
    "r1 = sp.stats.pearsonr(x1, y1)[0]\n",
    "plt.title(f'비선형 상관관계 : 1: r= {r1.round(3)}')\n",
    "\n",
    "plt.subplot(222)\n",
    "x2 = np.random.uniform(-1,1, n)\n",
    "y2 = 4 * (x2**2-0.5)**2 + 0.1 * np.random.uniform(-0.1, 0.1,n)\n",
    "plt.scatter(x2,y2)\n",
    "r2 = sp.stats.pearsonr(x2, y2)[0]\n",
    "plt.title(f'비선형 상관관계 2:r={r2.round(3)}')\n",
    "\n",
    "plt.subplot(223)\n",
    "x3 = np.random.uniform(-1,1, n)\n",
    "y3 = np.cos(x3 * np.pi) + np.random.uniform(0, 1/8, n)\n",
    "x3 = np.sin(x3 * np.pi) + np.random.uniform(0, 1/8, n)\n",
    "plt.scatter(x3, y3)\n",
    "r3 = sp.stats.pearsonr(x3, y3)[0]\n",
    "plt.title(f'비선형 상관관계 3 : r={r3.round(3)}')\n",
    "plt.tight_layout()\n",
    "plt.show()"
   ]
  },
  {
   "cell_type": "markdown",
   "id": "eaacfb16",
   "metadata": {},
   "source": [
    "#### 데이터 분포에 따른 유의점"
   ]
  },
  {
   "cell_type": "code",
   "execution_count": 11,
   "id": "309f8301",
   "metadata": {},
   "outputs": [],
   "source": [
    "data = sm.datasets.get_rdataset('anscombe')"
   ]
  },
  {
   "cell_type": "code",
   "execution_count": 12,
   "id": "7f2f3258",
   "metadata": {},
   "outputs": [
    {
     "data": {
      "text/html": [
       "<div>\n",
       "<style scoped>\n",
       "    .dataframe tbody tr th:only-of-type {\n",
       "        vertical-align: middle;\n",
       "    }\n",
       "\n",
       "    .dataframe tbody tr th {\n",
       "        vertical-align: top;\n",
       "    }\n",
       "\n",
       "    .dataframe thead th {\n",
       "        text-align: right;\n",
       "    }\n",
       "</style>\n",
       "<table border=\"1\" class=\"dataframe\">\n",
       "  <thead>\n",
       "    <tr style=\"text-align: right;\">\n",
       "      <th></th>\n",
       "      <th>x1</th>\n",
       "      <th>y1</th>\n",
       "      <th>x2</th>\n",
       "      <th>y2</th>\n",
       "      <th>x3</th>\n",
       "      <th>y3</th>\n",
       "      <th>x4</th>\n",
       "      <th>y4</th>\n",
       "    </tr>\n",
       "  </thead>\n",
       "  <tbody>\n",
       "    <tr>\n",
       "      <th>0</th>\n",
       "      <td>10</td>\n",
       "      <td>8.04</td>\n",
       "      <td>10</td>\n",
       "      <td>9.14</td>\n",
       "      <td>10</td>\n",
       "      <td>7.46</td>\n",
       "      <td>8</td>\n",
       "      <td>6.58</td>\n",
       "    </tr>\n",
       "    <tr>\n",
       "      <th>1</th>\n",
       "      <td>8</td>\n",
       "      <td>6.95</td>\n",
       "      <td>8</td>\n",
       "      <td>8.14</td>\n",
       "      <td>8</td>\n",
       "      <td>6.77</td>\n",
       "      <td>8</td>\n",
       "      <td>5.76</td>\n",
       "    </tr>\n",
       "    <tr>\n",
       "      <th>2</th>\n",
       "      <td>13</td>\n",
       "      <td>7.58</td>\n",
       "      <td>13</td>\n",
       "      <td>8.74</td>\n",
       "      <td>13</td>\n",
       "      <td>12.74</td>\n",
       "      <td>8</td>\n",
       "      <td>7.71</td>\n",
       "    </tr>\n",
       "    <tr>\n",
       "      <th>3</th>\n",
       "      <td>9</td>\n",
       "      <td>8.81</td>\n",
       "      <td>9</td>\n",
       "      <td>8.77</td>\n",
       "      <td>9</td>\n",
       "      <td>7.11</td>\n",
       "      <td>8</td>\n",
       "      <td>8.84</td>\n",
       "    </tr>\n",
       "    <tr>\n",
       "      <th>4</th>\n",
       "      <td>11</td>\n",
       "      <td>8.33</td>\n",
       "      <td>11</td>\n",
       "      <td>9.26</td>\n",
       "      <td>11</td>\n",
       "      <td>7.81</td>\n",
       "      <td>8</td>\n",
       "      <td>8.47</td>\n",
       "    </tr>\n",
       "    <tr>\n",
       "      <th>5</th>\n",
       "      <td>14</td>\n",
       "      <td>9.96</td>\n",
       "      <td>14</td>\n",
       "      <td>8.10</td>\n",
       "      <td>14</td>\n",
       "      <td>8.84</td>\n",
       "      <td>8</td>\n",
       "      <td>7.04</td>\n",
       "    </tr>\n",
       "    <tr>\n",
       "      <th>6</th>\n",
       "      <td>6</td>\n",
       "      <td>7.24</td>\n",
       "      <td>6</td>\n",
       "      <td>6.13</td>\n",
       "      <td>6</td>\n",
       "      <td>6.08</td>\n",
       "      <td>8</td>\n",
       "      <td>5.25</td>\n",
       "    </tr>\n",
       "    <tr>\n",
       "      <th>7</th>\n",
       "      <td>4</td>\n",
       "      <td>4.26</td>\n",
       "      <td>4</td>\n",
       "      <td>3.10</td>\n",
       "      <td>4</td>\n",
       "      <td>5.39</td>\n",
       "      <td>19</td>\n",
       "      <td>12.50</td>\n",
       "    </tr>\n",
       "    <tr>\n",
       "      <th>8</th>\n",
       "      <td>12</td>\n",
       "      <td>10.84</td>\n",
       "      <td>12</td>\n",
       "      <td>9.13</td>\n",
       "      <td>12</td>\n",
       "      <td>8.15</td>\n",
       "      <td>8</td>\n",
       "      <td>5.56</td>\n",
       "    </tr>\n",
       "    <tr>\n",
       "      <th>9</th>\n",
       "      <td>7</td>\n",
       "      <td>4.82</td>\n",
       "      <td>7</td>\n",
       "      <td>7.26</td>\n",
       "      <td>7</td>\n",
       "      <td>6.42</td>\n",
       "      <td>8</td>\n",
       "      <td>7.91</td>\n",
       "    </tr>\n",
       "    <tr>\n",
       "      <th>10</th>\n",
       "      <td>5</td>\n",
       "      <td>5.68</td>\n",
       "      <td>5</td>\n",
       "      <td>4.74</td>\n",
       "      <td>5</td>\n",
       "      <td>5.73</td>\n",
       "      <td>8</td>\n",
       "      <td>6.89</td>\n",
       "    </tr>\n",
       "  </tbody>\n",
       "</table>\n",
       "</div>"
      ],
      "text/plain": [
       "    x1     y1  x2    y2  x3     y3  x4     y4\n",
       "0   10   8.04  10  9.14  10   7.46   8   6.58\n",
       "1    8   6.95   8  8.14   8   6.77   8   5.76\n",
       "2   13   7.58  13  8.74  13  12.74   8   7.71\n",
       "3    9   8.81   9  8.77   9   7.11   8   8.84\n",
       "4   11   8.33  11  9.26  11   7.81   8   8.47\n",
       "5   14   9.96  14  8.10  14   8.84   8   7.04\n",
       "6    6   7.24   6  6.13   6   6.08   8   5.25\n",
       "7    4   4.26   4  3.10   4   5.39  19  12.50\n",
       "8   12  10.84  12  9.13  12   8.15   8   5.56\n",
       "9    7   4.82   7  7.26   7   6.42   8   7.91\n",
       "10   5   5.68   5  4.74   5   5.73   8   6.89"
      ]
     },
     "execution_count": 12,
     "metadata": {},
     "output_type": "execute_result"
    }
   ],
   "source": [
    "df = data.data\n",
    "df[['x1','y1','x2','y2','x3','y3','x4','y4']]"
   ]
  },
  {
   "cell_type": "code",
   "execution_count": 13,
   "id": "d2e232cc",
   "metadata": {},
   "outputs": [
    {
     "data": {
      "image/png": "[encoded data removed]",
      "text/plain": [
       "<Figure size 432x288 with 4 Axes>"
      ]
     },
     "metadata": {
      "needs_background": "light"
     },
     "output_type": "display_data"
    }
   ],
   "source": [
    "plt.subplot(221)\n",
    "sns.regplot(x = 'x1', y = 'y1', data=df)\n",
    "plt.subplot(222)\n",
    "sns.regplot(x = 'x2', y = 'y2', data=df)\n",
    "plt.subplot(223)\n",
    "sns.regplot(x = 'x3', y = 'y3', data=df)\n",
    "plt.subplot(224)\n",
    "sns.regplot(x = 'x4', y = 'y4', data=df)\n",
    "plt.tight_layout()\n",
    "plt.subplots_adjust(top=0.9)\n",
    "plt.suptitle('anscomb data')\n",
    "plt.show()"
   ]
  },
  {
   "cell_type": "code",
   "execution_count": 14,
   "id": "ffd9e78f",
   "metadata": {},
   "outputs": [
    {
     "name": "stdout",
     "output_type": "stream",
     "text": [
      "x1, y1 의 상관계수 0.8164205163448399\n",
      "x2, y2 의 상관계수 0.8162365060002428\n",
      "x3, y3 의 상관계수 0.8162867394895983\n",
      "x4, y4 의 상관계수 0.816521436888503\n"
     ]
    }
   ],
   "source": [
    "for i in range(1,5):\n",
    "    print(f'x{i}, y{i} 의 상관계수', sp.stats.pearsonr(df[f'x{i}'], df[f'y{i}'])[0])"
   ]
  },
  {
   "cell_type": "code",
   "execution_count": null,
   "id": "0850b07e",
   "metadata": {},
   "outputs": [],
   "source": []
  }
 ],
 "metadata": {
  "kernelspec": {
   "display_name": "Python 3 (ipykernel)",
   "language": "python",
   "name": "python3"
  },
  "language_info": {
   "codemirror_mode": {
    "name": "ipython",
    "version": 3
   },
   "file_extension": ".py",
   "mimetype": "text/x-python",
   "name": "python",
   "nbconvert_exporter": "python",
   "pygments_lexer": "ipython3",
   "version": "3.9.12"
  }
 },
 "nbformat": 4,
 "nbformat_minor": 5
}

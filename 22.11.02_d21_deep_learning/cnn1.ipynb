{
 "cells": [
  {
   "cell_type": "markdown",
   "id": "ab6b6079-d599-4935-9cae-262420df6bc1",
   "metadata": {},
   "source": [
    "# CNN을 사용하여 MNIST Dataset 구분하기"
   ]
  },
  {
   "cell_type": "code",
   "execution_count": 1,
   "id": "323e4ce7-5b00-4fc7-9c1d-7298a8afb551",
   "metadata": {},
   "outputs": [],
   "source": [
    "import os\n",
    "import tensorflow as tf\n",
    "from tensorflow import keras\n",
    "\n",
    "from tensorflow.keras import layers\n",
    "from tensorflow.keras import models"
   ]
  },
  {
   "cell_type": "markdown",
   "id": "4114ecaa-ffca-463d-92c7-7bd5a4664ae8",
   "metadata": {},
   "source": [
    "## CNN model"
   ]
  },
  {
   "cell_type": "code",
   "execution_count": 2,
   "id": "00f5720c-297d-4afc-ac09-333741da36de",
   "metadata": {},
   "outputs": [],
   "source": [
    "model = models.Sequential()\n",
    "model.add(layers.Conv2D(32, (3,3), activation= 'relu', input_shape= (28,28,1) ))\n",
    "model.add(layers.MaxPool2D((2,2)) )\n",
    "model.add(layers.Conv2D(64, (3,3), activation= 'relu' ))\n",
    "model.add(layers.MaxPool2D((2,2)) )\n",
    "model.add(layers.Conv2D(64, (3,3), activation= 'relu' ))"
   ]
  },
  {
   "cell_type": "code",
   "execution_count": 3,
   "id": "8745e166-ea74-4858-8448-a60dd009eb33",
   "metadata": {},
   "outputs": [
    {
     "name": "stdout",
     "output_type": "stream",
     "text": [
      "Model: \"sequential\"\n",
      "_________________________________________________________________\n",
      "Layer (type)                 Output Shape              Param #   \n",
      "=================================================================\n",
      "conv2d (Conv2D)              (None, 26, 26, 32)        320       \n",
      "_________________________________________________________________\n",
      "max_pooling2d (MaxPooling2D) (None, 13, 13, 32)        0         \n",
      "_________________________________________________________________\n",
      "conv2d_1 (Conv2D)            (None, 11, 11, 64)        18496     \n",
      "_________________________________________________________________\n",
      "max_pooling2d_1 (MaxPooling2 (None, 5, 5, 64)          0         \n",
      "_________________________________________________________________\n",
      "conv2d_2 (Conv2D)            (None, 3, 3, 64)          36928     \n",
      "=================================================================\n",
      "Total params: 55,744\n",
      "Trainable params: 55,744\n",
      "Non-trainable params: 0\n",
      "_________________________________________________________________\n"
     ]
    }
   ],
   "source": [
    "model.summary()"
   ]
  },
  {
   "cell_type": "code",
   "execution_count": 4,
   "id": "8cb1ce65-8e61-4d60-be0d-2d4c27b5a61e",
   "metadata": {},
   "outputs": [],
   "source": [
    "model.add(layers.Flatten())\n",
    "model.add(layers.Dense(64, activation= 'relu'))\n",
    "model.add(layers.Dense(10, activation= 'softmax'))"
   ]
  },
  {
   "cell_type": "code",
   "execution_count": 5,
   "id": "8e404c34-7b7b-48ad-a90e-a88d96210989",
   "metadata": {},
   "outputs": [
    {
     "name": "stdout",
     "output_type": "stream",
     "text": [
      "Model: \"sequential\"\n",
      "_________________________________________________________________\n",
      "Layer (type)                 Output Shape              Param #   \n",
      "=================================================================\n",
      "conv2d (Conv2D)              (None, 26, 26, 32)        320       \n",
      "_________________________________________________________________\n",
      "max_pooling2d (MaxPooling2D) (None, 13, 13, 32)        0         \n",
      "_________________________________________________________________\n",
      "conv2d_1 (Conv2D)            (None, 11, 11, 64)        18496     \n",
      "_________________________________________________________________\n",
      "max_pooling2d_1 (MaxPooling2 (None, 5, 5, 64)          0         \n",
      "_________________________________________________________________\n",
      "conv2d_2 (Conv2D)            (None, 3, 3, 64)          36928     \n",
      "_________________________________________________________________\n",
      "flatten (Flatten)            (None, 576)               0         \n",
      "_________________________________________________________________\n",
      "dense (Dense)                (None, 64)                36928     \n",
      "_________________________________________________________________\n",
      "dense_1 (Dense)              (None, 10)                650       \n",
      "=================================================================\n",
      "Total params: 93,322\n",
      "Trainable params: 93,322\n",
      "Non-trainable params: 0\n",
      "_________________________________________________________________\n"
     ]
    }
   ],
   "source": [
    "model.summary()"
   ]
  },
  {
   "cell_type": "markdown",
   "id": "cac473ca-8404-4d3c-aab9-9c487143bada",
   "metadata": {},
   "source": [
    "## MINST Data"
   ]
  },
  {
   "cell_type": "code",
   "execution_count": 6,
   "id": "b086eb48-b160-4065-910e-abbcf2188417",
   "metadata": {},
   "outputs": [],
   "source": [
    "from tensorflow.keras.datasets import mnist\n",
    "from tensorflow.keras.utils import to_categorical\n",
    "\n",
    "(train_images, train_labels), (test_images, test_labels) = mnist.load_data()\n",
    "\n",
    "train_images = train_images.reshape((60000, 28, 28, 1))\n",
    "train_images = train_images.astype('float32')\n",
    "\n",
    "test_images = test_images.reshape((10000, 28, 28, 1))\n",
    "test_images = test_images.astype('float32')\n",
    "\n",
    "train_labels = to_categorical(train_labels)\n",
    "test_labels  = to_categorical(test_labels)"
   ]
  },
  {
   "cell_type": "markdown",
   "id": "20dbf6d9-f396-4bea-94b6-f17a30cfee33",
   "metadata": {},
   "source": [
    "### compile & fit"
   ]
  },
  {
   "cell_type": "code",
   "execution_count": 7,
   "id": "73de8ddb-af99-4435-a061-c2fb9ca78da8",
   "metadata": {},
   "outputs": [
    {
     "name": "stdout",
     "output_type": "stream",
     "text": [
      "Epoch 1/5\n",
      "938/938 [==============================] - 53s 57ms/step - loss: 0.2899 - accuracy: 0.9413\n",
      "Epoch 2/5\n",
      "938/938 [==============================] - 53s 57ms/step - loss: 0.0651 - accuracy: 0.9824\n",
      "Epoch 3/5\n",
      "938/938 [==============================] - 53s 57ms/step - loss: 0.0484 - accuracy: 0.9871\n",
      "Epoch 4/5\n",
      "938/938 [==============================] - 54s 57ms/step - loss: 0.0407 - accuracy: 0.9893\n",
      "Epoch 5/5\n",
      "938/938 [==============================] - 54s 58ms/step - loss: 0.0400 - accuracy: 0.9899\n"
     ]
    },
    {
     "data": {
      "text/plain": [
       "<tensorflow.python.keras.callbacks.History at 0x157b235ac40>"
      ]
     },
     "execution_count": 7,
     "metadata": {},
     "output_type": "execute_result"
    }
   ],
   "source": [
    "model.compile(optimizer= 'rmsprop',\n",
    "              loss= 'categorical_crossentropy',\n",
    "              metrics= ['accuracy'])\n",
    "\n",
    "model.fit(train_images, train_labels, epochs= 5, batch_size= 64)"
   ]
  },
  {
   "cell_type": "markdown",
   "id": "ea2692c4-f44c-4c1c-aa6a-45804175b101",
   "metadata": {},
   "source": [
    "### evaluate"
   ]
  },
  {
   "cell_type": "code",
   "execution_count": 8,
   "id": "f865640a-9730-4414-a88c-b1e7b7babbb6",
   "metadata": {},
   "outputs": [
    {
     "name": "stdout",
     "output_type": "stream",
     "text": [
      "313/313 [==============================] - 3s 8ms/step - loss: 0.0596 - accuracy: 0.9869\n"
     ]
    }
   ],
   "source": [
    "test_loss, test_acc = model.evaluate(test_images, test_labels)"
   ]
  },
  {
   "cell_type": "code",
   "execution_count": 9,
   "id": "01e7f156-5a88-40d9-a5a3-9a102500ae6b",
   "metadata": {},
   "outputs": [
    {
     "data": {
      "text/plain": [
       "0.9868999719619751"
      ]
     },
     "execution_count": 9,
     "metadata": {},
     "output_type": "execute_result"
    }
   ],
   "source": [
    "test_acc"
   ]
  },
  {
   "cell_type": "code",
   "execution_count": null,
   "id": "9c282ce4-818d-443c-a90b-4a944fc7cff9",
   "metadata": {},
   "outputs": [],
   "source": []
  }
 ],
 "metadata": {
  "kernelspec": {
   "display_name": "Python 3.8 - AzureML",
   "language": "python",
   "name": "azureml_py38"
  },
  "language_info": {
   "codemirror_mode": {
    "name": "ipython",
    "version": 3
   },
   "file_extension": ".py",
   "mimetype": "text/x-python",
   "name": "python",
   "nbconvert_exporter": "python",
   "pygments_lexer": "ipython3",
   "version": "3.8.5"
  }
 },
 "nbformat": 4,
 "nbformat_minor": 5
}

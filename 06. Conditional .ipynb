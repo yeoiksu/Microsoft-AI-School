{
 "cells": [
  {
   "cell_type": "code",
   "execution_count": 1,
   "id": "c1078c5f",
   "metadata": {},
   "outputs": [
    {
     "name": "stdout",
     "output_type": "stream",
     "text": [
      "1 ,  2 는 다릅니다\n"
     ]
    }
   ],
   "source": [
    "# a, b = 1, 1\n",
    "a, b = 1, 2\n",
    "\n",
    "\n",
    "if a==b:\n",
    "    print(a,', ', b, \"는 같습니다\")\n",
    "else:\n",
    "    print(a,', ', b, \"는 다릅니다\")"
   ]
  },
  {
   "cell_type": "code",
   "execution_count": 2,
   "id": "3554c3a5",
   "metadata": {},
   "outputs": [
    {
     "name": "stdout",
     "output_type": "stream",
     "text": [
      "1 는 2 보다 작습니다\n"
     ]
    }
   ],
   "source": [
    "if a==b:\n",
    "    print(a,', ', b, \"는 같습니다\")\n",
    "elif a > b:\n",
    "    print(a,'는', b, \"보다 큽니다\")\n",
    "else:\n",
    "    print(a,'는', b, \"보다 작습니다\")"
   ]
  }
 ],
 "metadata": {
  "kernelspec": {
   "display_name": "Python 3 (ipykernel)",
   "language": "python",
   "name": "python3"
  },
  "language_info": {
   "codemirror_mode": {
    "name": "ipython",
    "version": 3
   },
   "file_extension": ".py",
   "mimetype": "text/x-python",
   "name": "python",
   "nbconvert_exporter": "python",
   "pygments_lexer": "ipython3",
   "version": "3.9.12"
  }
 },
 "nbformat": 4,
 "nbformat_minor": 5
}

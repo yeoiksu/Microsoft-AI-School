{
 "cells": [
  {
   "cell_type": "markdown",
   "metadata": {
    "id": "w7pFqAhz_oiw"
   },
   "source": [
    "# 인공신경망\n",
    "실제 인간의 뇌에서 수행되는 신경망 방식을 사용한 컴퓨터 연산 방법   \n",
    "실제 뇌에서 뉴런간 정보 전달 방식을 모델링한 것"
   ]
  },
  {
   "cell_type": "markdown",
   "metadata": {
    "id": "yjZmyyUYBVMw"
   },
   "source": [
    "## 퍼셉트론\n",
    "신경망의 한 종류   \n",
    "\n",
    "입력값 X 를 가중치와 곱해서 모두 더한 값이 임계값 기준이 있는 노드"
   ]
  },
  {
   "cell_type": "code",
   "execution_count": 1,
   "metadata": {
    "id": "aHLVTg_KGFDB"
   },
   "outputs": [],
   "source": [
    "import pandas as pd\n",
    "import torch\n",
    "import pandas as pd\n",
    "from torch import nn\n",
    "from torch import optim\n",
    "from torch.utils.data import Dataset, DataLoader\n",
    "\n",
    "import numpy as np\n",
    "import koreanize_matplotlib\n",
    "import matplotlib.pyplot as plt\n",
    "\n",
    "data = pd.read_csv('data.csv')"
   ]
  },
  {
   "cell_type": "code",
   "execution_count": 2,
   "metadata": {
    "colab": {
     "base_uri": "https://localhost:8080/",
     "height": 424
    },
    "id": "ehWjXxRtG8DY",
    "outputId": "760e1b20-98a3-4d43-b595-1f6406df66bf"
   },
   "outputs": [
    {
     "data": {
      "text/html": [
       "<div>\n",
       "<style scoped>\n",
       "    .dataframe tbody tr th:only-of-type {\n",
       "        vertical-align: middle;\n",
       "    }\n",
       "\n",
       "    .dataframe tbody tr th {\n",
       "        vertical-align: top;\n",
       "    }\n",
       "\n",
       "    .dataframe thead th {\n",
       "        text-align: right;\n",
       "    }\n",
       "</style>\n",
       "<table border=\"1\" class=\"dataframe\">\n",
       "  <thead>\n",
       "    <tr style=\"text-align: right;\">\n",
       "      <th></th>\n",
       "      <th>x1</th>\n",
       "      <th>x2</th>\n",
       "      <th>y</th>\n",
       "    </tr>\n",
       "  </thead>\n",
       "  <tbody>\n",
       "    <tr>\n",
       "      <th>0</th>\n",
       "      <td>True</td>\n",
       "      <td>True</td>\n",
       "      <td>False</td>\n",
       "    </tr>\n",
       "    <tr>\n",
       "      <th>1</th>\n",
       "      <td>True</td>\n",
       "      <td>False</td>\n",
       "      <td>True</td>\n",
       "    </tr>\n",
       "    <tr>\n",
       "      <th>2</th>\n",
       "      <td>True</td>\n",
       "      <td>False</td>\n",
       "      <td>True</td>\n",
       "    </tr>\n",
       "    <tr>\n",
       "      <th>3</th>\n",
       "      <td>True</td>\n",
       "      <td>True</td>\n",
       "      <td>False</td>\n",
       "    </tr>\n",
       "    <tr>\n",
       "      <th>4</th>\n",
       "      <td>True</td>\n",
       "      <td>True</td>\n",
       "      <td>False</td>\n",
       "    </tr>\n",
       "    <tr>\n",
       "      <th>...</th>\n",
       "      <td>...</td>\n",
       "      <td>...</td>\n",
       "      <td>...</td>\n",
       "    </tr>\n",
       "    <tr>\n",
       "      <th>995</th>\n",
       "      <td>True</td>\n",
       "      <td>True</td>\n",
       "      <td>False</td>\n",
       "    </tr>\n",
       "    <tr>\n",
       "      <th>996</th>\n",
       "      <td>True</td>\n",
       "      <td>True</td>\n",
       "      <td>False</td>\n",
       "    </tr>\n",
       "    <tr>\n",
       "      <th>997</th>\n",
       "      <td>False</td>\n",
       "      <td>True</td>\n",
       "      <td>True</td>\n",
       "    </tr>\n",
       "    <tr>\n",
       "      <th>998</th>\n",
       "      <td>False</td>\n",
       "      <td>False</td>\n",
       "      <td>False</td>\n",
       "    </tr>\n",
       "    <tr>\n",
       "      <th>999</th>\n",
       "      <td>False</td>\n",
       "      <td>False</td>\n",
       "      <td>False</td>\n",
       "    </tr>\n",
       "  </tbody>\n",
       "</table>\n",
       "<p>1000 rows × 3 columns</p>\n",
       "</div>"
      ],
      "text/plain": [
       "        x1     x2      y\n",
       "0     True   True  False\n",
       "1     True  False   True\n",
       "2     True  False   True\n",
       "3     True   True  False\n",
       "4     True   True  False\n",
       "..     ...    ...    ...\n",
       "995   True   True  False\n",
       "996   True   True  False\n",
       "997  False   True   True\n",
       "998  False  False  False\n",
       "999  False  False  False\n",
       "\n",
       "[1000 rows x 3 columns]"
      ]
     },
     "execution_count": 2,
     "metadata": {},
     "output_type": "execute_result"
    }
   ],
   "source": [
    "data"
   ]
  },
  {
   "cell_type": "code",
   "execution_count": 3,
   "metadata": {},
   "outputs": [
    {
     "name": "stdout",
     "output_type": "stream",
     "text": [
      "Requirement already satisfied: torch in c:\\users\\user\\anaconda3\\lib\\site-packages (1.13.0)\n",
      "Requirement already satisfied: typing-extensions in c:\\users\\user\\anaconda3\\lib\\site-packages (from torch) (4.1.1)\n"
     ]
    }
   ],
   "source": [
    "!pip install torch"
   ]
  },
  {
   "cell_type": "code",
   "execution_count": 4,
   "metadata": {
    "colab": {
     "base_uri": "https://localhost:8080/"
    },
    "id": "XTv0tKQ5G8cd",
    "outputId": "ef260e48-7021-41fc-866c-5212cadf76b4"
   },
   "outputs": [
    {
     "name": "stdout",
     "output_type": "stream",
     "text": [
      "cpu\n"
     ]
    },
    {
     "name": "stderr",
     "output_type": "stream",
     "text": [
      "C:\\Users\\user\\AppData\\Local\\Temp\\ipykernel_16048\\2109181045.py:16: DeprecationWarning: In future, it will be an error for 'np.bool_' scalars to be interpreted as an index\n",
      "  x = torch.FloatTensor([self.x1[index], self.x2[index]])\n",
      "C:\\Users\\user\\AppData\\Local\\Temp\\ipykernel_16048\\2109181045.py:17: DeprecationWarning: In future, it will be an error for 'np.bool_' scalars to be interpreted as an index\n",
      "  y = torch.FloatTensor([self.y[index]])\n"
     ]
    },
    {
     "name": "stdout",
     "output_type": "stream",
     "text": [
      "Epoch : 1000, Cost : 0.692\n",
      "Epoch : 2000, Cost : 0.692\n",
      "Epoch : 3000, Cost : 0.692\n",
      "Epoch : 4000, Cost : 0.692\n",
      "Epoch : 5000, Cost : 0.693\n",
      "tensor([[0.4678],\n",
      "        [0.5004],\n",
      "        [0.5037],\n",
      "        [0.5364]])\n"
     ]
    }
   ],
   "source": [
    "class CustomDataset(Dataset):\n",
    "    def __init__(self, file_path):\n",
    "        df = pd.read_csv(file_path)\n",
    "        self.x1 = df.iloc[:, 0].values\n",
    "        self.x2 = df.iloc[:,1].values\n",
    "        self.y = df.iloc[:,2].values\n",
    "        self.length = len(df)\n",
    "    \n",
    "    def __getitem__(self, index):\n",
    "        x = torch.FloatTensor([self.x1[index], self.x2[index]])\n",
    "        y = torch.FloatTensor([self.y[index]])\n",
    "        return x,y\n",
    "\n",
    "    def __len__(self):\n",
    "        return self.length\n",
    "\n",
    "\n",
    "class CustomModel(nn.Module):\n",
    "    def __init__(self):\n",
    "        super(CustomModel, self).__init__()\n",
    "\n",
    "        self.layer = nn.Sequential(\n",
    "            nn.Linear(2,1),\n",
    "            nn.Sigmoid()\n",
    "        )\n",
    "\n",
    "    def forward(self, x):\n",
    "        x = self.layer(x)\n",
    "        return x\n",
    "\n",
    "train_dataset = CustomDataset('data.csv')\n",
    "train_dataloader = DataLoader(train_dataset, batch_size=64, shuffle=True, drop_last=True)\n",
    "\n",
    "device = 'cuda' if torch.cuda.is_available() else 'cpu'\n",
    "print(device)\n",
    "\n",
    "model = CustomModel().to(device)\n",
    "criterion = nn.BCELoss().to(device)\n",
    "optimizer = optim.SGD(model.parameters(), lr=0.01)\n",
    "\n",
    "for epoch in range(5000):\n",
    "    cost = 0.0\n",
    "    for x,y in train_dataloader:\n",
    "        x = x.to(device)\n",
    "        y = y.to(device)\n",
    "\n",
    "        output = model(x)\n",
    "        loss = criterion(output, y)\n",
    "\n",
    "        optimizer.zero_grad()\n",
    "        loss.backward()\n",
    "        optimizer.step()\n",
    "\n",
    "        cost += loss\n",
    "\n",
    "    cost = cost/len(train_dataloader)\n",
    "\n",
    "    if (epoch + 1) % 1000 ==0:\n",
    "        print(f'Epoch : {epoch+1:4d}, Cost : {cost:.3f}')\n",
    "\n",
    "with torch.no_grad():\n",
    "    model.eval()\n",
    "    input = torch.FloatTensor([\n",
    "        [0,0],\n",
    "        [0,1],\n",
    "        [1,0],\n",
    "        [1,1]\n",
    "    ]).to(device)\n",
    "    \n",
    "    outputs = model(input)\n",
    "\n",
    "print(outputs)"
   ]
  },
  {
   "cell_type": "code",
   "execution_count": 5,
   "metadata": {
    "id": "YnwDgwTvOeL3"
   },
   "outputs": [],
   "source": [
    "class fruit():\n",
    "    def __init__(self) -> None:\n",
    "        self._cnt = 0\n",
    "        self._name = []\n",
    "\n",
    "    def add_fruit(self, name, size):\n",
    "        self._name.append(name)\n",
    "        self._cnt += 1\n",
    "        return True\n",
    "\n",
    "    def set_fruit(self, new_name):\n",
    "        self._name = new_name\n",
    "\n",
    "    def get_item(self):\n",
    "        return self._name\n",
    "\n",
    "    def __len__(self):\n",
    "        return self._cnt"
   ]
  },
  {
   "cell_type": "code",
   "execution_count": 6,
   "metadata": {
    "id": "Qad4EIrSPR07"
   },
   "outputs": [],
   "source": [
    "fruit_class = fruit()"
   ]
  },
  {
   "cell_type": "code",
   "execution_count": 7,
   "metadata": {
    "colab": {
     "base_uri": "https://localhost:8080/"
    },
    "id": "gSpjRVWHPXmq",
    "outputId": "94f53441-c541-46f8-8a7b-00a2e1f2362d"
   },
   "outputs": [
    {
     "data": {
      "text/plain": [
       "True"
      ]
     },
     "execution_count": 7,
     "metadata": {},
     "output_type": "execute_result"
    }
   ],
   "source": [
    "fruit_class.add_fruit('apple',10)\n",
    "fruit_class.add_fruit('banana',10)\n",
    "fruit_class.add_fruit('orange',10)"
   ]
  },
  {
   "cell_type": "code",
   "execution_count": 8,
   "metadata": {
    "colab": {
     "base_uri": "https://localhost:8080/"
    },
    "id": "X3KkrG0uPhPl",
    "outputId": "bae867af-3380-42fe-9d64-6987cb807e13"
   },
   "outputs": [
    {
     "data": {
      "text/plain": [
       "3"
      ]
     },
     "execution_count": 8,
     "metadata": {},
     "output_type": "execute_result"
    }
   ],
   "source": [
    "len(fruit_class)"
   ]
  },
  {
   "cell_type": "code",
   "execution_count": 9,
   "metadata": {
    "colab": {
     "base_uri": "https://localhost:8080/"
    },
    "id": "6zgySpZFPyky",
    "outputId": "1514cefb-ec55-4690-c851-fdcf9c563bde"
   },
   "outputs": [
    {
     "data": {
      "text/plain": [
       "['__class__',\n",
       " '__delattr__',\n",
       " '__dict__',\n",
       " '__dir__',\n",
       " '__doc__',\n",
       " '__eq__',\n",
       " '__format__',\n",
       " '__ge__',\n",
       " '__getattribute__',\n",
       " '__gt__',\n",
       " '__hash__',\n",
       " '__init__',\n",
       " '__init_subclass__',\n",
       " '__le__',\n",
       " '__len__',\n",
       " '__lt__',\n",
       " '__module__',\n",
       " '__ne__',\n",
       " '__new__',\n",
       " '__reduce__',\n",
       " '__reduce_ex__',\n",
       " '__repr__',\n",
       " '__setattr__',\n",
       " '__sizeof__',\n",
       " '__str__',\n",
       " '__subclasshook__',\n",
       " '__weakref__',\n",
       " '_cnt',\n",
       " '_name',\n",
       " 'add_fruit',\n",
       " 'get_item',\n",
       " 'set_fruit']"
      ]
     },
     "execution_count": 9,
     "metadata": {},
     "output_type": "execute_result"
    }
   ],
   "source": [
    "dir(fruit_class)"
   ]
  },
  {
   "cell_type": "code",
   "execution_count": 10,
   "metadata": {
    "colab": {
     "base_uri": "https://localhost:8080/"
    },
    "id": "z3c_1VaqQkXV",
    "outputId": "44f103d7-6377-436c-c832-71d68a3aa708"
   },
   "outputs": [
    {
     "data": {
      "text/plain": [
       "['apple', 'banana', 'orange']"
      ]
     },
     "execution_count": 10,
     "metadata": {},
     "output_type": "execute_result"
    }
   ],
   "source": [
    "fruit_class.get_item()"
   ]
  },
  {
   "cell_type": "code",
   "execution_count": 11,
   "metadata": {
    "id": "U4meZ2qFQoLo"
   },
   "outputs": [],
   "source": [
    "fruit_class.name = ['1','2','3']"
   ]
  },
  {
   "cell_type": "code",
   "execution_count": 12,
   "metadata": {
    "colab": {
     "base_uri": "https://localhost:8080/"
    },
    "id": "FwHFt4kcQqIi",
    "outputId": "fa9866bf-7a0f-48a3-ba0c-efdd588de71c"
   },
   "outputs": [
    {
     "data": {
      "text/plain": [
       "['1', '2', '3']"
      ]
     },
     "execution_count": 12,
     "metadata": {},
     "output_type": "execute_result"
    }
   ],
   "source": [
    "fruit_class.name"
   ]
  },
  {
   "cell_type": "markdown",
   "metadata": {
    "id": "KdfxChMeRKLH"
   },
   "source": [
    "### 다층퍼셉트론 모델"
   ]
  },
  {
   "cell_type": "code",
   "execution_count": 13,
   "metadata": {
    "colab": {
     "base_uri": "https://localhost:8080/"
    },
    "id": "4GorBK-KVvnu",
    "outputId": "f7490f8d-0bdc-42e4-eb33-d923639de666"
   },
   "outputs": [
    {
     "name": "stdout",
     "output_type": "stream",
     "text": [
      "cpu\n"
     ]
    },
    {
     "name": "stderr",
     "output_type": "stream",
     "text": [
      "C:\\Users\\user\\AppData\\Local\\Temp\\ipykernel_16048\\289825597.py:16: DeprecationWarning: In future, it will be an error for 'np.bool_' scalars to be interpreted as an index\n",
      "  x = torch.FloatTensor([self.x1[index], self.x2[index]])\n",
      "C:\\Users\\user\\AppData\\Local\\Temp\\ipykernel_16048\\289825597.py:17: DeprecationWarning: In future, it will be an error for 'np.bool_' scalars to be interpreted as an index\n",
      "  y = torch.FloatTensor([self.y[index]])\n"
     ]
    },
    {
     "name": "stdout",
     "output_type": "stream",
     "text": [
      "Epoch : 1000, Cost : 0.693\n",
      "Epoch : 2000, Cost : 0.693\n",
      "Epoch : 3000, Cost : 0.693\n",
      "Epoch : 4000, Cost : 0.693\n",
      "Epoch : 5000, Cost : 0.690\n",
      "tensor([[0.4655],\n",
      "        [0.5090],\n",
      "        [0.4959],\n",
      "        [0.5358]])\n",
      "tensor([[ True],\n",
      "        [False],\n",
      "        [ True],\n",
      "        [False]])\n"
     ]
    }
   ],
   "source": [
    "class CustomDataset(Dataset):\n",
    "    def __init__(self, file_path):\n",
    "        df = pd.read_csv(file_path)\n",
    "        self.x1 = df.iloc[:, 0].values\n",
    "        self.x2 = df.iloc[:,1].values\n",
    "        self.y = df.iloc[:,2].values\n",
    "        self.length = len(df)\n",
    "\n",
    "    def __getitem__(self, index):\n",
    "        x = torch.FloatTensor([self.x1[index], self.x2[index]])\n",
    "        y = torch.FloatTensor([self.y[index]])\n",
    "        return x,y\n",
    "\n",
    "    def __len__(self):\n",
    "        return self.length\n",
    "\n",
    "\n",
    "class CustomModel(nn.Module):\n",
    "    def __init__(self):\n",
    "        super(CustomModel, self).__init__()\n",
    "\n",
    "        self.layer1 = nn.Sequential(\n",
    "            nn.Linear(2,2),\n",
    "            nn.Sigmoid()\n",
    "        )\n",
    "        self.layer2 = nn.Sequential(\n",
    "            nn.Linear(2,1),\n",
    "            nn.Sigmoid()\n",
    "        )\n",
    "\n",
    "    def forward(self, x):\n",
    "        x = self.layer1(x)\n",
    "        x = self.layer2(x)\n",
    "        return x\n",
    "\n",
    "train_dataset = CustomDataset('data.csv')\n",
    "train_dataloader = DataLoader(train_dataset, batch_size=64, shuffle=True, drop_last=True)\n",
    "\n",
    "device = 'cuda' if torch.cuda.is_available() else 'cpu'\n",
    "print(device)\n",
    "\n",
    "model = CustomModel().to(device)\n",
    "criterion = nn.BCELoss().to(device)\n",
    "optimizer = optim.SGD(model.parameters(), lr=0.01)\n",
    "\n",
    "for epoch in range(5000):\n",
    "    cost = 0.0\n",
    "    for x,y in train_dataloader:\n",
    "        x = x.to(device)\n",
    "        y = y.to(device)\n",
    "\n",
    "        output = model(x)\n",
    "        loss = criterion(output, y)\n",
    "\n",
    "        optimizer.zero_grad()\n",
    "        loss.backward()\n",
    "        optimizer.step()\n",
    "\n",
    "        cost += loss\n",
    "\n",
    "    cost = cost/len(train_dataloader)\n",
    "\n",
    "    if (epoch + 1) % 1000 ==0:\n",
    "        print(f'Epoch : {epoch+1:4d}, Cost : {cost:.3f}')\n",
    "\n",
    "with torch.no_grad():\n",
    "    model.eval()\n",
    "    input = torch.FloatTensor([\n",
    "          [0,0],\n",
    "          [0,1],\n",
    "          [1,0],\n",
    "          [1,1]\n",
    "      ]).to(device)\n",
    "\n",
    "    outputs = model(input)\n",
    "\n",
    "print(outputs)\n",
    "print(outputs<=0.5)"
   ]
  },
  {
   "cell_type": "code",
   "execution_count": 2,
   "metadata": {
    "colab": {
     "base_uri": "https://localhost:8080/",
     "height": 354
    },
    "id": "k1uK33XyaZyX",
    "outputId": "fa46d0d6-88cc-4add-8086-456d0cad0d1d"
   },
   "outputs": [
    {
     "name": "stderr",
     "output_type": "stream",
     "text": [
      "C:\\Users\\user\\AppData\\Local\\Temp\\ipykernel_10256\\3535028305.py:2: DeprecationWarning: `np.int` is a deprecated alias for the builtin `int`. To silence this warning, use `int` by itself. Doing this will not modify any behavior and is safe. When replacing `np.int`, you may wish to use e.g. `np.int64` or `np.int32` to specify the precision. If you wish to review your current use, check the release note link for additional information.\n",
      "Deprecated in NumPy 1.20; for more details and guidance: https://numpy.org/devdocs/release/1.20.0-notes.html#deprecations\n",
      "  return np.array(x >0, dtype=np.int)\n"
     ]
    },
    {
     "data": {
      "image/png": "[encoded data removed]",
      "text/plain": [
       "<Figure size 432x288 with 1 Axes>"
      ]
     },
     "metadata": {
      "needs_background": "light"
     },
     "output_type": "display_data"
    }
   ],
   "source": [
    "def step(x):\n",
    "    return np.array(x >0, dtype=np.int)\n",
    "\n",
    "x = np.arange(-5.0,5.0,0.1)\n",
    "y = step(x)\n",
    "plt.title('Step Function')\n",
    "plt.plot(x,y)\n",
    "plt.show()"
   ]
  },
  {
   "cell_type": "code",
   "execution_count": 3,
   "metadata": {
    "colab": {
     "base_uri": "https://localhost:8080/",
     "height": 279
    },
    "id": "mniKD2y_a2Yu",
    "outputId": "fab7e69b-9f83-4189-afae-0e3939250095"
   },
   "outputs": [
    {
     "data": {
      "image/png": "[encoded data removed]",
      "text/plain": [
       "<Figure size 432x288 with 1 Axes>"
      ]
     },
     "metadata": {
      "needs_background": "light"
     },
     "output_type": "display_data"
    }
   ],
   "source": [
    "# 시크모이드 함수\n",
    "def sigmoid(x):\n",
    "    return 1/(1+np.exp(-x))\n",
    "\n",
    "x = np.arange(-5.0, 5.0, 0.1)\n",
    "y = sigmoid(x)\n",
    "plt.plot(x,y)\n",
    "plt.title('Sigmoid Function')\n",
    "plt.show()"
   ]
  },
  {
   "cell_type": "code",
   "execution_count": 4,
   "metadata": {
    "colab": {
     "base_uri": "https://localhost:8080/",
     "height": 279
    },
    "id": "0U8eL-yLbvI9",
    "outputId": "6e6d9d83-7bba-4ceb-bba0-cb8287d849e0"
   },
   "outputs": [
    {
     "data": {
      "image/png": "[encoded data removed]",
      "text/plain": [
       "<Figure size 432x288 with 1 Axes>"
      ]
     },
     "metadata": {
      "needs_background": "light"
     },
     "output_type": "display_data"
    }
   ],
   "source": [
    "x = np.arange(-5.0,5.0,0.1)\n",
    "y = np.tanh(x)\n",
    "plt.plot(x,y)\n",
    "plt.grid()\n",
    "plt.title('Tanh function')\n",
    "plt.show()"
   ]
  },
  {
   "cell_type": "code",
   "execution_count": 5,
   "metadata": {},
   "outputs": [
    {
     "data": {
      "image/png": "[encoded data removed]",
      "text/plain": [
       "<Figure size 432x288 with 1 Axes>"
      ]
     },
     "metadata": {
      "needs_background": "light"
     },
     "output_type": "display_data"
    }
   ],
   "source": [
    "# ReLU\n",
    "def relu(x):\n",
    "    return np.maximum(0,x)\n",
    "\n",
    "x = np.arange(-5.0, 5.0, 0.1)\n",
    "plt.plot(x,relu(x))\n",
    "plt.grid()\n",
    "plt.title('ReLU Function')\n",
    "plt.show()"
   ]
  },
  {
   "cell_type": "code",
   "execution_count": 6,
   "metadata": {},
   "outputs": [
    {
     "data": {
      "image/png": "[encoded data removed]",
      "text/plain": [
       "<Figure size 432x288 with 1 Axes>"
      ]
     },
     "metadata": {
      "needs_background": "light"
     },
     "output_type": "display_data"
    }
   ],
   "source": [
    "# Softmax\n",
    "x = np.arange(-5.0,5.0,0.1)\n",
    "y = np.exp(x)/np.sum(np.exp(x))\n",
    "\n",
    "plt.plot(x,y)\n",
    "plt.title('Softmax Function')\n",
    "plt.show()"
   ]
  }
 ],
 "metadata": {
  "accelerator": "GPU",
  "colab": {
   "provenance": []
  },
  "gpuClass": "standard",
  "kernelspec": {
   "display_name": "Python 3 (ipykernel)",
   "language": "python",
   "name": "python3"
  },
  "language_info": {
   "codemirror_mode": {
    "name": "ipython",
    "version": 3
   },
   "file_extension": ".py",
   "mimetype": "text/x-python",
   "name": "python",
   "nbconvert_exporter": "python",
   "pygments_lexer": "ipython3",
   "version": "3.9.12"
  }
 },
 "nbformat": 4,
 "nbformat_minor": 1
}
